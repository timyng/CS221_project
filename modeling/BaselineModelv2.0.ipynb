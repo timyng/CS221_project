{
 "cells": [
  {
   "cell_type": "code",
   "execution_count": 98,
   "metadata": {
    "collapsed": false
   },
   "outputs": [],
   "source": [
    "import sys\n",
    "import sklearn\n",
    "import numpy as np\n",
    "import pandas as pd\n",
    "from sklearn.linear_model import LinearRegression\n",
    "from sklearn.metrics import mean_squared_error, r2_score\n",
    "from sklearn.preprocessing import OneHotEncoder\n",
    "from sklearn import preprocessing\n",
    "from sklearn.model_selection import cross_val_score\n",
    "from sklearn.model_selection import train_test_split\n",
    "import csv"
   ]
  },
  {
   "cell_type": "markdown",
   "metadata": {},
   "source": [
    "# Data Cleaning"
   ]
  },
  {
   "cell_type": "code",
   "execution_count": 22,
   "metadata": {
    "collapsed": true
   },
   "outputs": [],
   "source": [
    "# Helper functions\n",
    "def convert_si_to_number(x):\n",
    "    total_stars = 0\n",
    "    if 'k' in x:\n",
    "        if len(x) > 1:\n",
    "            total_stars = float(x.replace('k', '')) * 1000 # convert k to a thousand\n",
    "    elif 'M' in x:\n",
    "        if len(x) > 1:\n",
    "            total_stars = float(x.replace('M', '')) * 1000000 # convert M to a million\n",
    "    elif 'B' in x:\n",
    "        total_stars = float(x.replace('B', '')) * 1000000000 # convert B to a Billion\n",
    "    else:\n",
    "        total_stars = int(x) # Less than 1000\n",
    "    \n",
    "    return int(total_stars)"
   ]
  },
  {
   "cell_type": "code",
   "execution_count": 23,
   "metadata": {
    "collapsed": false
   },
   "outputs": [],
   "source": [
    "# Read file\n",
    "filename = \"30000-40000.csv\"\n",
    "file = open(\"../data/30000-40000.csv\")\n",
    "reader = csv.reader(file)\n",
    "i = 0\n",
    "y = []\n",
    "X = []\n",
    "names = []\n",
    "for row in reader:\n",
    "    if len(row) < 6: # exclude data missing fields\n",
    "        continue\n",
    "    name = row[0]\n",
    "    location = row[1]\n",
    "    score = row[2]\n",
    "    reviews = row[3]\n",
    "    salaries = row[4]\n",
    "    interviews = row[5]\n",
    "    if len(location.split(\",\")) < 2: # exclude data missing states or cities\n",
    "        continue\n",
    "    \n",
    "    names.append(name)\n",
    "        \n",
    "    # X features\n",
    "    feature = []\n",
    "    city = location.split(\",\")[0]\n",
    "    state = location.split(\",\")[1]\n",
    "    feature.append(city)\n",
    "    feature.append(state)\n",
    "    feature.append(convert_si_to_number(reviews))\n",
    "    if salaries == '--':\n",
    "        feature.append(0)\n",
    "    else:\n",
    "        feature.append(convert_si_to_number(salaries))\n",
    "    if interviews == '--':\n",
    "        feature.append(0)\n",
    "    else:\n",
    "        feature.append(convert_si_to_number(interviews))\n",
    "    X.append(feature)\n",
    "\n",
    "    # y labels\n",
    "    y.append(score)\n",
    "    \n",
    "    i = i + 1"
   ]
  },
  {
   "cell_type": "code",
   "execution_count": 24,
   "metadata": {
    "collapsed": false
   },
   "outputs": [],
   "source": [
    "# Convert to pandas dataframe\n",
    "X = np.array(X)\n",
    "y = np.array(y)\n",
    "X = pd.DataFrame({'City': X[:, 0], 'State': X[:, 1], 'Reviews': X[:, 2], 'Salaries': X[:, 3], 'Interviews': X[:, 4]})"
   ]
  },
  {
   "cell_type": "code",
   "execution_count": 32,
   "metadata": {
    "collapsed": false
   },
   "outputs": [
    {
     "data": {
      "text/plain": [
       "(12051, 5)"
      ]
     },
     "execution_count": 32,
     "metadata": {},
     "output_type": "execute_result"
    }
   ],
   "source": [
    "# Drop rows with NA fields\n",
    "X = X.dropna()\n",
    "X.shape"
   ]
  },
  {
   "cell_type": "code",
   "execution_count": 79,
   "metadata": {
    "collapsed": false
   },
   "outputs": [],
   "source": [
    "# Label Encoder\n",
    "categorical_feature_mask = X.dtypes==object\n",
    "categorical_cols = X.columns[[0, 4]].tolist()\n",
    "X[categorical_cols] = X[categorical_cols].apply(lambda col: le.fit_transform(col))"
   ]
  },
  {
   "cell_type": "code",
   "execution_count": 93,
   "metadata": {
    "collapsed": false
   },
   "outputs": [],
   "source": [
    "# One hot encoding\n",
    "# enc = preprocessing.OneHotEncoder()\n",
    "# enc.fit(X_2)\n",
    "# X_3 = enc.transform(X_2).toarray()\n",
    "# X_3.shape\n",
    "ohe = OneHotEncoder(categorical_features=[0, 4])\n",
    "X_2 = ohe.fit_transform(X)"
   ]
  },
  {
   "cell_type": "code",
   "execution_count": 94,
   "metadata": {
    "collapsed": false
   },
   "outputs": [],
   "source": [
    "# Convert to floats\n",
    "X_2 = X_2.astype(np.float)\n",
    "y = y.astype(np.float)"
   ]
  },
  {
   "cell_type": "markdown",
   "metadata": {},
   "source": [
    "# Modeling"
   ]
  },
  {
   "cell_type": "code",
   "execution_count": 125,
   "metadata": {
    "collapsed": false
   },
   "outputs": [
    {
     "data": {
      "text/plain": [
       "0.4601820284546266"
      ]
     },
     "execution_count": 125,
     "metadata": {},
     "output_type": "execute_result"
    }
   ],
   "source": [
    "# WITH NON-LOCATION DATA\n",
    "X_Experimental = X_2.toarray()[:,-3:]\n",
    "x_train, x_test, y_train, y_test = train_test_split(X_Experimental, y, test_size=0.2)\n",
    "model = LinearRegression()\n",
    "model.fit(x_train, y_train)\n",
    "predictions = model.predict(x_test)\n",
    "error = mean_squared_error(y_test, predictions)\n",
    "error"
   ]
  },
  {
   "cell_type": "code",
   "execution_count": 124,
   "metadata": {
    "collapsed": false
   },
   "outputs": [
    {
     "data": {
      "text/plain": [
       "0.5193406921464706"
      ]
     },
     "execution_count": 124,
     "metadata": {},
     "output_type": "execute_result"
    }
   ],
   "source": [
    "# WITH LOCATION DATA\n",
    "# Train, test, split, calcualte error\n",
    "x_train, x_test, y_train, y_test = train_test_split(X_2, y, test_size=0.2)\n",
    "model = LinearRegression()\n",
    "model.fit(x_train, y_train)\n",
    "predictions = model.predict(x_test)\n",
    "error = mean_squared_error(y_test, predictions)\n",
    "error"
   ]
  },
  {
   "cell_type": "code",
   "execution_count": 107,
   "metadata": {
    "collapsed": false
   },
   "outputs": [
    {
     "data": {
      "text/plain": [
       "array([-0.49178862, -0.53366115, -0.52459808, -0.52376639, -0.53658507])"
      ]
     },
     "execution_count": 107,
     "metadata": {},
     "output_type": "execute_result"
    }
   ],
   "source": [
    "# Test model using 5 fold cross validation\n",
    "model = LinearRegression()\n",
    "scores = cross_val_score(model, X_2, y, cv=5, scoring = \"neg_mean_squared_error\") # also use R^2\n",
    "scores"
   ]
  },
  {
   "cell_type": "code",
   "execution_count": 84,
   "metadata": {
    "collapsed": false
   },
   "outputs": [
    {
     "data": {
      "text/plain": [
       "LinearRegression(copy_X=True, fit_intercept=True, n_jobs=1, normalize=False)"
      ]
     },
     "execution_count": 84,
     "metadata": {},
     "output_type": "execute_result"
    }
   ],
   "source": [
    "# Train model on training data\n",
    "model = LinearRegression()\n",
    "model.fit(X_2, y)"
   ]
  },
  {
   "cell_type": "code",
   "execution_count": 88,
   "metadata": {
    "collapsed": false
   },
   "outputs": [],
   "source": [
    "# Make predictions\n",
    "predictions = model.predict(X_2)"
   ]
  },
  {
   "cell_type": "code",
   "execution_count": 86,
   "metadata": {
    "collapsed": false
   },
   "outputs": [
    {
     "data": {
      "text/plain": [
       "(0.3475201663575248,\n",
       " array([-8.63861463e-01, -1.59436776e-01,  7.42368542e-01, ...,\n",
       "         6.88801126e-03, -1.46312267e-03, -2.93404668e-04]),\n",
       " 3.3865073437888973)"
      ]
     },
     "execution_count": 86,
     "metadata": {},
     "output_type": "execute_result"
    }
   ],
   "source": [
    "# Calculate statistics on training data\n",
    "error = mean_squared_error(y, predictions)\n",
    "w = model.coef_\n",
    "b = model.intercept_\n",
    "error, w, b"
   ]
  },
  {
   "cell_type": "markdown",
   "metadata": {},
   "source": [
    "# Results"
   ]
  },
  {
   "cell_type": "markdown",
   "metadata": {},
   "source": [
    "Features without location: \n",
    "error, w, b is (0.45079620978786505,\n",
    " array([ 0.00647003, -0.00115187, -0.00028681]),\n",
    " 3.3909317414654145)\n",
    "\n",
    "5-fold cross validation returns\n",
    "array([-0.44058222, -0.46424376, -0.44806606, -0.44477971, -0.45780714])\n",
    "\n",
    " \n",
    "All features: \n",
    "error, w, b is (0.3475201663575248,\n",
    " array([-8.63861463e-01, -1.59436776e-01,  7.42368542e-01, ...,\n",
    "         6.88801126e-03, -1.46312267e-03, -2.93404668e-04]),\n",
    " 3.3865073437888973)\n",
    "\n",
    "5-fold cross validation returns\n",
    "array([-0.49178862, -0.53366115, -0.52459808, -0.52376639, -0.53658507])"
   ]
  },
  {
   "cell_type": "code",
   "execution_count": null,
   "metadata": {
    "collapsed": true
   },
   "outputs": [],
   "source": []
  }
 ],
 "metadata": {
  "anaconda-cloud": {},
  "kernelspec": {
   "display_name": "Python [default]",
   "language": "python",
   "name": "python3"
  },
  "language_info": {
   "codemirror_mode": {
    "name": "ipython",
    "version": 3
   },
   "file_extension": ".py",
   "mimetype": "text/x-python",
   "name": "python",
   "nbconvert_exporter": "python",
   "pygments_lexer": "ipython3",
   "version": "3.5.2"
  }
 },
 "nbformat": 4,
 "nbformat_minor": 1
}
