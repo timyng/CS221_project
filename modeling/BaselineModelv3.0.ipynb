{
 "cells": [
  {
   "cell_type": "code",
   "execution_count": 103,
   "metadata": {
    "collapsed": false
   },
   "outputs": [],
   "source": [
    "import sys\n",
    "import sklearn\n",
    "import numpy as np\n",
    "import pandas as pd\n",
    "from sklearn.linear_model import LinearRegression\n",
    "from sklearn.metrics import mean_squared_error, r2_score\n",
    "from sklearn.preprocessing import LabelEncoder\n",
    "from sklearn.preprocessing import OneHotEncoder\n",
    "from sklearn import preprocessing\n",
    "from sklearn.model_selection import cross_val_score\n",
    "from sklearn.model_selection import train_test_split\n",
    "import csv"
   ]
  },
  {
   "cell_type": "markdown",
   "metadata": {},
   "source": [
    "# Data Cleaning"
   ]
  },
  {
   "cell_type": "code",
   "execution_count": 104,
   "metadata": {
    "collapsed": true
   },
   "outputs": [],
   "source": [
    "# Helper functions\n",
    "def convert_si_to_number(x):\n",
    "    total_stars = 0\n",
    "    if 'k' in x:\n",
    "        if len(x) > 1:\n",
    "            total_stars = float(x.replace('k', '')) * 1000 # convert k to a thousand\n",
    "    elif 'M' in x:\n",
    "        if len(x) > 1:\n",
    "            total_stars = float(x.replace('M', '')) * 1000000 # convert M to a million\n",
    "    elif 'B' in x:\n",
    "        total_stars = float(x.replace('B', '')) * 1000000000 # convert B to a Billion\n",
    "    else:\n",
    "        total_stars = int(x) # Less than 1000\n",
    "    \n",
    "    return int(total_stars)"
   ]
  },
  {
   "cell_type": "code",
   "execution_count": 105,
   "metadata": {
    "collapsed": false
   },
   "outputs": [],
   "source": [
    "# Read file\n",
    "file = open(\"../data/merged.csv\")\n",
    "reader = csv.reader(file)\n",
    "i = 0\n",
    "y = []\n",
    "X = []\n",
    "names = []\n",
    "next(reader)\n",
    "for row in reader:\n",
    "    name = row[1]\n",
    "    industry = row[4]\n",
    "    size_range = row[5]\n",
    "    location = row[6].split(\",\")\n",
    "    city = location[0].strip()\n",
    "    state = location[1].strip()\n",
    "    currentEmployeeEstimate = row[9]\n",
    "    totalEmployeeEstimate = row[10]\n",
    "    score = row[11]\n",
    "    reviews = row[12]\n",
    "    salaries = row[13]\n",
    "    interviews = row[14]\n",
    "    reviews = 0 if reviews == \"--\" else reviews\n",
    "    salaries = 0 if salaries == \"--\" else salaries\n",
    "    interviews = 0 if interviews == \"--\" else interviews\n",
    "    \n",
    "    i = i + 1\n",
    "    \n",
    "    # Add names\n",
    "    names.append(name)\n",
    "    \n",
    "    # Add y labels\n",
    "    y.append(score)\n",
    "    \n",
    "    # Add x features\n",
    "    X.append([industry, size_range, city, state, currentEmployeeEstimate, totalEmployeeEstimate, reviews, salaries, interviews])"
   ]
  },
  {
   "cell_type": "code",
   "execution_count": 106,
   "metadata": {
    "collapsed": false
   },
   "outputs": [
    {
     "data": {
      "text/plain": [
       "['retail',\n",
       " '10001+',\n",
       " 'withee',\n",
       " 'wisconsin',\n",
       " '120753',\n",
       " '272827',\n",
       " '48000.0',\n",
       " '56000.0',\n",
       " '9000.0']"
      ]
     },
     "execution_count": 106,
     "metadata": {},
     "output_type": "execute_result"
    }
   ],
   "source": [
    "X[0]"
   ]
  },
  {
   "cell_type": "code",
   "execution_count": 107,
   "metadata": {
    "collapsed": false
   },
   "outputs": [],
   "source": [
    "# Convert to pandas dataframe\n",
    "X = np.array(X)\n",
    "y = np.array(y)\n",
    "X = pd.DataFrame({'Industry': X[:, 0], 'Size_Range': X[:, 1], 'City': X[:, 2], 'State': X[:, 3], 'CurrentEmployeeEstimate': X[:, 4], 'TotalEmployeeEstimate': X[:, 5], 'Reviews': X[:, 6], 'Salaries': X[:, 7], 'Interviews': X[:, 8]})"
   ]
  },
  {
   "cell_type": "code",
   "execution_count": 108,
   "metadata": {
    "collapsed": false
   },
   "outputs": [
    {
     "data": {
      "text/plain": [
       "(34758, 9)"
      ]
     },
     "execution_count": 108,
     "metadata": {},
     "output_type": "execute_result"
    }
   ],
   "source": [
    "X.shape"
   ]
  },
  {
   "cell_type": "code",
   "execution_count": 109,
   "metadata": {
    "collapsed": false
   },
   "outputs": [],
   "source": [
    "# Label Encoder\n",
    "le = LabelEncoder()\n",
    "categorical_feature_mask = X.dtypes==object\n",
    "categorical_cols = X.columns[[0, 2, 6, 7]].tolist()\n",
    "X[categorical_cols] = X[categorical_cols].apply(lambda col: le.fit_transform(col))"
   ]
  },
  {
   "cell_type": "code",
   "execution_count": 110,
   "metadata": {
    "collapsed": false
   },
   "outputs": [],
   "source": [
    "# One hot encoding\n",
    "# enc = preprocessing.OneHotEncoder()\n",
    "# enc.fit(X_2)\n",
    "# X_3 = enc.transform(X_2).toarray()\n",
    "# X_3.shape\n",
    "ohe = OneHotEncoder(categorical_features=[0, 2, 6, 7])\n",
    "X_2 = ohe.fit_transform(X)"
   ]
  },
  {
   "cell_type": "code",
   "execution_count": 111,
   "metadata": {
    "collapsed": false
   },
   "outputs": [],
   "source": [
    "# Convert to floats\n",
    "X_2 = X_2.astype(np.float)\n",
    "y = y.astype(np.float)"
   ]
  },
  {
   "cell_type": "markdown",
   "metadata": {},
   "source": [
    "# Modeling"
   ]
  },
  {
   "cell_type": "code",
   "execution_count": 112,
   "metadata": {
    "collapsed": false
   },
   "outputs": [
    {
     "data": {
      "text/plain": [
       "0.46818095475936455"
      ]
     },
     "execution_count": 112,
     "metadata": {},
     "output_type": "execute_result"
    }
   ],
   "source": [
    "# WITH 1 FEATURE\n",
    "X_Experimental = X_2.toarray()[:,-1:]\n",
    "x_train, x_test, y_train, y_test = train_test_split(X_Experimental, y, test_size=0.2)\n",
    "model = LinearRegression()\n",
    "model.fit(x_train, y_train)\n",
    "predictions = model.predict(x_test)\n",
    "error = mean_squared_error(y_test, predictions)\n",
    "error"
   ]
  },
  {
   "cell_type": "code",
   "execution_count": 113,
   "metadata": {
    "collapsed": false
   },
   "outputs": [
    {
     "data": {
      "text/plain": [
       "array([-0.32300821, -0.41824997, -0.46637291, -0.53849636, -0.59160542])"
      ]
     },
     "execution_count": 113,
     "metadata": {},
     "output_type": "execute_result"
    }
   ],
   "source": [
    "model = LinearRegression()\n",
    "scores = cross_val_score(model, X_Experimental, y, cv=5, scoring = \"neg_mean_squared_error\") # also use R^2\n",
    "scores"
   ]
  },
  {
   "cell_type": "code",
   "execution_count": 114,
   "metadata": {
    "collapsed": false
   },
   "outputs": [
    {
     "data": {
      "text/plain": [
       "0.47111310002495976"
      ]
     },
     "execution_count": 114,
     "metadata": {},
     "output_type": "execute_result"
    }
   ],
   "source": [
    "# WITH ALL FEATURES WITHOUT ONE HOT ENCODING\n",
    "x_train, x_test, y_train, y_test = train_test_split(X, y, test_size=0.2)\n",
    "model = LinearRegression()\n",
    "model.fit(x_train, y_train)\n",
    "predictions = model.predict(x_test)\n",
    "error = mean_squared_error(y_test, predictions)\n",
    "error"
   ]
  },
  {
   "cell_type": "code",
   "execution_count": 115,
   "metadata": {
    "collapsed": false
   },
   "outputs": [
    {
     "data": {
      "text/plain": [
       "array([-0.87793422, -0.41748855, -0.46550401, -0.53786223, -0.59184744])"
      ]
     },
     "execution_count": 115,
     "metadata": {},
     "output_type": "execute_result"
    }
   ],
   "source": [
    "model = LinearRegression()\n",
    "scores = cross_val_score(model, X, y, cv=5, scoring = \"neg_mean_squared_error\") # also use R^2\n",
    "scores"
   ]
  },
  {
   "cell_type": "code",
   "execution_count": 117,
   "metadata": {
    "collapsed": false
   },
   "outputs": [
    {
     "data": {
      "text/plain": [
       "0.48165572102454673"
      ]
     },
     "execution_count": 117,
     "metadata": {},
     "output_type": "execute_result"
    }
   ],
   "source": [
    "# WITH ALL FEATURES WITH ONE HOT ENCODING\n",
    "# Train, test, split, calculate error\n",
    "x_train, x_test, y_train, y_test = train_test_split(X_2, y, test_size=0.2)\n",
    "model = LinearRegression()\n",
    "model.fit(x_train, y_train)\n",
    "predictions = model.predict(x_test)\n",
    "error = mean_squared_error(y_test, predictions)\n",
    "error"
   ]
  },
  {
   "cell_type": "code",
   "execution_count": 118,
   "metadata": {
    "collapsed": false
   },
   "outputs": [
    {
     "data": {
      "text/plain": [
       "array([-0.69819627, -0.43945324, -0.47608438, -0.54572644, -0.61053225])"
      ]
     },
     "execution_count": 118,
     "metadata": {},
     "output_type": "execute_result"
    }
   ],
   "source": [
    "model = LinearRegression()\n",
    "scores = cross_val_score(model, X_2, y, cv=5, scoring = \"neg_mean_squared_error\") # also use R^2\n",
    "scores"
   ]
  },
  {
   "cell_type": "code",
   "execution_count": 119,
   "metadata": {
    "collapsed": false
   },
   "outputs": [
    {
     "data": {
      "text/plain": [
       "LinearRegression(copy_X=True, fit_intercept=True, n_jobs=1, normalize=False)"
      ]
     },
     "execution_count": 119,
     "metadata": {},
     "output_type": "execute_result"
    }
   ],
   "source": [
    "# Train model on training data\n",
    "model = LinearRegression()\n",
    "model.fit(X_2, y)"
   ]
  },
  {
   "cell_type": "code",
   "execution_count": 120,
   "metadata": {
    "collapsed": false
   },
   "outputs": [],
   "source": [
    "# Make predictions\n",
    "predictions = model.predict(X_2)"
   ]
  },
  {
   "cell_type": "code",
   "execution_count": 121,
   "metadata": {
    "collapsed": false
   },
   "outputs": [
    {
     "data": {
      "text/plain": [
       "(0.3732065724339587,\n",
       " array([-9.15496863e-02, -3.39691589e-01, -8.18432723e-02, ...,\n",
       "        -2.53025989e-05, -2.23592589e-05, -1.37581767e-06]),\n",
       " 3.4842280913746477)"
      ]
     },
     "execution_count": 121,
     "metadata": {},
     "output_type": "execute_result"
    }
   ],
   "source": [
    "# Calculate statistics on training data\n",
    "error = mean_squared_error(y, predictions)\n",
    "w = model.coef_\n",
    "b = model.intercept_\n",
    "error, w, b"
   ]
  },
  {
   "cell_type": "markdown",
   "metadata": {},
   "source": [
    "# Results"
   ]
  },
  {
   "cell_type": "markdown",
   "metadata": {},
   "source": [
    "Features without location: \n",
    "error, w, b is (0.45079620978786505,\n",
    " array([ 0.00647003, -0.00115187, -0.00028681]),\n",
    " 3.3909317414654145)\n",
    "\n",
    "5-fold cross validation returns\n",
    "array([-0.44058222, -0.46424376, -0.44806606, -0.44477971, -0.45780714])\n",
    "\n",
    " \n",
    "All features: \n",
    "error, w, b is (0.3475201663575248,\n",
    " array([-8.63861463e-01, -1.59436776e-01,  7.42368542e-01, ...,\n",
    "         6.88801126e-03, -1.46312267e-03, -2.93404668e-04]),\n",
    " 3.3865073437888973)\n",
    "\n",
    "5-fold cross validation returns\n",
    "array([-0.49178862, -0.53366115, -0.52459808, -0.52376639, -0.53658507])"
   ]
  }
 ],
 "metadata": {
  "anaconda-cloud": {},
  "kernelspec": {
   "display_name": "Python [default]",
   "language": "python",
   "name": "python3"
  },
  "language_info": {
   "codemirror_mode": {
    "name": "ipython",
    "version": 3
   },
   "file_extension": ".py",
   "mimetype": "text/x-python",
   "name": "python",
   "nbconvert_exporter": "python",
   "pygments_lexer": "ipython3",
   "version": "3.5.2"
  }
 },
 "nbformat": 4,
 "nbformat_minor": 1
}
