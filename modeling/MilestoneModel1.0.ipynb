{
 "cells": [
  {
   "cell_type": "code",
   "execution_count": 120,
   "metadata": {
    "collapsed": false
   },
   "outputs": [],
   "source": [
    "import numpy as np\n",
    "from sklearn.linear_model import LinearRegression\n",
    "from sklearn.metrics import mean_squared_error\n",
    "from sklearn.preprocessing import LabelEncoder\n",
    "from sklearn.preprocessing import OneHotEncoder\n",
    "from sklearn import preprocessing\n",
    "from sklearn.model_selection import cross_val_score\n",
    "from sklearn.model_selection import train_test_split\n",
    "from sklearn.linear_model import LogisticRegression\n",
    "from sklearn.svm import SVC\n",
    "from sklearn import tree\n",
    "from sklearn.metrics import confusion_matrix\n",
    "import pandas as pd\n",
    "import matplotlib.pyplot as plt"
   ]
  },
  {
   "cell_type": "code",
   "execution_count": 81,
   "metadata": {
    "collapsed": false
   },
   "outputs": [
    {
     "data": {
      "text/plain": [
       "Index(['name', 'domain', 'year founded', 'industry', 'size range', 'city',\n",
       "       ' state', 'country', ' linkedin url', 'current employee estimate',\n",
       "       'total employee estimate', 'Score', 'reviews', 'salaries', 'interviews',\n",
       "       'KMT', 'market_cap', 'enterprise_value', 'trailing_pe', 'forward_pe',\n",
       "       'peg_ratio_5', 'price_sales', 'price_book', 'enterprise_value_revenue',\n",
       "       'enterprise_value_ebitda', 'profit_margin', 'operating_margin',\n",
       "       'return_on_assets', 'return_on_equity', 'revenue', 'revenue_per_share',\n",
       "       'quarterly_revenue_share', 'gross_profit', 'ebitda',\n",
       "       'net_income_avi_to_common', 'diluted_eps', 'quarterly_earnings_growth',\n",
       "       'total_cash', 'total_cash_per_share', 'total_dept',\n",
       "       'total_dept_per_equity', 'operating_cash_flow',\n",
       "       'leveraged_free_cash_flow', 'stock_beta_3y', 'stock 52_week',\n",
       "       'stock_sp500_52_week', 'stock_52_week_high', 'stock_52_week_low'],\n",
       "      dtype='object')"
      ]
     },
     "execution_count": 81,
     "metadata": {},
     "output_type": "execute_result"
    }
   ],
   "source": [
    "data_path = \"../data/with_stock_data.csv\"\n",
    "frame = pd.read_csv(data_path)\n",
    "frame.columns"
   ]
  },
  {
   "cell_type": "markdown",
   "metadata": {},
   "source": [
    "# Data Exploration"
   ]
  },
  {
   "cell_type": "code",
   "execution_count": 82,
   "metadata": {
    "collapsed": false
   },
   "outputs": [
    {
     "data": {
      "image/png": "[encoded data removed]",
      "text/plain": [
       "<matplotlib.figure.Figure at 0x124f57780>"
      ]
     },
     "metadata": {},
     "output_type": "display_data"
    }
   ],
   "source": [
    "frame['Score']\n",
    "plt.hist(frame['Score'], alpha=0.3)\n",
    "plt.show()"
   ]
  },
  {
   "cell_type": "markdown",
   "metadata": {},
   "source": [
    "# Feature Selection"
   ]
  },
  {
   "cell_type": "code",
   "execution_count": 83,
   "metadata": {
    "collapsed": true
   },
   "outputs": [],
   "source": [
    "# Pick Features\n",
    "non_categorical_columns = ['year founded', 'current employee estimate', 'total employee estimate', 'reviews', 'salaries', 'interviews', 'market_cap', 'enterprise_value', 'trailing_pe', 'forward_pe', 'peg_ratio_5', 'price_sales', 'price_book', 'enterprise_value_revenue', 'enterprise_value_ebitda', 'profit_margin', 'operating_margin', 'return_on_assets', 'return_on_equity', 'revenue', 'revenue_per_share', 'quarterly_revenue_share', 'gross_profit', 'ebitda', 'net_income_avi_to_common', 'diluted_eps', 'quarterly_earnings_growth', 'total_cash', 'total_cash_per_share', 'total_dept', 'total_dept_per_equity', 'operating_cash_flow', 'leveraged_free_cash_flow', 'stock_beta_3y', 'stock 52_week', 'stock_sp500_52_week', 'stock_52_week_high', 'stock_52_week_low']\n",
    "categorical_columns = ['industry', 'size range', 'city', ' state', 'country']"
   ]
  },
  {
   "cell_type": "code",
   "execution_count": 84,
   "metadata": {
    "collapsed": false
   },
   "outputs": [],
   "source": [
    "# Data Cleaning\n",
    "le = LabelEncoder()\n",
    "X = pd.DataFrame({key : frame[key] for key in categorical_columns + non_categorical_columns})\n",
    "X[categorical_columns] = X[categorical_columns].apply(lambda col : le.fit_transform(col))\n",
    "\n",
    "for x in non_categorical_columns:\n",
    "    X[x] = X[x].fillna(X[x].mean())\n",
    "\n",
    "indices = [X.columns.get_loc(c) for c in categorical_columns]\n",
    "ohe = OneHotEncoder(categorical_features=indices, sparse=False)\n",
    "X = ohe.fit_transform(X)\n",
    "Y = pd.DataFrame({\"y\" : frame[\"Score\"]})"
   ]
  },
  {
   "cell_type": "markdown",
   "metadata": {},
   "source": [
    "# Linear Regression Random"
   ]
  },
  {
   "cell_type": "code",
   "execution_count": 63,
   "metadata": {
    "collapsed": false
   },
   "outputs": [
    {
     "name": "stdout",
     "output_type": "stream",
     "text": [
      "Mean Squared Error:\n",
      "0.3134541615457647\n"
     ]
    }
   ],
   "source": [
    "# Normal CV with RANDOM data\n",
    "X_random = pd.DataFrame({\"rand\" : np.random.random(Y.shape[0])})\n",
    "x_train, x_test, y_train, y_test = train_test_split(X_random, Y, test_size=0.2)\n",
    "model = LinearRegression()\n",
    "model.fit(x_train, y_train)\n",
    "predictions = model.predict(x_test)\n",
    "error = mean_squared_error(y_test, predictions)\n",
    "print(\"Mean Squared Error:\")\n",
    "print(error)\n",
    "\n",
    "# Training data\n",
    "# print(\"Training Accuracy\")\n",
    "# pred = model.predict(X)\n",
    "# print(sum(np.abs(pred - Y.values) <  0.5)/ Y.shape[0])\n",
    "# y_pred = convertToClass(pred, 10)\n",
    "# Y_scaled = convertToClass(Y, 10)\n",
    "# confusion_m = confusion_matrix(Y_scaled, y_pred)\n",
    "# print(confusion_m)"
   ]
  },
  {
   "cell_type": "markdown",
   "metadata": {},
   "source": [
    "# Linear Regression"
   ]
  },
  {
   "cell_type": "code",
   "execution_count": 86,
   "metadata": {
    "collapsed": true
   },
   "outputs": [],
   "source": [
    "# Modeling\n",
    "reg = LinearRegression().fit(X, Y)\n",
    "pred = reg.predict(X)"
   ]
  },
  {
   "cell_type": "code",
   "execution_count": 104,
   "metadata": {
    "collapsed": true
   },
   "outputs": [],
   "source": [
    "def convertToClass(Y, k):\n",
    "    return np.apply_along_axis(lambda elem : np.round(elem * k / 5), 0, Y)"
   ]
  },
  {
   "cell_type": "code",
   "execution_count": 88,
   "metadata": {
    "collapsed": false
   },
   "outputs": [
    {
     "name": "stdout",
     "output_type": "stream",
     "text": [
      "Training Mean Square Error:\n",
      "0.18612736421221937\n",
      "Training Accuracy\n",
      "[0.7839948]\n",
      "[[  1   0   0   0   1   0   0   0   0]\n",
      " [  0   3   1   1   3   0   0   0   0]\n",
      " [  0   0  21  10  22  14   0   0   0]\n",
      " [  0   0   6  95 103  95   5   0   0]\n",
      " [  0   0   0  34 382 345  26   0   0]\n",
      " [  0   0   0   6 185 755 105   0   0]\n",
      " [  0   0   0   1  50 300 260  14   0]\n",
      " [  0   0   0   0   6  82  59  42   2]\n",
      " [  0   0   0   0   1  14   9   1  14]]\n"
     ]
    }
   ],
   "source": [
    "# Training Data\n",
    "print(\"Training Mean Square Error:\")\n",
    "print(mean_squared_error(Y, pred))\n",
    "print(\"Training Accuracy\")\n",
    "print(sum(np.abs(pred - Y.values) <  0.5)/ Y.shape[0])\n",
    "y_pred = convertToClass(pred, 10)\n",
    "Y_scaled = convertToClass(Y, 10)\n",
    "confusion_m = confusion_matrix(Y_scaled, y_pred)\n",
    "print(confusion_m)"
   ]
  },
  {
   "cell_type": "code",
   "execution_count": 109,
   "metadata": {
    "collapsed": false
   },
   "outputs": [
    {
     "name": "stdout",
     "output_type": "stream",
     "text": [
      "Test Mean Square Error\n",
      "2.621206180788179\n",
      "Test Accuracy\n",
      "[0.30569106]\n",
      "Test Confusion Matrix\n",
      "615\n",
      "615\n",
      "[[ 0  0  0  0  0  0  0  0  0  0  0  0  0  0  0  0  0  0  0  0]\n",
      " [ 0  0  0  0  0  0  0  0  0  1  1  0  0  0  0  0  0  0  0  0]\n",
      " [ 0  0  0  0  0  0  0  0  0  0  0  0  0  0  0  0  0  0  0  0]\n",
      " [ 0  0  0  0  0  0  1  2  1  4  1  0  0  0  0  0  1  0  0  0]\n",
      " [ 0  0  0  0  0  0  0  0  0  0  0  0  0  0  0  0  0  0  0  0]\n",
      " [ 0  0  0  0  0  1  2  9 14 22 10  3  5  3  1  0  0  0  0  0]\n",
      " [ 0  0  0  0  0  0  0  0  0  0  0  0  0  0  0  0  0  0  0  0]\n",
      " [ 0  0  1  0  0  4 11 22 31 44 23  8  4  0  0  0  0  1  0  0]\n",
      " [ 0  0  0  0  0  0  0  0  0  0  0  0  0  0  0  0  0  0  0  0]\n",
      " [ 1  1  0  1  3  2  6 24 47 50 37 15  3  2  1  0  0  1  0  1]\n",
      " [ 0  0  0  0  0  0  0  0  0  0  0  0  0  0  0  0  0  0  0  0]\n",
      " [ 0  0  1  1  0  3  7 17 28 33 31 14  3  5  0  0  0  0  1  1]\n",
      " [ 0  0  0  0  0  0  0  0  0  0  0  0  0  0  0  0  0  0  0  0]\n",
      " [ 0  0  0  0  0  2  1  4 12 15  2  3  1  1  0  0  0  0  0  0]\n",
      " [ 0  0  0  0  0  0  0  0  0  0  0  0  0  0  0  0  0  0  0  0]\n",
      " [ 0  0  0  0  0  0  0  0  0  1  1  0  0  1  0  0  0  0  0  0]\n",
      " [ 0  0  0  0  0  0  0  0  0  0  0  0  0  0  0  0  0  0  0  0]\n",
      " [ 0  0  0  0  0  0  0  0  0  0  0  0  0  0  0  0  0  0  0  0]\n",
      " [ 0  0  0  0  0  0  0  0  0  0  0  0  0  0  0  0  0  0  0  0]\n",
      " [ 0  0  0  0  0  0  0  0  0  0  0  0  0  0  0  0  0  0  0  0]]\n"
     ]
    }
   ],
   "source": [
    "# Test data: our own train / test split\n",
    "x_train, x_test, y_train, y_test = train_test_split(X, Y, test_size=0.2)\n",
    "model = LinearRegression()\n",
    "model.fit(x_train, y_train)\n",
    "predictions = model.predict(x_test)\n",
    "error = mean_squared_error(y_test, predictions)\n",
    "print(\"Test Mean Square Error\")\n",
    "print(error)\n",
    "print(\"Test Accuracy\")\n",
    "print(sum(np.abs(predictions - y_test.values) <  0.5)/ y_test.shape[0])\n",
    "print(\"Test Confusion Matrix\")\n",
    "y_pred = convertToClass(predictions, 10)\n",
    "Y_scaled = convertToClass(y_test, 10)\n",
    "print(len(y_pred))\n",
    "print(len(Y_scaled))\n",
    "confusion_m = confusion_matrix(Y_scaled, y_pred)\n",
    "print(confusion_m)"
   ]
  },
  {
   "cell_type": "code",
   "execution_count": 96,
   "metadata": {
    "collapsed": false
   },
   "outputs": [
    {
     "name": "stdout",
     "output_type": "stream",
     "text": [
      "Test K Fold\n"
     ]
    },
    {
     "data": {
      "text/plain": [
       "array([ -1.50736103, -31.68466428,  -0.62853002,  -1.49091231,\n",
       "        -0.91144737])"
      ]
     },
     "execution_count": 96,
     "metadata": {},
     "output_type": "execute_result"
    }
   ],
   "source": [
    "# K Fold CV\n",
    "model = LinearRegression()\n",
    "scores = cross_val_score(model, X, Y, cv=5, scoring = \"neg_mean_squared_error\") # also use R^2\n",
    "print(\"Test K Fold\")\n",
    "scores"
   ]
  },
  {
   "cell_type": "markdown",
   "metadata": {},
   "source": [
    "# Softmax"
   ]
  },
  {
   "cell_type": "code",
   "execution_count": 114,
   "metadata": {
    "collapsed": true
   },
   "outputs": [],
   "source": [
    "# Data Cleaning\n",
    "le = LabelEncoder()\n",
    "X = pd.DataFrame({key : frame[key] for key in categorical_columns + non_categorical_columns})\n",
    "X[categorical_columns] = X[categorical_columns].apply(lambda col : le.fit_transform(col))\n",
    "\n",
    "for x in non_categorical_columns:\n",
    "    X[x] = X[x].fillna(X[x].mean())\n",
    "\n",
    "indices = [X.columns.get_loc(c) for c in categorical_columns]\n",
    "ohe = OneHotEncoder(categorical_features=indices, sparse=False)\n",
    "X = ohe.fit_transform(X)\n",
    "Y = pd.DataFrame({\"y\" : frame[\"Score\"]})"
   ]
  },
  {
   "cell_type": "code",
   "execution_count": 115,
   "metadata": {
    "collapsed": true
   },
   "outputs": [],
   "source": [
    "def convertToClass(Y, k):\n",
    "    return Y.apply(lambda elem : np.round(elem * k / 5))\n",
    "\n",
    "# def convertToScore(Y, k):\n",
    "#     return Y.apply(lambda elem : elem * 5 / k)"
   ]
  },
  {
   "cell_type": "code",
   "execution_count": 116,
   "metadata": {
    "collapsed": false
   },
   "outputs": [
    {
     "data": {
      "text/plain": [
       "7.0     1051\n",
       "6.0      787\n",
       "8.0      625\n",
       "5.0      304\n",
       "9.0      191\n",
       "4.0       67\n",
       "10.0      39\n",
       "3.0        8\n",
       "2.0        2\n",
       "Name: y, dtype: int64"
      ]
     },
     "execution_count": 116,
     "metadata": {},
     "output_type": "execute_result"
    }
   ],
   "source": [
    "k = 10\n",
    "Y = convertToClass(Y, k)\n",
    "Y[\"y\"].value_counts()"
   ]
  },
  {
   "cell_type": "code",
   "execution_count": 117,
   "metadata": {
    "collapsed": false
   },
   "outputs": [
    {
     "name": "stderr",
     "output_type": "stream",
     "text": [
      "//anaconda/lib/python3.5/site-packages/sklearn/utils/validation.py:526: DataConversionWarning: A column-vector y was passed when a 1d array was expected. Please change the shape of y to (n_samples, ), for example using ravel().\n",
      "  y = column_or_1d(y, warn=True)\n"
     ]
    }
   ],
   "source": [
    "clf = LogisticRegression(multi_class='multinomial', solver='lbfgs').fit(X, Y)"
   ]
  },
  {
   "cell_type": "code",
   "execution_count": 118,
   "metadata": {
    "collapsed": false
   },
   "outputs": [
    {
     "name": "stdout",
     "output_type": "stream",
     "text": [
      "Training Accuracy\n",
      "0.33864671437865973\n",
      "[[  0   0   0   0   0   2   0   0   0]\n",
      " [  0   0   0   0   0   8   0   0   0]\n",
      " [  0   0   0   0   2  56   9   0   0]\n",
      " [  0   0   0   0   5 262  37   0   0]\n",
      " [  2   0   0   0  11 687  87   0   0]\n",
      " [  0   1   0   0   6 912 131   1   0]\n",
      " [  0   0   0   0   8 499 118   0   0]\n",
      " [  0   0   0   0   2 156  33   0   0]\n",
      " [  1   0   0   0   1  33   4   0   0]]\n"
     ]
    }
   ],
   "source": [
    "# Training data\n",
    "y_pred = clf.predict(X)\n",
    "confusion_m = confusion_matrix(Y, y_pred)\n",
    "training_accuracy = clf.score(X, Y)\n",
    "print(\"Training Accuracy\")\n",
    "print(training_accuracy)\n",
    "print(confusion_m)"
   ]
  },
  {
   "cell_type": "code",
   "execution_count": 112,
   "metadata": {
    "collapsed": false
   },
   "outputs": [
    {
     "name": "stderr",
     "output_type": "stream",
     "text": [
      "//anaconda/lib/python3.5/site-packages/sklearn/utils/validation.py:526: DataConversionWarning: A column-vector y was passed when a 1d array was expected. Please change the shape of y to (n_samples, ), for example using ravel().\n",
      "  y = column_or_1d(y, warn=True)\n"
     ]
    },
    {
     "name": "stdout",
     "output_type": "stream",
     "text": [
      "Test Mean Square Error\n",
      "1.8048780487804879\n",
      "Test Accuracy\n",
      "0.3105691056910569\n",
      "Test Confusion Matrix\n",
      "[[  0   0   0   1   0   0   0   0]\n",
      " [  0   0   0   1  11   1   1   0]\n",
      " [  0   0   0   2  59   6   1   0]\n",
      " [  0   0   0   7 128  28   1   0]\n",
      " [  1   0   0   9 158  36   1   1]\n",
      " [  0   0   0   9  80  26   1   0]\n",
      " [  0   0   0   2  28   9   0   0]\n",
      " [  0   0   0   1   6   0   0   0]]\n"
     ]
    }
   ],
   "source": [
    "# Test data: our own train / test split\n",
    "x_train, x_test, y_train, y_test = train_test_split(X, Y, test_size=0.2)\n",
    "model = LogisticRegression(multi_class='multinomial', solver='lbfgs')\n",
    "model.fit(x_train, y_train)\n",
    "predictions = model.predict(x_test)\n",
    "print(\"Test Mean Square Error\")\n",
    "error = mean_squared_error(y_test, predictions)\n",
    "print(error)\n",
    "print(\"Test Accuracy\")\n",
    "testing_accuracy = model.score(x_test, y_test)\n",
    "print(testing_accuracy)\n",
    "print(\"Test Confusion Matrix\")\n",
    "y_pred = convertToClass(predictions, 10)\n",
    "Y_scaled = convertToClass(y_test, 10)\n",
    "confusion_m = confusion_matrix(Y_scaled, y_pred)\n",
    "print(confusion_m)"
   ]
  },
  {
   "cell_type": "code",
   "execution_count": 102,
   "metadata": {
    "collapsed": false
   },
   "outputs": [
    {
     "name": "stdout",
     "output_type": "stream",
     "text": [
      "Test K Fold\n"
     ]
    },
    {
     "data": {
      "text/plain": [
       "array([  -7.81981659, -106.86816104,   -2.895721  ,   -3.37513062,\n",
       "         -3.7710519 ])"
      ]
     },
     "execution_count": 102,
     "metadata": {},
     "output_type": "execute_result"
    }
   ],
   "source": [
    "# Cross val score\n",
    "clf = LogisticRegression(multi_class='multinomial', solver='lbfgs')\n",
    "scores = cross_val_score(model, X, Y, cv=5, scoring = \"neg_mean_squared_error\") # also use R^2\n",
    "print(\"Test K Fold Mean Squared Error\")\n",
    "scores"
   ]
  },
  {
   "cell_type": "markdown",
   "metadata": {},
   "source": [
    "# Support Vector Machine, Kernel = rbf"
   ]
  },
  {
   "cell_type": "code",
   "execution_count": 141,
   "metadata": {
    "collapsed": false
   },
   "outputs": [
    {
     "data": {
      "text/plain": [
       "7.0     1051\n",
       "6.0      787\n",
       "8.0      625\n",
       "5.0      304\n",
       "9.0      191\n",
       "4.0       67\n",
       "10.0      39\n",
       "3.0        8\n",
       "2.0        2\n",
       "Name: y, dtype: int64"
      ]
     },
     "execution_count": 141,
     "metadata": {},
     "output_type": "execute_result"
    }
   ],
   "source": [
    "# Data Cleaning\n",
    "le = LabelEncoder()\n",
    "X = pd.DataFrame({key : frame[key] for key in categorical_columns + non_categorical_columns})\n",
    "X[categorical_columns] = X[categorical_columns].apply(lambda col : le.fit_transform(col))\n",
    "\n",
    "for x in non_categorical_columns:\n",
    "    X[x] = X[x].fillna(X[x].mean())\n",
    "\n",
    "indices = [X.columns.get_loc(c) for c in categorical_columns]\n",
    "ohe = OneHotEncoder(categorical_features=indices, sparse=False)\n",
    "X = ohe.fit_transform(X)\n",
    "Y = pd.DataFrame({\"y\" : frame[\"Score\"]})\n",
    "k = 10\n",
    "Y = convertToClass(Y, k)\n",
    "Y[\"y\"].value_counts()"
   ]
  },
  {
   "cell_type": "code",
   "execution_count": 142,
   "metadata": {
    "collapsed": false
   },
   "outputs": [
    {
     "name": "stderr",
     "output_type": "stream",
     "text": [
      "//anaconda/lib/python3.5/site-packages/sklearn/utils/validation.py:526: DataConversionWarning: A column-vector y was passed when a 1d array was expected. Please change the shape of y to (n_samples, ), for example using ravel().\n",
      "  y = column_or_1d(y, warn=True)\n"
     ]
    },
    {
     "data": {
      "text/plain": [
       "SVC(C=0.8, cache_size=200, class_weight=None, coef0=0.0,\n",
       "  decision_function_shape=None, degree=3, gamma='auto', kernel='rbf',\n",
       "  max_iter=-1, probability=False, random_state=None, shrinking=True,\n",
       "  tol=0.001, verbose=False)"
      ]
     },
     "execution_count": 142,
     "metadata": {},
     "output_type": "execute_result"
    }
   ],
   "source": [
    "x_train, x_test, y_train, y_test = train_test_split(X, Y, test_size=0.2)\n",
    "clf = SVC(gamma = 'auto', kernel='rbf', C=.8)\n",
    "clf.fit(x_train, y_train)"
   ]
  },
  {
   "cell_type": "code",
   "execution_count": 143,
   "metadata": {
    "collapsed": false
   },
   "outputs": [
    {
     "name": "stdout",
     "output_type": "stream",
     "text": [
      "0.8991459943066287\n",
      "[[  0   0   0   0   0   2   0   0   0]\n",
      " [  0   0   0   0   0   8   0   0   0]\n",
      " [  0   0   0   0   0  56   0   0   0]\n",
      " [  0   0   0 239   0   1   0   0   0]\n",
      " [  0   0   0   0 632   0   0   0   0]\n",
      " [  0   0   0   0   0 855   0   0   0]\n",
      " [  0   0   0   0   0   3 485   0   0]\n",
      " [  0   0   0   0   0 148   0   0   0]\n",
      " [  0   0   0   0   0  30   0   0   0]]\n"
     ]
    }
   ],
   "source": [
    "# Training data\n",
    "y_pred = clf.predict(x_train)\n",
    "confusion_m = confusion_matrix(y_train, y_pred)\n",
    "training_accuracy = clf.score(x_train, y_train)\n",
    "print(training_accuracy)\n",
    "print(confusion_m)"
   ]
  },
  {
   "cell_type": "code",
   "execution_count": 144,
   "metadata": {
    "collapsed": false
   },
   "outputs": [
    {
     "name": "stdout",
     "output_type": "stream",
     "text": [
      "0.31869918699186994\n",
      "[[  0   0   0  11   0   0   0]\n",
      " [  0   0   0  64   0   0   0]\n",
      " [  0   0   0 155   0   0   0]\n",
      " [  0   0   0 196   0   0   0]\n",
      " [  0   0   0 137   0   0   0]\n",
      " [  0   0   0  43   0   0   0]\n",
      " [  0   0   0   9   0   0   0]]\n"
     ]
    }
   ],
   "source": [
    "# Testing data\n",
    "y_pred = clf.predict(x_test)\n",
    "confusion_m = confusion_matrix(y_test, y_pred)\n",
    "test_accuracy = clf.score(x_test, y_test)\n",
    "print(test_accuracy)\n",
    "print(confusion_m)"
   ]
  },
  {
   "cell_type": "markdown",
   "metadata": {},
   "source": [
    "# Support Vector Machine, Kernel = linear"
   ]
  },
  {
   "cell_type": "code",
   "execution_count": 145,
   "metadata": {
    "collapsed": false
   },
   "outputs": [
    {
     "data": {
      "text/plain": [
       "7.0     1051\n",
       "6.0      787\n",
       "8.0      625\n",
       "5.0      304\n",
       "9.0      191\n",
       "4.0       67\n",
       "10.0      39\n",
       "3.0        8\n",
       "2.0        2\n",
       "Name: y, dtype: int64"
      ]
     },
     "execution_count": 145,
     "metadata": {},
     "output_type": "execute_result"
    }
   ],
   "source": [
    "# Data Cleaning\n",
    "le = LabelEncoder()\n",
    "X = pd.DataFrame({key : frame[key] for key in categorical_columns + non_categorical_columns})\n",
    "X[categorical_columns] = X[categorical_columns].apply(lambda col : le.fit_transform(col))\n",
    "\n",
    "for x in non_categorical_columns:\n",
    "    X[x] = X[x].fillna(X[x].mean())\n",
    "\n",
    "indices = [X.columns.get_loc(c) for c in categorical_columns]\n",
    "ohe = OneHotEncoder(categorical_features=indices, sparse=False)\n",
    "X = ohe.fit_transform(X)\n",
    "Y = pd.DataFrame({\"y\" : frame[\"Score\"]})\n",
    "k = 10\n",
    "Y = convertToClass(Y, k)\n",
    "Y[\"y\"].value_counts()"
   ]
  },
  {
   "cell_type": "code",
   "execution_count": null,
   "metadata": {
    "collapsed": false
   },
   "outputs": [
    {
     "name": "stderr",
     "output_type": "stream",
     "text": [
      "//anaconda/lib/python3.5/site-packages/sklearn/utils/validation.py:526: DataConversionWarning: A column-vector y was passed when a 1d array was expected. Please change the shape of y to (n_samples, ), for example using ravel().\n",
      "  y = column_or_1d(y, warn=True)\n"
     ]
    }
   ],
   "source": [
    "x_train, x_test, y_train, y_test = train_test_split(X, Y, test_size=0.2)\n",
    "clf = SVC(gamma = 'auto', kernel='linear', C=1)\n",
    "clf.fit(x_train, y_train)"
   ]
  },
  {
   "cell_type": "code",
   "execution_count": null,
   "metadata": {
    "collapsed": true
   },
   "outputs": [],
   "source": [
    "# Training data\n",
    "y_pred = clf.predict(x_train)\n",
    "confusion_m = confusion_matrix(y_train, y_pred)\n",
    "training_accuracy = clf.score(x_train, y_train)\n",
    "print(training_accuracy)\n",
    "print(confusion_m)"
   ]
  },
  {
   "cell_type": "code",
   "execution_count": null,
   "metadata": {
    "collapsed": true
   },
   "outputs": [],
   "source": [
    "# Testing data\n",
    "y_pred = clf.predict(x_test)\n",
    "confusion_m = confusion_matrix(y_test, y_pred)\n",
    "test_accuracy = clf.score(x_test, y_test)\n",
    "print(test_accuracy)\n",
    "print(confusion_m)"
   ]
  },
  {
   "cell_type": "markdown",
   "metadata": {},
   "source": [
    "# Decision Trees"
   ]
  },
  {
   "cell_type": "code",
   "execution_count": null,
   "metadata": {
    "collapsed": true
   },
   "outputs": [],
   "source": [
    "# Data Cleaning\n",
    "le = LabelEncoder()\n",
    "X = pd.DataFrame({key : frame[key] for key in categorical_columns + non_categorical_columns})\n",
    "X[categorical_columns] = X[categorical_columns].apply(lambda col : le.fit_transform(col))\n",
    "\n",
    "for x in non_categorical_columns:\n",
    "    X[x] = X[x].fillna(X[x].mean())\n",
    "\n",
    "indices = [X.columns.get_loc(c) for c in categorical_columns]\n",
    "ohe = OneHotEncoder(categorical_features=indices, sparse=False)\n",
    "X = ohe.fit_transform(X)\n",
    "Y = pd.DataFrame({\"y\" : frame[\"Score\"]})\n",
    "k = 10\n",
    "Y = convertToClass(Y, k)\n",
    "Y[\"y\"].value_counts()"
   ]
  },
  {
   "cell_type": "code",
   "execution_count": null,
   "metadata": {
    "collapsed": true
   },
   "outputs": [],
   "source": [
    "x_train, x_test, y_train, y_test = train_test_split(X, Y, test_size=0.2)\n",
    "clf = tree.DecisionTreeClassifier()\n",
    "clf.fit(x_train, y_train)"
   ]
  }
 ],
 "metadata": {
  "anaconda-cloud": {},
  "kernelspec": {
   "display_name": "Python [default]",
   "language": "python",
   "name": "python3"
  },
  "language_info": {
   "codemirror_mode": {
    "name": "ipython",
    "version": 3
   },
   "file_extension": ".py",
   "mimetype": "text/x-python",
   "name": "python",
   "nbconvert_exporter": "python",
   "pygments_lexer": "ipython3",
   "version": "3.5.2"
  }
 },
 "nbformat": 4,
 "nbformat_minor": 1
}
