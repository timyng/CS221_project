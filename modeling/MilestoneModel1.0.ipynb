{
 "cells": [
  {
   "cell_type": "code",
   "execution_count": 66,
   "metadata": {
    "collapsed": false
   },
   "outputs": [],
   "source": [
    "import numpy as np\n",
    "from sklearn.linear_model import LinearRegression\n",
    "from sklearn.metrics import mean_squared_error\n",
    "from sklearn.preprocessing import LabelEncoder\n",
    "from sklearn.preprocessing import OneHotEncoder\n",
    "from sklearn import preprocessing\n",
    "from sklearn.model_selection import cross_val_score\n",
    "from sklearn.model_selection import train_test_split\n",
    "from sklearn.linear_model import LogisticRegression\n",
    "from sklearn.svm import SVC\n",
    "from sklearn import tree\n",
    "from sklearn.discriminant_analysis import LinearDiscriminantAnalysis\n",
    "from sklearn.discriminant_analysis import QuadraticDiscriminantAnalysis\n",
    "from sklearn.neighbors import KNeighborsClassifier\n",
    "from sklearn.metrics import confusion_matrix\n",
    "import pandas as pd\n",
    "import matplotlib.pyplot as plt"
   ]
  },
  {
   "cell_type": "code",
   "execution_count": 2,
   "metadata": {
    "collapsed": false
   },
   "outputs": [
    {
     "data": {
      "text/plain": [
       "Index(['name', 'domain', 'year founded', 'industry', 'size range', 'city',\n",
       "       ' state', 'country', ' linkedin url', 'current employee estimate',\n",
       "       'total employee estimate', 'Score', 'reviews', 'salaries', 'interviews',\n",
       "       'KMT', 'market_cap', 'enterprise_value', 'trailing_pe', 'forward_pe',\n",
       "       'peg_ratio_5', 'price_sales', 'price_book', 'enterprise_value_revenue',\n",
       "       'enterprise_value_ebitda', 'profit_margin', 'operating_margin',\n",
       "       'return_on_assets', 'return_on_equity', 'revenue', 'revenue_per_share',\n",
       "       'quarterly_revenue_share', 'gross_profit', 'ebitda',\n",
       "       'net_income_avi_to_common', 'diluted_eps', 'quarterly_earnings_growth',\n",
       "       'total_cash', 'total_cash_per_share', 'total_dept',\n",
       "       'total_dept_per_equity', 'operating_cash_flow',\n",
       "       'leveraged_free_cash_flow', 'stock_beta_3y', 'stock 52_week',\n",
       "       'stock_sp500_52_week', 'stock_52_week_high', 'stock_52_week_low'],\n",
       "      dtype='object')"
      ]
     },
     "execution_count": 2,
     "metadata": {},
     "output_type": "execute_result"
    }
   ],
   "source": [
    "data_path = \"../data/with_stock_data.csv\"\n",
    "frame = pd.read_csv(data_path)\n",
    "frame.columns"
   ]
  },
  {
   "cell_type": "code",
   "execution_count": 7,
   "metadata": {
    "collapsed": true
   },
   "outputs": [],
   "source": [
    "def convertToClass(Y, k):\n",
    "    return Y.apply(lambda elem : np.round(elem * k / 5))\n",
    "\n",
    "# def convertToScore(Y, k):\n",
    "#     return Y.apply(lambda elem : elem * 5 / k)"
   ]
  },
  {
   "cell_type": "markdown",
   "metadata": {},
   "source": [
    "# Data Exploration"
   ]
  },
  {
   "cell_type": "code",
   "execution_count": 3,
   "metadata": {
    "collapsed": false
   },
   "outputs": [
    {
     "data": {
      "image/png": "[encoded data removed]",
      "text/plain": [
       "<matplotlib.figure.Figure at 0x11a608630>"
      ]
     },
     "metadata": {},
     "output_type": "display_data"
    }
   ],
   "source": [
    "frame['Score']\n",
    "plt.hist(frame['Score'], alpha=0.3)\n",
    "plt.show()"
   ]
  },
  {
   "cell_type": "markdown",
   "metadata": {},
   "source": [
    "# Feature Selection"
   ]
  },
  {
   "cell_type": "code",
   "execution_count": 4,
   "metadata": {
    "collapsed": true
   },
   "outputs": [],
   "source": [
    "# Pick Features\n",
    "non_categorical_columns = ['year founded', 'current employee estimate', 'total employee estimate', 'reviews', 'salaries', 'interviews', 'market_cap', 'enterprise_value', 'trailing_pe', 'forward_pe', 'peg_ratio_5', 'price_sales', 'price_book', 'enterprise_value_revenue', 'enterprise_value_ebitda', 'profit_margin', 'operating_margin', 'return_on_assets', 'return_on_equity', 'revenue', 'revenue_per_share', 'quarterly_revenue_share', 'gross_profit', 'ebitda', 'net_income_avi_to_common', 'diluted_eps', 'quarterly_earnings_growth', 'total_cash', 'total_cash_per_share', 'total_dept', 'total_dept_per_equity', 'operating_cash_flow', 'leveraged_free_cash_flow', 'stock_beta_3y', 'stock 52_week', 'stock_sp500_52_week', 'stock_52_week_high', 'stock_52_week_low']\n",
    "categorical_columns = ['industry', 'size range', 'city', ' state', 'country']"
   ]
  },
  {
   "cell_type": "code",
   "execution_count": 5,
   "metadata": {
    "collapsed": false
   },
   "outputs": [],
   "source": [
    "# Data Cleaning\n",
    "le = LabelEncoder()\n",
    "X = pd.DataFrame({key : frame[key] for key in categorical_columns + non_categorical_columns})\n",
    "X[categorical_columns] = X[categorical_columns].apply(lambda col : le.fit_transform(col))\n",
    "\n",
    "for x in non_categorical_columns:\n",
    "    X[x] = X[x].fillna(X[x].mean())\n",
    "\n",
    "indices = [X.columns.get_loc(c) for c in categorical_columns]\n",
    "ohe = OneHotEncoder(categorical_features=indices, sparse=False)\n",
    "X = ohe.fit_transform(X)\n",
    "Y = pd.DataFrame({\"y\" : frame[\"Score\"]})"
   ]
  },
  {
   "cell_type": "markdown",
   "metadata": {},
   "source": [
    "# Linear Regression Random"
   ]
  },
  {
   "cell_type": "code",
   "execution_count": null,
   "metadata": {
    "collapsed": false
   },
   "outputs": [],
   "source": [
    "# Normal CV with RANDOM data\n",
    "X_random = pd.DataFrame({\"rand\" : np.random.random(Y.shape[0])})\n",
    "x_train, x_test, y_train, y_test = train_test_split(X_random, Y, test_size=0.2)\n",
    "model = LinearRegression()\n",
    "model.fit(x_train, y_train)\n",
    "predictions = model.predict(x_test)\n",
    "error = mean_squared_error(y_test, predictions)\n",
    "print(\"Mean Squared Error:\")\n",
    "print(error)\n",
    "\n",
    "# Training data\n",
    "# print(\"Training Accuracy\")\n",
    "# pred = model.predict(X)\n",
    "# print(sum(np.abs(pred - Y.values) <  0.5)/ Y.shape[0])\n",
    "# y_pred = convertToClass(pred, 10)\n",
    "# Y_scaled = convertToClass(Y, 10)\n",
    "# confusion_m = confusion_matrix(Y_scaled, y_pred)\n",
    "# print(confusion_m)"
   ]
  },
  {
   "cell_type": "markdown",
   "metadata": {},
   "source": [
    "# Linear Regression"
   ]
  },
  {
   "cell_type": "code",
   "execution_count": null,
   "metadata": {
    "collapsed": true
   },
   "outputs": [],
   "source": [
    "# Modeling\n",
    "reg = LinearRegression().fit(X, Y)\n",
    "pred = reg.predict(X)"
   ]
  },
  {
   "cell_type": "code",
   "execution_count": null,
   "metadata": {
    "collapsed": true
   },
   "outputs": [],
   "source": [
    "def convertToClass(Y, k):\n",
    "    return np.apply_along_axis(lambda elem : np.round(elem * k / 5), 0, Y)"
   ]
  },
  {
   "cell_type": "code",
   "execution_count": null,
   "metadata": {
    "collapsed": false
   },
   "outputs": [],
   "source": [
    "# Training Data\n",
    "print(\"Training Mean Square Error:\")\n",
    "print(mean_squared_error(Y, pred))\n",
    "print(\"Training Accuracy\")\n",
    "print(sum(np.abs(pred - Y.values) <  0.5)/ Y.shape[0])\n",
    "y_pred = convertToClass(pred, 10)\n",
    "Y_scaled = convertToClass(Y, 10)\n",
    "confusion_m = confusion_matrix(Y_scaled, y_pred)\n",
    "print(confusion_m)"
   ]
  },
  {
   "cell_type": "code",
   "execution_count": null,
   "metadata": {
    "collapsed": false
   },
   "outputs": [],
   "source": [
    "# Test data: our own train / test split\n",
    "x_train, x_test, y_train, y_test = train_test_split(X, Y, test_size=0.2)\n",
    "model = LinearRegression()\n",
    "model.fit(x_train, y_train)\n",
    "predictions = model.predict(x_test)\n",
    "error = mean_squared_error(y_test, predictions)\n",
    "print(\"Test Mean Square Error\")\n",
    "print(error)\n",
    "print(\"Test Accuracy\")\n",
    "print(sum(np.abs(predictions - y_test.values) <  0.5)/ y_test.shape[0])\n",
    "print(\"Test Confusion Matrix\")\n",
    "y_pred = convertToClass(predictions, 10)\n",
    "Y_scaled = convertToClass(y_test, 10)\n",
    "print(len(y_pred))\n",
    "print(len(Y_scaled))\n",
    "confusion_m = confusion_matrix(Y_scaled, y_pred)\n",
    "print(confusion_m)"
   ]
  },
  {
   "cell_type": "code",
   "execution_count": null,
   "metadata": {
    "collapsed": false
   },
   "outputs": [],
   "source": [
    "# K Fold CV\n",
    "model = LinearRegression()\n",
    "scores = cross_val_score(model, X, Y, cv=5, scoring = \"neg_mean_squared_error\") # also use R^2\n",
    "print(\"Test K Fold\")\n",
    "scores"
   ]
  },
  {
   "cell_type": "markdown",
   "metadata": {},
   "source": [
    "# Softmax"
   ]
  },
  {
   "cell_type": "code",
   "execution_count": null,
   "metadata": {
    "collapsed": true
   },
   "outputs": [],
   "source": [
    "# Data Cleaning\n",
    "le = LabelEncoder()\n",
    "X = pd.DataFrame({key : frame[key] for key in categorical_columns + non_categorical_columns})\n",
    "X[categorical_columns] = X[categorical_columns].apply(lambda col : le.fit_transform(col))\n",
    "\n",
    "for x in non_categorical_columns:\n",
    "    X[x] = X[x].fillna(X[x].mean())\n",
    "\n",
    "indices = [X.columns.get_loc(c) for c in categorical_columns]\n",
    "ohe = OneHotEncoder(categorical_features=indices, sparse=False)\n",
    "X = ohe.fit_transform(X)\n",
    "Y = pd.DataFrame({\"y\" : frame[\"Score\"]})"
   ]
  },
  {
   "cell_type": "code",
   "execution_count": null,
   "metadata": {
    "collapsed": false
   },
   "outputs": [],
   "source": [
    "k = 10\n",
    "Y = convertToClass(Y, k)\n",
    "Y[\"y\"].value_counts()"
   ]
  },
  {
   "cell_type": "code",
   "execution_count": null,
   "metadata": {
    "collapsed": false
   },
   "outputs": [],
   "source": [
    "clf = LogisticRegression(multi_class='multinomial', solver='lbfgs').fit(X, Y)"
   ]
  },
  {
   "cell_type": "code",
   "execution_count": null,
   "metadata": {
    "collapsed": false
   },
   "outputs": [],
   "source": [
    "# Training data\n",
    "y_pred = clf.predict(X)\n",
    "confusion_m = confusion_matrix(Y, y_pred)\n",
    "training_accuracy = clf.score(X, Y)\n",
    "print(\"Training Accuracy\")\n",
    "print(training_accuracy)\n",
    "print(confusion_m)"
   ]
  },
  {
   "cell_type": "code",
   "execution_count": null,
   "metadata": {
    "collapsed": false
   },
   "outputs": [],
   "source": [
    "# Test data: our own train / test split\n",
    "x_train, x_test, y_train, y_test = train_test_split(X, Y, test_size=0.2)\n",
    "model = LogisticRegression(multi_class='multinomial', solver='lbfgs')\n",
    "model.fit(x_train, y_train)\n",
    "predictions = model.predict(x_test)\n",
    "print(\"Test Mean Square Error\")\n",
    "error = mean_squared_error(y_test, predictions)\n",
    "print(error)\n",
    "print(\"Test Accuracy\")\n",
    "testing_accuracy = model.score(x_test, y_test)\n",
    "print(testing_accuracy)\n",
    "print(\"Test Confusion Matrix\")\n",
    "y_pred = convertToClass(predictions, 10)\n",
    "Y_scaled = convertToClass(y_test, 10)\n",
    "confusion_m = confusion_matrix(Y_scaled, y_pred)\n",
    "print(confusion_m)"
   ]
  },
  {
   "cell_type": "code",
   "execution_count": null,
   "metadata": {
    "collapsed": false
   },
   "outputs": [],
   "source": [
    "# Cross val score\n",
    "clf = LogisticRegression(multi_class='multinomial', solver='lbfgs')\n",
    "scores = cross_val_score(model, X, Y, cv=5, scoring = \"neg_mean_squared_error\") # also use R^2\n",
    "print(\"Test K Fold Mean Squared Error\")\n",
    "scores"
   ]
  },
  {
   "cell_type": "markdown",
   "metadata": {},
   "source": [
    "# Support Vector Machine, Kernel = rbf"
   ]
  },
  {
   "cell_type": "code",
   "execution_count": null,
   "metadata": {
    "collapsed": false
   },
   "outputs": [],
   "source": [
    "# Data Cleaning\n",
    "le = LabelEncoder()\n",
    "X = pd.DataFrame({key : frame[key] for key in categorical_columns + non_categorical_columns})\n",
    "X[categorical_columns] = X[categorical_columns].apply(lambda col : le.fit_transform(col))\n",
    "\n",
    "for x in non_categorical_columns:\n",
    "    X[x] = X[x].fillna(X[x].mean())\n",
    "\n",
    "indices = [X.columns.get_loc(c) for c in categorical_columns]\n",
    "ohe = OneHotEncoder(categorical_features=indices, sparse=False)\n",
    "X = ohe.fit_transform(X)\n",
    "Y = pd.DataFrame({\"y\" : frame[\"Score\"]})\n",
    "k = 10\n",
    "Y = convertToClass(Y, k)\n",
    "Y[\"y\"].value_counts()"
   ]
  },
  {
   "cell_type": "code",
   "execution_count": null,
   "metadata": {
    "collapsed": false
   },
   "outputs": [],
   "source": [
    "x_train, x_test, y_train, y_test = train_test_split(X, Y, test_size=0.2)\n",
    "clf = SVC(gamma = 'auto', kernel='rbf', C=.8)\n",
    "clf.fit(x_train, y_train)"
   ]
  },
  {
   "cell_type": "code",
   "execution_count": null,
   "metadata": {
    "collapsed": false
   },
   "outputs": [],
   "source": [
    "# Training data\n",
    "y_pred = clf.predict(x_train)\n",
    "confusion_m = confusion_matrix(y_train, y_pred)\n",
    "training_accuracy = clf.score(x_train, y_train)\n",
    "print(training_accuracy)\n",
    "print(confusion_m)"
   ]
  },
  {
   "cell_type": "code",
   "execution_count": null,
   "metadata": {
    "collapsed": false
   },
   "outputs": [],
   "source": [
    "# Testing data\n",
    "y_pred = clf.predict(x_test)\n",
    "confusion_m = confusion_matrix(y_test, y_pred)\n",
    "test_accuracy = clf.score(x_test, y_test)\n",
    "print(test_accuracy)\n",
    "print(confusion_m)"
   ]
  },
  {
   "cell_type": "markdown",
   "metadata": {},
   "source": [
    "# Support Vector Machine, Kernel = linear"
   ]
  },
  {
   "cell_type": "code",
   "execution_count": null,
   "metadata": {
    "collapsed": false
   },
   "outputs": [],
   "source": [
    "# Data Cleaning\n",
    "le = LabelEncoder()\n",
    "X = pd.DataFrame({key : frame[key] for key in categorical_columns + non_categorical_columns})\n",
    "X[categorical_columns] = X[categorical_columns].apply(lambda col : le.fit_transform(col))\n",
    "\n",
    "for x in non_categorical_columns:\n",
    "    X[x] = X[x].fillna(X[x].mean())\n",
    "\n",
    "indices = [X.columns.get_loc(c) for c in categorical_columns]\n",
    "ohe = OneHotEncoder(categorical_features=indices, sparse=False)\n",
    "X = ohe.fit_transform(X)\n",
    "Y = pd.DataFrame({\"y\" : frame[\"Score\"]})\n",
    "k = 10\n",
    "Y = convertToClass(Y, k)\n",
    "Y[\"y\"].value_counts()"
   ]
  },
  {
   "cell_type": "code",
   "execution_count": null,
   "metadata": {
    "collapsed": false
   },
   "outputs": [],
   "source": [
    "x_train, x_test, y_train, y_test = train_test_split(X, Y, test_size=0.2)\n",
    "clf = SVC(gamma = 'auto', kernel='linear', C=1)\n",
    "clf.fit(x_train, y_train)"
   ]
  },
  {
   "cell_type": "code",
   "execution_count": null,
   "metadata": {
    "collapsed": true
   },
   "outputs": [],
   "source": [
    "# Training data\n",
    "y_pred = clf.predict(x_train)\n",
    "confusion_m = confusion_matrix(y_train, y_pred)\n",
    "training_accuracy = clf.score(x_train, y_train)\n",
    "print(training_accuracy)\n",
    "print(confusion_m)"
   ]
  },
  {
   "cell_type": "code",
   "execution_count": null,
   "metadata": {
    "collapsed": true
   },
   "outputs": [],
   "source": [
    "# Testing data\n",
    "y_pred = clf.predict(x_test)\n",
    "confusion_m = confusion_matrix(y_test, y_pred)\n",
    "test_accuracy = clf.score(x_test, y_test)\n",
    "print(test_accuracy)\n",
    "print(confusion_m)"
   ]
  },
  {
   "cell_type": "markdown",
   "metadata": {},
   "source": [
    "# Decision Trees"
   ]
  },
  {
   "cell_type": "code",
   "execution_count": 8,
   "metadata": {
    "collapsed": false
   },
   "outputs": [
    {
     "data": {
      "text/plain": [
       "7.0     1051\n",
       "6.0      787\n",
       "8.0      625\n",
       "5.0      304\n",
       "9.0      191\n",
       "4.0       67\n",
       "10.0      39\n",
       "3.0        8\n",
       "2.0        2\n",
       "Name: y, dtype: int64"
      ]
     },
     "execution_count": 8,
     "metadata": {},
     "output_type": "execute_result"
    }
   ],
   "source": [
    "# Data Cleaning\n",
    "le = LabelEncoder()\n",
    "X = pd.DataFrame({key : frame[key] for key in categorical_columns + non_categorical_columns})\n",
    "X[categorical_columns] = X[categorical_columns].apply(lambda col : le.fit_transform(col))\n",
    "\n",
    "for x in non_categorical_columns:\n",
    "    X[x] = X[x].fillna(X[x].mean())\n",
    "\n",
    "indices = [X.columns.get_loc(c) for c in categorical_columns]\n",
    "ohe = OneHotEncoder(categorical_features=indices, sparse=False)\n",
    "X = ohe.fit_transform(X)\n",
    "Y = pd.DataFrame({\"y\" : frame[\"Score\"]})\n",
    "k = 10\n",
    "Y = convertToClass(Y, k)\n",
    "Y[\"y\"].value_counts()"
   ]
  },
  {
   "cell_type": "code",
   "execution_count": 51,
   "metadata": {
    "collapsed": false
   },
   "outputs": [
    {
     "data": {
      "text/plain": [
       "DecisionTreeClassifier(class_weight=None, criterion='gini', max_depth=3,\n",
       "            max_features=None, max_leaf_nodes=None,\n",
       "            min_impurity_split=1e-07, min_samples_leaf=1,\n",
       "            min_samples_split=2, min_weight_fraction_leaf=0.0,\n",
       "            presort=False, random_state=None, splitter='best')"
      ]
     },
     "execution_count": 51,
     "metadata": {},
     "output_type": "execute_result"
    }
   ],
   "source": [
    "x_train, x_test, y_train, y_test = train_test_split(X, Y, test_size=0.2)\n",
    "clf = tree.DecisionTreeClassifier(max_depth = 3)\n",
    "clf.fit(x_train, y_train)"
   ]
  },
  {
   "cell_type": "code",
   "execution_count": 52,
   "metadata": {
    "collapsed": false
   },
   "outputs": [
    {
     "name": "stdout",
     "output_type": "stream",
     "text": [
      "0.37413582757218383\n",
      "[[  0   0   0   0   0   2   0   0   0]\n",
      " [  0   0   0   0   0   7   1   0   0]\n",
      " [  0   0   0   0   6  47   0   0   0]\n",
      " [  0   0   0   0  79 168   5   0   0]\n",
      " [  0   0   0   0 207 392  13   0   0]\n",
      " [  0   0   0   0 164 661  20   0   0]\n",
      " [  0   0   0   0 106 352  52   0   0]\n",
      " [  0   0   0   0  32 111   4   0   0]\n",
      " [  0   0   0   0   3  25   2   0   0]]\n"
     ]
    }
   ],
   "source": [
    "# Training data\n",
    "y_pred = clf.predict(x_train)\n",
    "confusion_m = confusion_matrix(y_train, y_pred)\n",
    "training_accuracy = clf.score(x_train, y_train)\n",
    "print(training_accuracy)\n",
    "print(confusion_m)"
   ]
  },
  {
   "cell_type": "code",
   "execution_count": 53,
   "metadata": {
    "collapsed": false
   },
   "outputs": [
    {
     "name": "stdout",
     "output_type": "stream",
     "text": [
      "0.34796747967479674\n",
      "[[  0   0   2  10   2   0   0]\n",
      " [  0   0  16  35   1   0   0]\n",
      " [  0   0  54 119   2   0   0]\n",
      " [  0   0  48 153   5   0   0]\n",
      " [  0   0  27  81   7   0   0]\n",
      " [  0   0  14  30   0   0   0]\n",
      " [  0   0   1   6   2   0   0]]\n"
     ]
    }
   ],
   "source": [
    "# Testing data\n",
    "y_pred = clf.predict(x_test)\n",
    "confusion_m = confusion_matrix(y_test, y_pred)\n",
    "test_accuracy = clf.score(x_test, y_test)\n",
    "print(test_accuracy)\n",
    "print(confusion_m)"
   ]
  },
  {
   "cell_type": "markdown",
   "metadata": {},
   "source": [
    "# Linear Discriminant Analysis"
   ]
  },
  {
   "cell_type": "code",
   "execution_count": 56,
   "metadata": {
    "collapsed": false
   },
   "outputs": [
    {
     "data": {
      "text/plain": [
       "7.0     1051\n",
       "6.0      787\n",
       "8.0      625\n",
       "5.0      304\n",
       "9.0      191\n",
       "4.0       67\n",
       "10.0      39\n",
       "3.0        8\n",
       "2.0        2\n",
       "Name: y, dtype: int64"
      ]
     },
     "execution_count": 56,
     "metadata": {},
     "output_type": "execute_result"
    }
   ],
   "source": [
    "# Data Cleaning\n",
    "le = LabelEncoder()\n",
    "X = pd.DataFrame({key : frame[key] for key in categorical_columns + non_categorical_columns})\n",
    "X[categorical_columns] = X[categorical_columns].apply(lambda col : le.fit_transform(col))\n",
    "\n",
    "for x in non_categorical_columns:\n",
    "    X[x] = X[x].fillna(X[x].mean())\n",
    "\n",
    "indices = [X.columns.get_loc(c) for c in categorical_columns]\n",
    "ohe = OneHotEncoder(categorical_features=indices, sparse=False)\n",
    "X = ohe.fit_transform(X)\n",
    "Y = pd.DataFrame({\"y\" : frame[\"Score\"]})\n",
    "k = 10\n",
    "Y = convertToClass(Y, k)\n",
    "Y[\"y\"].value_counts()"
   ]
  },
  {
   "cell_type": "code",
   "execution_count": 57,
   "metadata": {
    "collapsed": false
   },
   "outputs": [
    {
     "name": "stderr",
     "output_type": "stream",
     "text": [
      "//anaconda/lib/python3.5/site-packages/sklearn/utils/validation.py:526: DataConversionWarning: A column-vector y was passed when a 1d array was expected. Please change the shape of y to (n_samples, ), for example using ravel().\n",
      "  y = column_or_1d(y, warn=True)\n",
      "//anaconda/lib/python3.5/site-packages/sklearn/discriminant_analysis.py:387: UserWarning: Variables are collinear.\n",
      "  warnings.warn(\"Variables are collinear.\")\n"
     ]
    },
    {
     "data": {
      "text/plain": [
       "LinearDiscriminantAnalysis(n_components=None, priors=None, shrinkage=None,\n",
       "              solver='svd', store_covariance=False, tol=0.0001)"
      ]
     },
     "execution_count": 57,
     "metadata": {},
     "output_type": "execute_result"
    }
   ],
   "source": [
    "x_train, x_test, y_train, y_test = train_test_split(X, Y, test_size=0.2)\n",
    "clf = LinearDiscriminantAnalysis()\n",
    "clf.fit(x_train, y_train)"
   ]
  },
  {
   "cell_type": "code",
   "execution_count": 58,
   "metadata": {
    "collapsed": false
   },
   "outputs": [
    {
     "name": "stdout",
     "output_type": "stream",
     "text": [
      "0.714111427409516\n",
      "[[  1   0   0   0   0   1   0   0   0]\n",
      " [  0   3   0   0   1   1   0   0   0]\n",
      " [  0   0  35   1   3  10   1   2   0]\n",
      " [  0   2   1 169  37  17  26   5   0]\n",
      " [  0   1   2  15 481  56  62   7   2]\n",
      " [  0   0   5  26 116 556 113  13   3]\n",
      " [  0   1   2   6  39  40 400  12   1]\n",
      " [  0   0   1   1  19  18  22  95   0]\n",
      " [  0   0   0   0   3   2   7   0  16]]\n"
     ]
    }
   ],
   "source": [
    "# Training data\n",
    "y_pred = clf.predict(x_train)\n",
    "confusion_m = confusion_matrix(y_train, y_pred)\n",
    "training_accuracy = clf.score(x_train, y_train)\n",
    "print(training_accuracy)\n",
    "print(confusion_m)"
   ]
  },
  {
   "cell_type": "code",
   "execution_count": 59,
   "metadata": {
    "collapsed": false
   },
   "outputs": [
    {
     "name": "stdout",
     "output_type": "stream",
     "text": [
      "0.24390243902439024\n",
      "[[ 0  0  0  1  1  0  0  1]\n",
      " [ 0  0  2  6  0  4  3  0]\n",
      " [ 0  1  8 11 13 11  3  0]\n",
      " [ 0  6 13 38 48 45 10  1]\n",
      " [ 2  2 17 63 64 58 12  1]\n",
      " [ 0  3  9 39 31 37  5  0]\n",
      " [ 0  0  5  8  6 14  2  0]\n",
      " [ 0  0  1  1  6  2  0  1]]\n"
     ]
    }
   ],
   "source": [
    "# Testing data\n",
    "y_pred = clf.predict(x_test)\n",
    "confusion_m = confusion_matrix(y_test, y_pred)\n",
    "test_accuracy = clf.score(x_test, y_test)\n",
    "print(test_accuracy)\n",
    "print(confusion_m)"
   ]
  },
  {
   "cell_type": "markdown",
   "metadata": {},
   "source": [
    "# QDA"
   ]
  },
  {
   "cell_type": "code",
   "execution_count": 62,
   "metadata": {
    "collapsed": false
   },
   "outputs": [
    {
     "data": {
      "text/plain": [
       "7.0     1051\n",
       "6.0      787\n",
       "8.0      625\n",
       "5.0      304\n",
       "9.0      191\n",
       "4.0       67\n",
       "10.0      39\n",
       "3.0        8\n",
       "2.0        2\n",
       "Name: y, dtype: int64"
      ]
     },
     "execution_count": 62,
     "metadata": {},
     "output_type": "execute_result"
    }
   ],
   "source": [
    "# Data Cleaning\n",
    "le = LabelEncoder()\n",
    "X = pd.DataFrame({key : frame[key] for key in categorical_columns + non_categorical_columns})\n",
    "X[categorical_columns] = X[categorical_columns].apply(lambda col : le.fit_transform(col))\n",
    "\n",
    "for x in non_categorical_columns:\n",
    "    X[x] = X[x].fillna(X[x].mean())\n",
    "\n",
    "indices = [X.columns.get_loc(c) for c in categorical_columns]\n",
    "ohe = OneHotEncoder(categorical_features=indices, sparse=False)\n",
    "X = ohe.fit_transform(X)\n",
    "Y = pd.DataFrame({\"y\" : frame[\"Score\"]})\n",
    "k = 10\n",
    "Y = convertToClass(Y, k)\n",
    "Y[\"y\"].value_counts()"
   ]
  },
  {
   "cell_type": "code",
   "execution_count": 63,
   "metadata": {
    "collapsed": false
   },
   "outputs": [
    {
     "name": "stderr",
     "output_type": "stream",
     "text": [
      "//anaconda/lib/python3.5/site-packages/sklearn/utils/validation.py:526: DataConversionWarning: A column-vector y was passed when a 1d array was expected. Please change the shape of y to (n_samples, ), for example using ravel().\n",
      "  y = column_or_1d(y, warn=True)\n",
      "//anaconda/lib/python3.5/site-packages/sklearn/discriminant_analysis.py:695: UserWarning: Variables are collinear\n",
      "  warnings.warn(\"Variables are collinear\")\n"
     ]
    },
    {
     "data": {
      "text/plain": [
       "QuadraticDiscriminantAnalysis(priors=None, reg_param=0.0,\n",
       "               store_covariances=False, tol=0.0001)"
      ]
     },
     "execution_count": 63,
     "metadata": {},
     "output_type": "execute_result"
    }
   ],
   "source": [
    "x_train, x_test, y_train, y_test = train_test_split(X, Y, test_size=0.2)\n",
    "clf = QuadraticDiscriminantAnalysis()\n",
    "clf.fit(x_train, y_train)"
   ]
  },
  {
   "cell_type": "code",
   "execution_count": 64,
   "metadata": {
    "collapsed": false
   },
   "outputs": [
    {
     "name": "stdout",
     "output_type": "stream",
     "text": [
      "0.3769825132167548\n",
      "[[  2   0   0   0   0   0   0   0   0]\n",
      " [  0   3   0   0   2   0   0   0   0]\n",
      " [  0   0  34   3  17   0   2   2   1]\n",
      " [  0   0   0 167  79   7   0   0   0]\n",
      " [  0   0  18  46 438  10   9  17  88]\n",
      " [  0   0  45 127 252  75  40  54 250]\n",
      " [  0   0  23  30 155  19 154  22  84]\n",
      " [  0   0   6  10  61   5   3  39  30]\n",
      " [  0   0   0   1  13   1   0   0  15]]\n"
     ]
    }
   ],
   "source": [
    "# Training data\n",
    "y_pred = clf.predict(x_train)\n",
    "confusion_m = confusion_matrix(y_train, y_pred)\n",
    "training_accuracy = clf.score(x_train, y_train)\n",
    "print(training_accuracy)\n",
    "print(confusion_m)"
   ]
  },
  {
   "cell_type": "code",
   "execution_count": 65,
   "metadata": {
    "collapsed": false
   },
   "outputs": [
    {
     "name": "stdout",
     "output_type": "stream",
     "text": [
      "0.11707317073170732\n",
      "[[ 0  0  1  0  0  0  0  2]\n",
      " [ 0  1  0  3  1  1  0  2]\n",
      " [ 0  3  9 16  1  0  5 17]\n",
      " [ 0 13 28 44  4  6 18 48]\n",
      " [ 0 17 45 67  4 10 16 49]\n",
      " [ 0 15 26 42  2  9 13 31]\n",
      " [ 0  1  3 12  1  2  0 18]\n",
      " [ 0  0  0  3  0  1  0  5]]\n"
     ]
    }
   ],
   "source": [
    "# Testing data\n",
    "y_pred = clf.predict(x_test)\n",
    "confusion_m = confusion_matrix(y_test, y_pred)\n",
    "test_accuracy = clf.score(x_test, y_test)\n",
    "print(test_accuracy)\n",
    "print(confusion_m)"
   ]
  },
  {
   "cell_type": "markdown",
   "metadata": {},
   "source": [
    "# K Nearest Neighbors"
   ]
  },
  {
   "cell_type": "code",
   "execution_count": 78,
   "metadata": {
    "collapsed": false
   },
   "outputs": [
    {
     "data": {
      "text/plain": [
       "7.0     1051\n",
       "6.0      787\n",
       "8.0      625\n",
       "5.0      304\n",
       "9.0      191\n",
       "4.0       67\n",
       "10.0      39\n",
       "3.0        8\n",
       "2.0        2\n",
       "Name: y, dtype: int64"
      ]
     },
     "execution_count": 78,
     "metadata": {},
     "output_type": "execute_result"
    }
   ],
   "source": [
    "# Data Cleaning\n",
    "le = LabelEncoder()\n",
    "X = pd.DataFrame({key : frame[key] for key in categorical_columns + non_categorical_columns})\n",
    "X[categorical_columns] = X[categorical_columns].apply(lambda col : le.fit_transform(col))\n",
    "\n",
    "for x in non_categorical_columns:\n",
    "    X[x] = X[x].fillna(X[x].mean())\n",
    "\n",
    "indices = [X.columns.get_loc(c) for c in categorical_columns]\n",
    "ohe = OneHotEncoder(categorical_features=indices, sparse=False)\n",
    "X = ohe.fit_transform(X)\n",
    "Y = pd.DataFrame({\"y\" : frame[\"Score\"]})\n",
    "k = 10\n",
    "Y = convertToClass(Y, k)\n",
    "Y[\"y\"].value_counts()"
   ]
  },
  {
   "cell_type": "code",
   "execution_count": 79,
   "metadata": {
    "collapsed": false
   },
   "outputs": [
    {
     "name": "stderr",
     "output_type": "stream",
     "text": [
      "//anaconda/lib/python3.5/site-packages/ipykernel/__main__.py:3: DataConversionWarning: A column-vector y was passed when a 1d array was expected. Please change the shape of y to (n_samples, ), for example using ravel().\n",
      "  app.launch_new_instance()\n"
     ]
    },
    {
     "data": {
      "text/plain": [
       "KNeighborsClassifier(algorithm='auto', leaf_size=30, metric='minkowski',\n",
       "           metric_params=None, n_jobs=1, n_neighbors=15, p=2,\n",
       "           weights='uniform')"
      ]
     },
     "execution_count": 79,
     "metadata": {},
     "output_type": "execute_result"
    }
   ],
   "source": [
    "x_train, x_test, y_train, y_test = train_test_split(X, Y, test_size=0.2)\n",
    "neigh = KNeighborsClassifier(n_neighbors=15)\n",
    "neigh.fit(x_train, y_train)"
   ]
  },
  {
   "cell_type": "code",
   "execution_count": 80,
   "metadata": {
    "collapsed": false
   },
   "outputs": [
    {
     "name": "stdout",
     "output_type": "stream",
     "text": [
      "0.3310288735258235\n",
      "[[  0   0   0   0   2   0   0   0   0]\n",
      " [  0   0   0   0   1   4   1   0   0]\n",
      " [  0   0   0   3  26  20   4   1   0]\n",
      " [  0   0   0  23  68 117  28   1   0]\n",
      " [  0   0   0  22 283 267  49   4   0]\n",
      " [  0   0   0  26 193 532  80   1   0]\n",
      " [  0   0   0  20 126 224 134   2   0]\n",
      " [  0   0   0   8  52  70  34   0   0]\n",
      " [  0   0   0   5   6  22   0   0   0]]\n"
     ]
    }
   ],
   "source": [
    "# Training data\n",
    "y_pred = neigh.predict(x_train)\n",
    "confusion_m = confusion_matrix(y_train, y_pred)\n",
    "training_accuracy = clf.score(x_train, y_train)\n",
    "print(training_accuracy)\n",
    "print(confusion_m)"
   ]
  },
  {
   "cell_type": "code",
   "execution_count": 81,
   "metadata": {
    "collapsed": false
   },
   "outputs": [
    {
     "name": "stdout",
     "output_type": "stream",
     "text": [
      "0.3008130081300813\n",
      "[[  0   0   0   0   1   1   0   0]\n",
      " [  0   0   2   5   4   2   0   0]\n",
      " [  0   0   4  19  28  15   1   0]\n",
      " [  0   0  11  48  81  22   0   0]\n",
      " [  0   0   7  67 110  35   0   0]\n",
      " [  0   0   7  40  57  15   0   0]\n",
      " [  0   0   0   6  16   5   0   0]\n",
      " [  0   0   1   2   2   1   0   0]]\n"
     ]
    }
   ],
   "source": [
    "# Testing data\n",
    "y_pred = neigh.predict(x_test)\n",
    "confusion_m = confusion_matrix(y_test, y_pred)\n",
    "test_accuracy = clf.score(x_test, y_test)\n",
    "print(test_accuracy)\n",
    "print(confusion_m)"
   ]
  },
  {
   "cell_type": "markdown",
   "metadata": {},
   "source": [
    "# PCA"
   ]
  },
  {
   "cell_type": "code",
   "execution_count": null,
   "metadata": {
    "collapsed": true
   },
   "outputs": [],
   "source": []
  }
 ],
 "metadata": {
  "anaconda-cloud": {},
  "kernelspec": {
   "display_name": "Python [default]",
   "language": "python",
   "name": "python3"
  },
  "language_info": {
   "codemirror_mode": {
    "name": "ipython",
    "version": 3
   },
   "file_extension": ".py",
   "mimetype": "text/x-python",
   "name": "python",
   "nbconvert_exporter": "python",
   "pygments_lexer": "ipython3",
   "version": "3.5.2"
  }
 },
 "nbformat": 4,
 "nbformat_minor": 1
}
