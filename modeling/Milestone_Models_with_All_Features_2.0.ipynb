{
 "cells": [
  {
   "cell_type": "code",
   "execution_count": 1,
   "metadata": {
    "collapsed": false
   },
   "outputs": [],
   "source": [
    "import numpy as np\n",
    "import pandas as pd\n",
    "import matplotlib.pyplot as plt\n",
    "from sklearn.metrics import mean_squared_error\n",
    "from sklearn.metrics import confusion_matrix\n",
    "from sklearn.model_selection import cross_val_score\n",
    "from sklearn.model_selection import train_test_split\n",
    "from sklearn import preprocessing\n",
    "from sklearn.preprocessing import LabelEncoder\n",
    "from sklearn.preprocessing import OneHotEncoder\n",
    "from sklearn.linear_model import LinearRegression\n",
    "from sklearn import linear_model\n",
    "from sklearn.linear_model import LogisticRegression\n",
    "from sklearn.svm import SVC\n",
    "from sklearn import tree\n",
    "from sklearn.discriminant_analysis import LinearDiscriminantAnalysis\n",
    "from sklearn.discriminant_analysis import QuadraticDiscriminantAnalysis\n",
    "from sklearn.neighbors import KNeighborsClassifier\n",
    "from sklearn.decomposition import PCA\n",
    "from sklearn.linear_model import Ridge\n",
    "from sklearn.svm import SVR\n",
    "from load_data import *"
   ]
  },
  {
   "cell_type": "markdown",
   "metadata": {},
   "source": [
    "# Data Exploration"
   ]
  },
  {
   "cell_type": "code",
   "execution_count": 2,
   "metadata": {
    "collapsed": false
   },
   "outputs": [
    {
     "data": {
      "text/plain": [
       "Index(['name', 'domain', 'year founded', 'industry', 'size range', 'city',\n",
       "       ' state', 'country', ' linkedin url', 'current employee estimate',\n",
       "       'total employee estimate', 'Score', 'reviews', 'salaries', 'interviews',\n",
       "       'KMT', 'market_cap', 'enterprise_value', 'trailing_pe', 'forward_pe',\n",
       "       'peg_ratio_5', 'price_sales', 'price_book', 'enterprise_value_revenue',\n",
       "       'enterprise_value_ebitda', 'profit_margin', 'operating_margin',\n",
       "       'return_on_assets', 'return_on_equity', 'revenue', 'revenue_per_share',\n",
       "       'quarterly_revenue_share', 'gross_profit', 'ebitda',\n",
       "       'net_income_avi_to_common', 'diluted_eps', 'quarterly_earnings_growth',\n",
       "       'total_cash', 'total_cash_per_share', 'total_dept',\n",
       "       'total_dept_per_equity', 'operating_cash_flow',\n",
       "       'leveraged_free_cash_flow', 'stock_beta_3y', 'stock 52_week',\n",
       "       'stock_sp500_52_week', 'stock_52_week_high', 'stock_52_week_low'],\n",
       "      dtype='object')"
      ]
     },
     "execution_count": 2,
     "metadata": {},
     "output_type": "execute_result"
    }
   ],
   "source": [
    "data_path = \"../data/with_stock_data.csv\"\n",
    "frame = pd.read_csv(data_path)\n",
    "frame.columns"
   ]
  },
  {
   "cell_type": "code",
   "execution_count": 3,
   "metadata": {
    "collapsed": false
   },
   "outputs": [
    {
     "data": {
      "image/png": "[encoded data removed]",
      "text/plain": [
       "<matplotlib.figure.Figure at 0x11a793208>"
      ]
     },
     "metadata": {},
     "output_type": "display_data"
    }
   ],
   "source": [
    "frame['Score']\n",
    "plt.hist(frame['Score'], alpha=0.3)\n",
    "plt.show()"
   ]
  },
  {
   "cell_type": "markdown",
   "metadata": {},
   "source": [
    "# Feature Selection"
   ]
  },
  {
   "cell_type": "code",
   "execution_count": 4,
   "metadata": {
    "collapsed": true
   },
   "outputs": [],
   "source": [
    "# Pick Features\n",
    "non_categorical_columns = ['year founded', 'current employee estimate', 'total employee estimate', 'reviews', 'salaries', 'interviews', 'market_cap', 'enterprise_value', 'trailing_pe', 'forward_pe', 'peg_ratio_5', 'price_sales', 'price_book', 'enterprise_value_revenue', 'enterprise_value_ebitda', 'profit_margin', 'operating_margin', 'return_on_assets', 'return_on_equity', 'revenue', 'revenue_per_share', 'quarterly_revenue_share', 'gross_profit', 'ebitda', 'net_income_avi_to_common', 'diluted_eps', 'quarterly_earnings_growth', 'total_cash', 'total_cash_per_share', 'total_dept', 'total_dept_per_equity', 'operating_cash_flow', 'leveraged_free_cash_flow', 'stock_beta_3y', 'stock 52_week', 'stock_sp500_52_week', 'stock_52_week_high', 'stock_52_week_low']\n",
    "categorical_columns = ['industry', 'size range', 'city', ' state', 'country']"
   ]
  },
  {
   "cell_type": "code",
   "execution_count": 50,
   "metadata": {
    "collapsed": false
   },
   "outputs": [],
   "source": [
    "x_train, y_train, x_test, y_test, x_test_unseen, y_test_unseen = load_and_clean(non_categorical_columns, categorical_columns)"
   ]
  },
  {
   "cell_type": "markdown",
   "metadata": {},
   "source": [
    "# General Functions"
   ]
  },
  {
   "cell_type": "code",
   "execution_count": 6,
   "metadata": {
    "collapsed": true
   },
   "outputs": [],
   "source": [
    "def convertToClass(Y, k):\n",
    "    return np.apply_along_axis(lambda elem : np.round(elem * k / 5), 0, Y)\n",
    "\n",
    "def evaluateRegressionModel(model, x, y):\n",
    "    y_pred = np.clip(model.predict(x), 0, 5).flatten()\n",
    "    \n",
    "    # MSE\n",
    "    print(\"Mean Square Error:\")\n",
    "    mse = mean_squared_error(y, y_pred)\n",
    "    print(mse)\n",
    "    \n",
    "    # Accuracy\n",
    "    print(\"Accuracy:\")\n",
    "    accuracy = sum(np.abs(y_pred - y.values.flatten()) <  0.25)/ y.shape[0]\n",
    "    print(accuracy)\n",
    "    \n",
    "    # Confusion matrix\n",
    "    y_pred = convertToClass(y_pred, 10)\n",
    "    y_actual = convertToClass(y, 10)\n",
    "    confusion_m = confusion_matrix(y_actual, y_pred)\n",
    "    print(\"Confusion Matrix:\")\n",
    "    print(confusion_m)\n",
    "    return (mse, accuracy, confusion_m)\n",
    "\n",
    "def evaluateClassificationModel(model, x, y):\n",
    "    y_pred = model.predict(x)\n",
    "    confusion_m = confusion_matrix(y, y_pred)\n",
    "    accuracy = model.score(x, y)\n",
    "    print(\"Accuracy:\")\n",
    "    print(accuracy)\n",
    "    print(\"Confusion Matrix:\")\n",
    "    print(confusion_m)\n",
    "    return (accuracy, confusion_m)"
   ]
  },
  {
   "cell_type": "markdown",
   "metadata": {},
   "source": [
    "# REGRESSION MODEL SECTION"
   ]
  },
  {
   "cell_type": "markdown",
   "metadata": {},
   "source": [
    "# Linear Regression (L1 Regularization)"
   ]
  },
  {
   "cell_type": "code",
   "execution_count": 7,
   "metadata": {
    "collapsed": false
   },
   "outputs": [
    {
     "name": "stderr",
     "output_type": "stream",
     "text": [
      "//anaconda/lib/python3.5/site-packages/sklearn/linear_model/coordinate_descent.py:484: ConvergenceWarning: Objective did not converge. You might want to increase the number of iterations. Fitting data with very small alpha may cause precision problems.\n",
      "  ConvergenceWarning)\n"
     ]
    },
    {
     "data": {
      "text/plain": [
       "Lasso(alpha=0.1, copy_X=True, fit_intercept=True, max_iter=1000,\n",
       "   normalize=False, positive=False, precompute=False, random_state=None,\n",
       "   selection='cyclic', tol=0.0001, warm_start=False)"
      ]
     },
     "execution_count": 7,
     "metadata": {},
     "output_type": "execute_result"
    }
   ],
   "source": [
    "linRegL1 = linear_model.Lasso(alpha=0.1, normalize=False)\n",
    "linRegL1.fit(x_train, y_train)"
   ]
  },
  {
   "cell_type": "code",
   "execution_count": 8,
   "metadata": {
    "collapsed": false
   },
   "outputs": [
    {
     "name": "stdout",
     "output_type": "stream",
     "text": [
      "ON TRAINING DATA:\n",
      "Mean Square Error:\n",
      "0.3233641563026438\n",
      "Accuracy:\n",
      "0.3664091093940626\n",
      "Confusion Matrix:\n",
      "[[  0   0   0   0   0   1   0   0   0]\n",
      " [  0   0   0   0   0   5   0   0   0]\n",
      " [  0   0   0   0   1  50   0   0   0]\n",
      " [  0   0   0   1   2 243   0   0   0]\n",
      " [  0   0   0   0  18 617   0   0   0]\n",
      " [  0   0   0   0   7 832   6   1   0]\n",
      " [  0   0   0   0   3 473  14   2   0]\n",
      " [  0   0   0   0   0 147   2   1   0]\n",
      " [  0   0   0   0   0  31   1   0   1]]\n"
     ]
    }
   ],
   "source": [
    "# Training Data\n",
    "print(\"ON TRAINING DATA:\")\n",
    "mse, accuracy, confusion_m = evaluateRegressionModel(linRegL1, x_train, y_train)"
   ]
  },
  {
   "cell_type": "code",
   "execution_count": 9,
   "metadata": {
    "collapsed": false
   },
   "outputs": [
    {
     "name": "stdout",
     "output_type": "stream",
     "text": [
      "ON TEST DATA:\n",
      "Mean Square Error:\n",
      "0.3695771178928576\n",
      "Accuracy:\n",
      "0.34651162790697676\n",
      "Confusion Matrix:\n",
      "[[  0   0   0   0   2   0   0   0]\n",
      " [  0   0   0   0   9   0   0   0]\n",
      " [  0   0   0   0  42   0   0   0]\n",
      " [  0   0   0   1 107   0   0   0]\n",
      " [  0   0   0   3 134   1   0   0]\n",
      " [  0   0   0   1  91   3   0   0]\n",
      " [  0   0   0   1  30   0   0   0]\n",
      " [  0   0   0   0   5   0   0   0]]\n"
     ]
    }
   ],
   "source": [
    "# ON TEST DATA\n",
    "print(\"ON TEST DATA:\")\n",
    "mse, accuracy, confusion_m = evaluateRegressionModel(linRegL1, x_test, y_test)"
   ]
  },
  {
   "cell_type": "markdown",
   "metadata": {},
   "source": [
    "# Linear Regression (L2 Regularization)"
   ]
  },
  {
   "cell_type": "code",
   "execution_count": 10,
   "metadata": {
    "collapsed": false
   },
   "outputs": [
    {
     "data": {
      "text/plain": [
       "Ridge(alpha=1.0, copy_X=True, fit_intercept=True, max_iter=None,\n",
       "   normalize=False, random_state=None, solver='auto', tol=0.001)"
      ]
     },
     "execution_count": 10,
     "metadata": {},
     "output_type": "execute_result"
    }
   ],
   "source": [
    "# Modeling\n",
    "linRegL2 = Ridge(alpha=1.0, normalize=False)\n",
    "linRegL2.fit(x_train, y_train)"
   ]
  },
  {
   "cell_type": "code",
   "execution_count": 11,
   "metadata": {
    "collapsed": false
   },
   "outputs": [
    {
     "name": "stdout",
     "output_type": "stream",
     "text": [
      "ON TRAINING DATA:\n",
      "Mean Square Error:\n",
      "0.18118945615222032\n",
      "Accuracy:\n",
      "0.5189101260675071\n",
      "Confusion Matrix:\n",
      "[[  0   0   0   1   0   0   0   0   0]\n",
      " [  0   0   0   4   0   1   0   0   0]\n",
      " [  0   0   0  18  21  12   0   0   0]\n",
      " [  0   0   0  22 149  72   3   0   0]\n",
      " [  0   0   0   6 301 316  12   0   0]\n",
      " [  0   0   0   0 106 686  54   0   0]\n",
      " [  0   0   0   0  28 338 124   2   0]\n",
      " [  0   0   0   0   4  71  68   7   0]\n",
      " [  0   0   0   0   1  11  14   6   1]]\n"
     ]
    }
   ],
   "source": [
    "# Training Data\n",
    "print(\"ON TRAINING DATA:\")\n",
    "mse, accuracy, confusion_m = evaluateRegressionModel(linRegL2, x_train, y_train)"
   ]
  },
  {
   "cell_type": "code",
   "execution_count": 12,
   "metadata": {
    "collapsed": false
   },
   "outputs": [
    {
     "name": "stdout",
     "output_type": "stream",
     "text": [
      "ON TEST DATA:\n",
      "Mean Square Error:\n",
      "0.4100846558578639\n",
      "Accuracy:\n",
      "0.32325581395348835\n",
      "Confusion Matrix:\n",
      "[[ 0  0  0  0  2  0  0  0]\n",
      " [ 0  0  0  2  7  0  0  0]\n",
      " [ 0  0  2 17 20  3  0  0]\n",
      " [ 0  0  2 25 74  7  0  0]\n",
      " [ 0  0  1 30 91 16  0  0]\n",
      " [ 0  0  3 17 63 11  1  0]\n",
      " [ 0  0  0  8 20  3  0  0]\n",
      " [ 0  0  0  1  4  0  0  0]]\n"
     ]
    }
   ],
   "source": [
    "# ON TEST DATA\n",
    "print(\"ON TEST DATA:\")\n",
    "mse, accuracy, confusion_m = evaluateRegressionModel(linRegL2, x_test, y_test)"
   ]
  },
  {
   "cell_type": "markdown",
   "metadata": {},
   "source": [
    "# Linear Regression"
   ]
  },
  {
   "cell_type": "code",
   "execution_count": 13,
   "metadata": {
    "collapsed": true
   },
   "outputs": [],
   "source": [
    "# Modeling\n",
    "linReg = LinearRegression().fit(x_train, y_train)"
   ]
  },
  {
   "cell_type": "code",
   "execution_count": 14,
   "metadata": {
    "collapsed": false
   },
   "outputs": [
    {
     "name": "stdout",
     "output_type": "stream",
     "text": [
      "ON TRAINING DATA:\n",
      "Mean Square Error:\n",
      "0.1632240352221002\n",
      "Accuracy:\n",
      "0.6132574217161447\n",
      "Confusion Matrix:\n",
      "[[  0   1   0   0   0   0   0   0   0]\n",
      " [  0   1   1   2   1   0   0   0   0]\n",
      " [  0   0  19   4  16  12   0   0   0]\n",
      " [  0   0   5  88  87  62   4   0   0]\n",
      " [  0   0   0  28 336 248  23   0   0]\n",
      " [  0   0   0   2 135 607 102   0   0]\n",
      " [  0   0   0   0  31 240 213   8   0]\n",
      " [  0   0   0   0   5  56  48  39   2]\n",
      " [  0   0   0   0   1   9  10   2  11]]\n"
     ]
    }
   ],
   "source": [
    "# Training Data\n",
    "print(\"ON TRAINING DATA:\")\n",
    "mse, accuracy, confusion_m = evaluateRegressionModel(linReg, x_train, y_train)"
   ]
  },
  {
   "cell_type": "code",
   "execution_count": 15,
   "metadata": {
    "collapsed": false
   },
   "outputs": [
    {
     "name": "stdout",
     "output_type": "stream",
     "text": [
      "ON TEST DATA:\n",
      "Mean Square Error:\n",
      "0.5791073624863085\n",
      "Accuracy:\n",
      "0.2930232558139535\n",
      "Confusion Matrix:\n",
      "[[ 0  0  0  0  0  0  0  0  0]\n",
      " [ 0  0  0  0  0  1  0  1  0]\n",
      " [ 0  0  0  0  2  6  0  1  0]\n",
      " [ 0  0  0  5 15 14  6  1  1]\n",
      " [ 1  0  4  8 24 52 15  3  1]\n",
      " [ 0  1  1  6 26 81 21  1  1]\n",
      " [ 0  0  3  3 18 49 19  1  2]\n",
      " [ 0  0  0  1  9 14  6  1  0]\n",
      " [ 0  0  0  0  1  3  1  0  0]]\n"
     ]
    }
   ],
   "source": [
    "# ON TEST DATA\n",
    "print(\"ON TEST DATA:\")\n",
    "mse, accuracy, confusion_m = evaluateRegressionModel(linReg, x_test, y_test)"
   ]
  },
  {
   "cell_type": "markdown",
   "metadata": {},
   "source": [
    "# Support Vector Regression"
   ]
  },
  {
   "cell_type": "code",
   "execution_count": 57,
   "metadata": {
    "collapsed": false
   },
   "outputs": [
    {
     "name": "stderr",
     "output_type": "stream",
     "text": [
      "//anaconda/lib/python3.5/site-packages/sklearn/utils/validation.py:526: DataConversionWarning: A column-vector y was passed when a 1d array was expected. Please change the shape of y to (n_samples, ), for example using ravel().\n",
      "  y = column_or_1d(y, warn=True)\n"
     ]
    }
   ],
   "source": [
    "# Modeling\n",
    "svr = SVR(C = 0.1).fit(x_train, y_train)"
   ]
  },
  {
   "cell_type": "code",
   "execution_count": 58,
   "metadata": {
    "collapsed": false
   },
   "outputs": [
    {
     "name": "stdout",
     "output_type": "stream",
     "text": [
      "ON TRAINING DATA:\n",
      "Mean Square Error:\n",
      "0.2532541899414199\n",
      "Accuracy:\n",
      "0.47458316388775923\n",
      "Confusion Matrix:\n",
      "[[  0   0   0   0   0   1   0   0   0]\n",
      " [  0   0   0   0   0   5   0   0   0]\n",
      " [  0   0   0   0   0  51   0   0   0]\n",
      " [  0   0   0   0   0 246   0   0   0]\n",
      " [  0   0   0   0   0 635   0   0   0]\n",
      " [  0   0   0   0   0 846   0   0   0]\n",
      " [  0   0   0   0   0 492   0   0   0]\n",
      " [  0   0   0   0   0 150   0   0   0]\n",
      " [  0   0   0   0   0  33   0   0   0]]\n"
     ]
    }
   ],
   "source": [
    "# Training Data\n",
    "print(\"ON TRAINING DATA:\")\n",
    "mse, accuracy, confusion_m = evaluateRegressionModel(svr, x_train, y_train)"
   ]
  },
  {
   "cell_type": "code",
   "execution_count": 59,
   "metadata": {
    "collapsed": false
   },
   "outputs": [
    {
     "name": "stdout",
     "output_type": "stream",
     "text": [
      "ON TEST DATA:\n",
      "Mean Square Error:\n",
      "0.369694114533127\n",
      "Accuracy:\n",
      "0.3302325581395349\n",
      "Confusion Matrix:\n",
      "[[  0   0   0   0   2   0   0   0]\n",
      " [  0   0   0   0   9   0   0   0]\n",
      " [  0   0   0   0  42   0   0   0]\n",
      " [  0   0   0   0 108   0   0   0]\n",
      " [  0   0   0   0 138   0   0   0]\n",
      " [  0   0   0   0  95   0   0   0]\n",
      " [  0   0   0   0  31   0   0   0]\n",
      " [  0   0   0   0   5   0   0   0]]\n"
     ]
    }
   ],
   "source": [
    "# ON TEST DATA\n",
    "print(\"ON TEST DATA:\")\n",
    "mse, accuracy, confusion_m = evaluateRegressionModel(svr, x_test, y_test)"
   ]
  },
  {
   "cell_type": "markdown",
   "metadata": {},
   "source": [
    "# CLASSIFICATION MODEL SECTION"
   ]
  },
  {
   "cell_type": "code",
   "execution_count": 19,
   "metadata": {
    "collapsed": false
   },
   "outputs": [
    {
     "name": "stdout",
     "output_type": "stream",
     "text": [
      "Ran.\n"
     ]
    }
   ],
   "source": [
    "k = 10\n",
    "y_train = convertToClass(y_train, k)\n",
    "y_test = convertToClass(y_test, k)\n",
    "print(\"Ran.\")"
   ]
  },
  {
   "cell_type": "markdown",
   "metadata": {},
   "source": [
    "# Softmax"
   ]
  },
  {
   "cell_type": "code",
   "execution_count": 20,
   "metadata": {
    "collapsed": false
   },
   "outputs": [
    {
     "name": "stderr",
     "output_type": "stream",
     "text": [
      "//anaconda/lib/python3.5/site-packages/sklearn/utils/validation.py:526: DataConversionWarning: A column-vector y was passed when a 1d array was expected. Please change the shape of y to (n_samples, ), for example using ravel().\n",
      "  y = column_or_1d(y, warn=True)\n"
     ]
    },
    {
     "data": {
      "text/plain": [
       "LogisticRegression(C=1.0, class_weight=None, dual=False, fit_intercept=True,\n",
       "          intercept_scaling=1, max_iter=100, multi_class='multinomial',\n",
       "          n_jobs=1, penalty='l2', random_state=None, solver='lbfgs',\n",
       "          tol=0.0001, verbose=0, warm_start=False)"
      ]
     },
     "execution_count": 20,
     "metadata": {},
     "output_type": "execute_result"
    }
   ],
   "source": [
    "softmax = LogisticRegression(multi_class='multinomial', solver='lbfgs')\n",
    "softmax.fit(x_train, y_train)"
   ]
  },
  {
   "cell_type": "code",
   "execution_count": 21,
   "metadata": {
    "collapsed": false
   },
   "outputs": [
    {
     "name": "stdout",
     "output_type": "stream",
     "text": [
      "ON TRAINING DATA:\n",
      "Accuracy:\n",
      "0.3082553883692558\n",
      "Confusion Matrix:\n",
      "[[  0   0   0   0   0   0   0   1   0]\n",
      " [  0   0   0   0   1   4   0   0   0]\n",
      " [  0   0   0   0   6  28  17   0   0]\n",
      " [  0   0   0   0  43 151  49   3   0]\n",
      " [  2   0   0   0  90 411 126   6   0]\n",
      " [  0   1   1   0 127 537 172   8   0]\n",
      " [  0   0   0   0  79 283 128   2   0]\n",
      " [  0   0   0   0  26  85  36   3   0]\n",
      " [  0   0   0   0   5  22   5   1   0]]\n"
     ]
    }
   ],
   "source": [
    "# Training data\n",
    "print(\"ON TRAINING DATA:\")\n",
    "accuracy, confusion_m = evaluateClassificationModel(softmax, x_train, y_train)"
   ]
  },
  {
   "cell_type": "code",
   "execution_count": 22,
   "metadata": {
    "collapsed": false
   },
   "outputs": [
    {
     "name": "stdout",
     "output_type": "stream",
     "text": [
      "ON TESTING DATA:\n",
      "Accuracy:\n",
      "0.27674418604651163\n",
      "Confusion Matrix:\n",
      "[[ 0  0  0  0  1  1  0  0]\n",
      " [ 0  0  0  2  4  3  0  0]\n",
      " [ 0  0  0  5 33  4  0  0]\n",
      " [ 0  0  0 10 84 14  0  0]\n",
      " [ 0  0  0 19 85 32  2  0]\n",
      " [ 0  0  0  7 63 24  1  0]\n",
      " [ 0  0  0  4 19  8  0  0]\n",
      " [ 0  0  0  1  2  2  0  0]]\n"
     ]
    }
   ],
   "source": [
    "# Testing data\n",
    "print(\"ON TESTING DATA:\")\n",
    "accuracy, confusion_m = evaluateClassificationModel(softmax, x_test, y_test)"
   ]
  },
  {
   "cell_type": "markdown",
   "metadata": {},
   "source": [
    "# Support Vector Machine, Kernel = rbf"
   ]
  },
  {
   "cell_type": "code",
   "execution_count": 23,
   "metadata": {
    "collapsed": false
   },
   "outputs": [
    {
     "name": "stderr",
     "output_type": "stream",
     "text": [
      "//anaconda/lib/python3.5/site-packages/sklearn/utils/validation.py:526: DataConversionWarning: A column-vector y was passed when a 1d array was expected. Please change the shape of y to (n_samples, ), for example using ravel().\n",
      "  y = column_or_1d(y, warn=True)\n"
     ]
    },
    {
     "data": {
      "text/plain": [
       "SVC(C=0.8, cache_size=200, class_weight=None, coef0=0.0,\n",
       "  decision_function_shape=None, degree=3, gamma='auto', kernel='rbf',\n",
       "  max_iter=-1, probability=False, random_state=None, shrinking=True,\n",
       "  tol=0.001, verbose=False)"
      ]
     },
     "execution_count": 23,
     "metadata": {},
     "output_type": "execute_result"
    }
   ],
   "source": [
    "svm_rbf = SVC(gamma = 'auto', kernel='rbf', C=.8)\n",
    "svm_rbf.fit(x_train, y_train)"
   ]
  },
  {
   "cell_type": "code",
   "execution_count": 24,
   "metadata": {
    "collapsed": false
   },
   "outputs": [
    {
     "name": "stdout",
     "output_type": "stream",
     "text": [
      "ON TRAINING DATA:\n",
      "Accuracy:\n",
      "0.9003660024400163\n",
      "Confusion Matrix:\n",
      "[[  0   0   0   0   0   1   0   0   0]\n",
      " [  0   0   0   0   0   5   0   0   0]\n",
      " [  0   0   0   0   0  51   0   0   0]\n",
      " [  0   0   0 244   0   2   0   0   0]\n",
      " [  0   0   0   0 635   0   0   0   0]\n",
      " [  0   0   0   0   0 846   0   0   0]\n",
      " [  0   0   0   0   0   3 489   0   0]\n",
      " [  0   0   0   0   0 150   0   0   0]\n",
      " [  0   0   0   0   0  33   0   0   0]]\n"
     ]
    }
   ],
   "source": [
    "# Training data\n",
    "print(\"ON TRAINING DATA:\")\n",
    "accuracy, confusion_m = evaluateClassificationModel(svm_rbf, x_train, y_train)"
   ]
  },
  {
   "cell_type": "code",
   "execution_count": 25,
   "metadata": {
    "collapsed": false
   },
   "outputs": [
    {
     "name": "stdout",
     "output_type": "stream",
     "text": [
      "ON TESTING DATA:\n",
      "Accuracy:\n",
      "0.3209302325581395\n",
      "Confusion Matrix:\n",
      "[[  0   0   0   0   2   0   0   0]\n",
      " [  0   0   0   0   9   0   0   0]\n",
      " [  0   0   0   0  42   0   0   0]\n",
      " [  0   0   0   0 108   0   0   0]\n",
      " [  0   0   0   0 138   0   0   0]\n",
      " [  0   0   0   0  95   0   0   0]\n",
      " [  0   0   0   0  31   0   0   0]\n",
      " [  0   0   0   0   5   0   0   0]]\n"
     ]
    }
   ],
   "source": [
    "# Testing data\n",
    "print(\"ON TESTING DATA:\")\n",
    "accuracy, confusion_m = evaluateClassificationModel(svm_rbf, x_test, y_test)"
   ]
  },
  {
   "cell_type": "markdown",
   "metadata": {},
   "source": [
    "# Support Vector Machine, Kernel = linear"
   ]
  },
  {
   "cell_type": "code",
   "execution_count": 26,
   "metadata": {
    "collapsed": false
   },
   "outputs": [
    {
     "name": "stderr",
     "output_type": "stream",
     "text": [
      "//anaconda/lib/python3.5/site-packages/sklearn/utils/validation.py:526: DataConversionWarning: A column-vector y was passed when a 1d array was expected. Please change the shape of y to (n_samples, ), for example using ravel().\n",
      "  y = column_or_1d(y, warn=True)\n",
      "//anaconda/lib/python3.5/site-packages/sklearn/svm/base.py:220: ConvergenceWarning: Solver terminated early (max_iter=5000).  Consider pre-processing your data with StandardScaler or MinMaxScaler.\n",
      "  % self.max_iter, ConvergenceWarning)\n"
     ]
    },
    {
     "data": {
      "text/plain": [
       "SVC(C=1, cache_size=200, class_weight=None, coef0=0.0,\n",
       "  decision_function_shape=None, degree=3, gamma='auto', kernel='linear',\n",
       "  max_iter=5000, probability=False, random_state=None, shrinking=True,\n",
       "  tol=0.001, verbose=False)"
      ]
     },
     "execution_count": 26,
     "metadata": {},
     "output_type": "execute_result"
    }
   ],
   "source": [
    "svm_linear = SVC(gamma = 'auto', kernel='linear', C=1, max_iter=5000)\n",
    "svm_linear.fit(x_train, y_train)"
   ]
  },
  {
   "cell_type": "code",
   "execution_count": 27,
   "metadata": {
    "collapsed": false
   },
   "outputs": [
    {
     "name": "stdout",
     "output_type": "stream",
     "text": [
      "ON TRAINING DATA:\n",
      "Accuracy:\n",
      "0.10573403822692151\n",
      "Confusion Matrix:\n",
      "[[  0   0   0   1   0   0   0   0   0]\n",
      " [  0   0   0   4   1   0   0   0   0]\n",
      " [  0   0   3  41   2   0   0   2   3]\n",
      " [  0   2  11 211   2   2   0  11   7]\n",
      " [  1  14  29 516  14   6   2  38  15]\n",
      " [  1  17  55 658  21  18   3  52  21]\n",
      " [  1   6  44 352  14  18   5  38  14]\n",
      " [  0   4  13 118   1   4   0   7   3]\n",
      " [  0   0   3  24   0   0   0   4   2]]\n"
     ]
    }
   ],
   "source": [
    "# Training data\n",
    "print(\"ON TRAINING DATA:\")\n",
    "accuracy, confusion_m = evaluateClassificationModel(svm_linear, x_train, y_train)"
   ]
  },
  {
   "cell_type": "code",
   "execution_count": 28,
   "metadata": {
    "collapsed": false
   },
   "outputs": [
    {
     "name": "stdout",
     "output_type": "stream",
     "text": [
      "ON TESTING DATA:\n",
      "Accuracy:\n",
      "0.10465116279069768\n",
      "Confusion Matrix:\n",
      "[[  0   0   2   0   0   0   0   0]\n",
      " [  1   0   5   1   0   0   0   2]\n",
      " [  1   4  34   0   0   0   2   1]\n",
      " [  0   6  86   2   1   0  12   1]\n",
      " [  2   7 106   3   3   1  12   4]\n",
      " [  2   6  70   1   4   1   6   5]\n",
      " [  0   2  22   0   1   0   5   1]\n",
      " [  0   0   4   0   0   0   1   0]]\n"
     ]
    }
   ],
   "source": [
    "# Testing data\n",
    "print(\"ON TESTING DATA:\")\n",
    "accuracy, confusion_m = evaluateClassificationModel(svm_linear, x_test, y_test)"
   ]
  },
  {
   "cell_type": "markdown",
   "metadata": {},
   "source": [
    "# Decision Trees"
   ]
  },
  {
   "cell_type": "code",
   "execution_count": 29,
   "metadata": {
    "collapsed": false
   },
   "outputs": [
    {
     "data": {
      "text/plain": [
       "DecisionTreeClassifier(class_weight=None, criterion='gini', max_depth=15,\n",
       "            max_features=None, max_leaf_nodes=None,\n",
       "            min_impurity_split=1e-07, min_samples_leaf=1,\n",
       "            min_samples_split=2, min_weight_fraction_leaf=0.0,\n",
       "            presort=False, random_state=None, splitter='best')"
      ]
     },
     "execution_count": 29,
     "metadata": {},
     "output_type": "execute_result"
    }
   ],
   "source": [
    "tree = tree.DecisionTreeClassifier(max_depth = 15)\n",
    "tree.fit(x_train, y_train)"
   ]
  },
  {
   "cell_type": "code",
   "execution_count": 30,
   "metadata": {
    "collapsed": false
   },
   "outputs": [
    {
     "name": "stdout",
     "output_type": "stream",
     "text": [
      "ON TRAINING DATA:\n",
      "Accuracy:\n",
      "0.7592517283448557\n",
      "Confusion Matrix:\n",
      "[[  1   0   0   0   0   0   0   0   0]\n",
      " [  0   1   0   0   0   3   0   1   0]\n",
      " [  0   0  19   1  21  10   0   0   0]\n",
      " [  0   0   2 119  72  49   3   1   0]\n",
      " [  0   0   0   3 550  74   4   4   0]\n",
      " [  0   0   2   3 103 724  10   4   0]\n",
      " [  0   0   0  10  69  66 345   2   0]\n",
      " [  0   0   2   5  29  29   1  84   0]\n",
      " [  0   0   0   2   3   2   0   2  24]]\n"
     ]
    }
   ],
   "source": [
    "# Training data\n",
    "print(\"ON TRAINING DATA:\")\n",
    "accuracy, confusion_m = evaluateClassificationModel(tree, x_train, y_train)"
   ]
  },
  {
   "cell_type": "code",
   "execution_count": 31,
   "metadata": {
    "collapsed": false
   },
   "outputs": [
    {
     "name": "stdout",
     "output_type": "stream",
     "text": [
      "ON TESTING DATA:\n",
      "Accuracy:\n",
      "0.27209302325581397\n",
      "Confusion Matrix:\n",
      "[[ 0  0  0  0  2  0  0  0]\n",
      " [ 0  0  0  1  7  1  0  0]\n",
      " [ 0  1  2 17 12  8  1  1]\n",
      " [ 0  2  1 44 43 15  3  0]\n",
      " [ 0  1 13 48 45 22  6  3]\n",
      " [ 0  0  3 35 30 24  3  0]\n",
      " [ 0  0  4 10  9  6  2  0]\n",
      " [ 0  0  0  2  2  1  0  0]]\n"
     ]
    }
   ],
   "source": [
    "# Testing data\n",
    "print(\"ON TESTING DATA:\")\n",
    "accuracy, confusion_m = evaluateClassificationModel(tree, x_test, y_test)"
   ]
  },
  {
   "cell_type": "markdown",
   "metadata": {},
   "source": [
    "# Linear Discriminant Analysis"
   ]
  },
  {
   "cell_type": "code",
   "execution_count": 32,
   "metadata": {
    "collapsed": false
   },
   "outputs": [
    {
     "name": "stderr",
     "output_type": "stream",
     "text": [
      "//anaconda/lib/python3.5/site-packages/sklearn/utils/validation.py:526: DataConversionWarning: A column-vector y was passed when a 1d array was expected. Please change the shape of y to (n_samples, ), for example using ravel().\n",
      "  y = column_or_1d(y, warn=True)\n",
      "//anaconda/lib/python3.5/site-packages/sklearn/discriminant_analysis.py:387: UserWarning: Variables are collinear.\n",
      "  warnings.warn(\"Variables are collinear.\")\n"
     ]
    },
    {
     "data": {
      "text/plain": [
       "LinearDiscriminantAnalysis(n_components=None, priors=None, shrinkage=None,\n",
       "              solver='svd', store_covariance=False, tol=0.0001)"
      ]
     },
     "execution_count": 32,
     "metadata": {},
     "output_type": "execute_result"
    }
   ],
   "source": [
    "lda = LinearDiscriminantAnalysis()\n",
    "lda.fit(x_train, y_train)"
   ]
  },
  {
   "cell_type": "code",
   "execution_count": 33,
   "metadata": {
    "collapsed": false
   },
   "outputs": [
    {
     "name": "stdout",
     "output_type": "stream",
     "text": [
      "ON TRAINING DATA:\n",
      "Accuracy:\n",
      "0.7031313542090281\n",
      "Confusion Matrix:\n",
      "[[  1   0   0   0   0   0   0   0   0]\n",
      " [  0   4   0   0   0   1   0   0   0]\n",
      " [  0   0  35   0   6   5   3   2   0]\n",
      " [  0   0   2 155  39  21  22   7   0]\n",
      " [  0   0   3  17 484  60  62   7   2]\n",
      " [  0   1   3  20 124 571 112  12   3]\n",
      " [  0   0   0   8  60  45 372   6   1]\n",
      " [  0   0   0   2  22  14  22  90   0]\n",
      " [  0   0   0   0   4  10   2   0  17]]\n"
     ]
    }
   ],
   "source": [
    "# Training data\n",
    "print(\"ON TRAINING DATA:\")\n",
    "accuracy, confusion_m = evaluateClassificationModel(lda, x_train, y_train)"
   ]
  },
  {
   "cell_type": "code",
   "execution_count": 34,
   "metadata": {
    "collapsed": false
   },
   "outputs": [
    {
     "name": "stdout",
     "output_type": "stream",
     "text": [
      "ON TESTING DATA:\n",
      "Accuracy:\n",
      "0.26744186046511625\n",
      "Confusion Matrix:\n",
      "[[ 0  0  0  0  0  0  0  0  0]\n",
      " [ 0  0  0  0  0  1  1  0  0]\n",
      " [ 1  0  0  0  4  2  1  1  0]\n",
      " [ 1  0  1  4 14 12  7  3  0]\n",
      " [ 3  0  2  7 36 32 24  4  0]\n",
      " [ 0  0  0 10 44 50 26  7  1]\n",
      " [ 1  0  4  4 28 26 25  6  1]\n",
      " [ 0  0  1  2 11  8  9  0  0]\n",
      " [ 0  0  0  0  1  2  2  0  0]]\n"
     ]
    }
   ],
   "source": [
    "# Testing data\n",
    "print(\"ON TESTING DATA:\")\n",
    "accuracy, confusion_m = evaluateClassificationModel(lda, x_test, y_test)"
   ]
  },
  {
   "cell_type": "markdown",
   "metadata": {},
   "source": [
    "# QDA"
   ]
  },
  {
   "cell_type": "code",
   "execution_count": 35,
   "metadata": {
    "collapsed": false
   },
   "outputs": [
    {
     "name": "stderr",
     "output_type": "stream",
     "text": [
      "//anaconda/lib/python3.5/site-packages/sklearn/utils/validation.py:526: DataConversionWarning: A column-vector y was passed when a 1d array was expected. Please change the shape of y to (n_samples, ), for example using ravel().\n",
      "  y = column_or_1d(y, warn=True)\n"
     ]
    },
    {
     "ename": "ValueError",
     "evalue": "y has only 1 sample in class 2.0, covariance is ill defined.",
     "output_type": "error",
     "traceback": [
      "\u001b[0;31m---------------------------------------------------------------------------\u001b[0m",
      "\u001b[0;31mValueError\u001b[0m                                Traceback (most recent call last)",
      "\u001b[0;32m<ipython-input-35-358172b9fbc2>\u001b[0m in \u001b[0;36m<module>\u001b[0;34m()\u001b[0m\n\u001b[1;32m      1\u001b[0m \u001b[0mqda\u001b[0m \u001b[0;34m=\u001b[0m \u001b[0mQuadraticDiscriminantAnalysis\u001b[0m\u001b[0;34m(\u001b[0m\u001b[0;34m)\u001b[0m\u001b[0;34m\u001b[0m\u001b[0m\n\u001b[0;32m----> 2\u001b[0;31m \u001b[0mqda\u001b[0m\u001b[0;34m.\u001b[0m\u001b[0mfit\u001b[0m\u001b[0;34m(\u001b[0m\u001b[0mx_train\u001b[0m\u001b[0;34m,\u001b[0m \u001b[0my_train\u001b[0m\u001b[0;34m)\u001b[0m\u001b[0;34m\u001b[0m\u001b[0m\n\u001b[0m",
      "\u001b[0;32m//anaconda/lib/python3.5/site-packages/sklearn/discriminant_analysis.py\u001b[0m in \u001b[0;36mfit\u001b[0;34m(self, X, y, store_covariances, tol)\u001b[0m\n\u001b[1;32m    687\u001b[0m             \u001b[0;32mif\u001b[0m \u001b[0mlen\u001b[0m\u001b[0;34m(\u001b[0m\u001b[0mXg\u001b[0m\u001b[0;34m)\u001b[0m \u001b[0;34m==\u001b[0m \u001b[0;36m1\u001b[0m\u001b[0;34m:\u001b[0m\u001b[0;34m\u001b[0m\u001b[0m\n\u001b[1;32m    688\u001b[0m                 raise ValueError('y has only 1 sample in class %s, covariance '\n\u001b[0;32m--> 689\u001b[0;31m                                  'is ill defined.' % str(self.classes_[ind]))\n\u001b[0m\u001b[1;32m    690\u001b[0m             \u001b[0mXgc\u001b[0m \u001b[0;34m=\u001b[0m \u001b[0mXg\u001b[0m \u001b[0;34m-\u001b[0m \u001b[0mmeang\u001b[0m\u001b[0;34m\u001b[0m\u001b[0m\n\u001b[1;32m    691\u001b[0m             \u001b[0;31m# Xgc = U * S * V.T\u001b[0m\u001b[0;34m\u001b[0m\u001b[0;34m\u001b[0m\u001b[0m\n",
      "\u001b[0;31mValueError\u001b[0m: y has only 1 sample in class 2.0, covariance is ill defined."
     ]
    }
   ],
   "source": [
    "qda = QuadraticDiscriminantAnalysis()\n",
    "qda.fit(x_train, y_train)"
   ]
  },
  {
   "cell_type": "code",
   "execution_count": null,
   "metadata": {
    "collapsed": false
   },
   "outputs": [],
   "source": [
    "# Training data\n",
    "print(\"ON TRAINING DATA:\")\n",
    "accuracy, confusion_m = evaluateClassificationModel(qda, x_train, y_train)"
   ]
  },
  {
   "cell_type": "code",
   "execution_count": null,
   "metadata": {
    "collapsed": false
   },
   "outputs": [],
   "source": [
    "# Testing data\n",
    "print(\"ON TESTING DATA:\")\n",
    "accuracy, confusion_m = evaluateClassificationModel(qda, x_test, y_test)"
   ]
  },
  {
   "cell_type": "markdown",
   "metadata": {},
   "source": [
    "# K Nearest Neighbors"
   ]
  },
  {
   "cell_type": "code",
   "execution_count": 36,
   "metadata": {
    "collapsed": false
   },
   "outputs": [
    {
     "name": "stderr",
     "output_type": "stream",
     "text": [
      "//anaconda/lib/python3.5/site-packages/ipykernel/__main__.py:2: DataConversionWarning: A column-vector y was passed when a 1d array was expected. Please change the shape of y to (n_samples, ), for example using ravel().\n",
      "  from ipykernel import kernelapp as app\n"
     ]
    },
    {
     "data": {
      "text/plain": [
       "KNeighborsClassifier(algorithm='auto', leaf_size=30, metric='minkowski',\n",
       "           metric_params=None, n_jobs=1, n_neighbors=20, p=2,\n",
       "           weights='uniform')"
      ]
     },
     "execution_count": 36,
     "metadata": {},
     "output_type": "execute_result"
    }
   ],
   "source": [
    "neigh = KNeighborsClassifier(n_neighbors=20)\n",
    "neigh.fit(x_train, y_train)"
   ]
  },
  {
   "cell_type": "code",
   "execution_count": 37,
   "metadata": {
    "collapsed": false
   },
   "outputs": [
    {
     "name": "stdout",
     "output_type": "stream",
     "text": [
      "ON TRAINING DATA:\n",
      "Accuracy:\n",
      "0.39406262708418055\n",
      "Confusion Matrix:\n",
      "[[  0   0   0   0   0   1   0   0   0]\n",
      " [  0   0   0   0   2   3   0   0   0]\n",
      " [  0   0   0   1  22  22   5   1   0]\n",
      " [  0   0   0  18  74 132  22   0   0]\n",
      " [  0   0   1  15 278 293  47   1   0]\n",
      " [  0   0   1  17 195 562  70   1   0]\n",
      " [  0   0   0  10 135 236 111   0   0]\n",
      " [  0   0   0   3  44  80  23   0   0]\n",
      " [  0   0   0   1   8  20   4   0   0]]\n"
     ]
    }
   ],
   "source": [
    "# Training data\n",
    "print(\"ON TRAINING DATA:\")\n",
    "accuracy, confusion_m = evaluateClassificationModel(neigh, x_train, y_train)"
   ]
  },
  {
   "cell_type": "code",
   "execution_count": 38,
   "metadata": {
    "collapsed": false
   },
   "outputs": [
    {
     "name": "stdout",
     "output_type": "stream",
     "text": [
      "ON TESTING DATA:\n",
      "Accuracy:\n",
      "0.30930232558139537\n",
      "Confusion Matrix:\n",
      "[[ 0  0  0  1  1  0  0  0]\n",
      " [ 0  0  0  4  5  0  0  0]\n",
      " [ 0  0  1 11 25  5  0  0]\n",
      " [ 0  0  3 34 58 13  0  0]\n",
      " [ 0  0  1 38 84 15  0  0]\n",
      " [ 0  0  3 29 49 14  0  0]\n",
      " [ 0  0  2  9 14  6  0  0]\n",
      " [ 0  0  0  1  4  0  0  0]]\n"
     ]
    }
   ],
   "source": [
    "# Testing data\n",
    "print(\"ON TESTING DATA:\")\n",
    "accuracy, confusion_m = evaluateClassificationModel(neigh, x_test, y_test)"
   ]
  },
  {
   "cell_type": "markdown",
   "metadata": {},
   "source": [
    "# PCA"
   ]
  },
  {
   "cell_type": "code",
   "execution_count": 43,
   "metadata": {
    "collapsed": false
   },
   "outputs": [],
   "source": [
    "pca = PCA(n_components=5)\n",
    "x_train_new = pca.fit_transform(x_train)\n",
    "x_test_new = pca.transform(x_test)"
   ]
  },
  {
   "cell_type": "code",
   "execution_count": 44,
   "metadata": {
    "collapsed": false
   },
   "outputs": [
    {
     "name": "stderr",
     "output_type": "stream",
     "text": [
      "//anaconda/lib/python3.5/site-packages/sklearn/utils/validation.py:526: DataConversionWarning: A column-vector y was passed when a 1d array was expected. Please change the shape of y to (n_samples, ), for example using ravel().\n",
      "  y = column_or_1d(y, warn=True)\n"
     ]
    },
    {
     "data": {
      "text/plain": [
       "SVC(C=0.8, cache_size=200, class_weight=None, coef0=0.0,\n",
       "  decision_function_shape=None, degree=3, gamma='auto', kernel='rbf',\n",
       "  max_iter=-1, probability=False, random_state=None, shrinking=True,\n",
       "  tol=0.001, verbose=False)"
      ]
     },
     "execution_count": 44,
     "metadata": {},
     "output_type": "execute_result"
    }
   ],
   "source": [
    "svm_rbf_pca = SVC(gamma = 'auto', kernel='rbf', C=.8)\n",
    "svm_rbf_pca.fit(x_train_new, y_train)"
   ]
  },
  {
   "cell_type": "code",
   "execution_count": 45,
   "metadata": {
    "collapsed": false
   },
   "outputs": [
    {
     "name": "stdout",
     "output_type": "stream",
     "text": [
      "ON TRAINING DATA:\n",
      "Accuracy:\n",
      "0.8222854819032127\n",
      "Confusion Matrix:\n",
      "[[  0   0   0   0   0   1   0   0   0]\n",
      " [  0   0   0   0   0   4   1   0   0]\n",
      " [  0   0   0   1   5  45   0   0   0]\n",
      " [  0   0   0 188  20  28  10   0   0]\n",
      " [  0   0   0   0 572  61   2   0   0]\n",
      " [  0   0   0   2   6 833   5   0   0]\n",
      " [  0   0   0   0  30  39 423   0   0]\n",
      " [  0   0   0   2  10 121  11   6   0]\n",
      " [  0   0   0   0   2  30   1   0   0]]\n"
     ]
    }
   ],
   "source": [
    "# Training data\n",
    "print(\"ON TRAINING DATA:\")\n",
    "accuracy, confusion_m = evaluateClassificationModel(svm_rbf_pca, x_train_new, y_train)"
   ]
  },
  {
   "cell_type": "code",
   "execution_count": 46,
   "metadata": {
    "collapsed": false
   },
   "outputs": [
    {
     "name": "stdout",
     "output_type": "stream",
     "text": [
      "ON TESTING DATA:\n",
      "Accuracy:\n",
      "0.31627906976744186\n",
      "Confusion Matrix:\n",
      "[[  0   0   0   1   1   0   0   0]\n",
      " [  0   0   0   0   8   1   0   0]\n",
      " [  0   0   0   1  40   1   0   0]\n",
      " [  0   0   3   9  92   4   0   0]\n",
      " [  0   0   2   3 122  11   0   0]\n",
      " [  0   0   1   6  83   5   0   0]\n",
      " [  0   0   1   2  28   0   0   0]\n",
      " [  0   0   1   1   3   0   0   0]]\n"
     ]
    }
   ],
   "source": [
    "# Testing data\n",
    "print(\"ON TESTING DATA:\")\n",
    "accuracy, confusion_m = evaluateClassificationModel(svm_rbf_pca, x_test_new, y_test)"
   ]
  },
  {
   "cell_type": "markdown",
   "metadata": {
    "collapsed": true
   },
   "source": [
    "# Neural Networks"
   ]
  },
  {
   "cell_type": "code",
   "execution_count": 47,
   "metadata": {
    "collapsed": false
   },
   "outputs": [
    {
     "name": "stderr",
     "output_type": "stream",
     "text": [
      "//anaconda/lib/python3.5/site-packages/sklearn/neural_network/multilayer_perceptron.py:904: DataConversionWarning: A column-vector y was passed when a 1d array was expected. Please change the shape of y to (n_samples, ), for example using ravel().\n",
      "  y = column_or_1d(y, warn=True)\n"
     ]
    },
    {
     "data": {
      "text/plain": [
       "MLPClassifier(activation='relu', alpha=1e-05, batch_size='auto', beta_1=0.9,\n",
       "       beta_2=0.999, early_stopping=False, epsilon=1e-08,\n",
       "       hidden_layer_sizes=(15, 10, 5), learning_rate='constant',\n",
       "       learning_rate_init=0.001, max_iter=200, momentum=0.9,\n",
       "       nesterovs_momentum=True, power_t=0.5, random_state=1, shuffle=True,\n",
       "       solver='lbfgs', tol=0.0001, validation_fraction=0.1, verbose=False,\n",
       "       warm_start=False)"
      ]
     },
     "execution_count": 47,
     "metadata": {},
     "output_type": "execute_result"
    }
   ],
   "source": [
    "from sklearn.neural_network import MLPClassifier\n",
    "nn = MLPClassifier(solver='lbfgs', alpha=1e-5, hidden_layer_sizes=(15, 10, 5), random_state=1)\n",
    "nn.fit(x_train, y_train)"
   ]
  },
  {
   "cell_type": "code",
   "execution_count": 48,
   "metadata": {
    "collapsed": false
   },
   "outputs": [
    {
     "name": "stdout",
     "output_type": "stream",
     "text": [
      "ON TRAINING DATA:\n",
      "Accuracy:\n",
      "0.22122814152094347\n",
      "Confusion Matrix:\n",
      "[[  0   0   0   0   0   0   1   0   0]\n",
      " [  0   0   0   0   2   0   3   0   0]\n",
      " [  2   0   0   3  19   0  26   1   0]\n",
      " [ 28   0   0   4 105   0 106   3   0]\n",
      " [ 62   0   0  12 271   0 285   5   0]\n",
      " [ 73   0   0  22 309   0 421  21   0]\n",
      " [ 49   0   0  18 156   0 265   4   0]\n",
      " [ 21   0   0   5  42   0  78   4   0]\n",
      " [  3   0   0   0  15   0  15   0   0]]\n"
     ]
    }
   ],
   "source": [
    "# Training data\n",
    "print(\"ON TRAINING DATA:\")\n",
    "accuracy, confusion_m = evaluateClassificationModel(nn, x_train, y_train)"
   ]
  },
  {
   "cell_type": "code",
   "execution_count": 49,
   "metadata": {
    "collapsed": false
   },
   "outputs": [
    {
     "name": "stdout",
     "output_type": "stream",
     "text": [
      "ON TESTING DATA:\n",
      "Accuracy:\n",
      "0.2186046511627907\n",
      "Confusion Matrix:\n",
      "[[ 0  0  0  0  0  0  0  0  0]\n",
      " [ 0  0  0  0  0  0  1  1  0]\n",
      " [ 1  0  0  0  3  0  5  0  0]\n",
      " [ 4  0  0  0 18  0 19  1  0]\n",
      " [16  0  0  4 41  0 45  2  0]\n",
      " [12  0  0  2 51  0 71  2  0]\n",
      " [ 9  0  0  4 26  0 53  3  0]\n",
      " [ 3  0  0  1 11  0 16  0  0]\n",
      " [ 0  0  0  0  2  0  2  1  0]]\n"
     ]
    }
   ],
   "source": [
    "# Testing data\n",
    "print(\"ON TESTING DATA:\")\n",
    "accuracy, confusion_m = evaluateClassificationModel(nn, x_test, y_test)"
   ]
  },
  {
   "cell_type": "code",
   "execution_count": null,
   "metadata": {
    "collapsed": true
   },
   "outputs": [],
   "source": [
    "# Hidden layers: 20, 10, and 5 worked well"
   ]
  }
 ],
 "metadata": {
  "anaconda-cloud": {},
  "kernelspec": {
   "display_name": "Python [default]",
   "language": "python",
   "name": "python3"
  },
  "language_info": {
   "codemirror_mode": {
    "name": "ipython",
    "version": 3
   },
   "file_extension": ".py",
   "mimetype": "text/x-python",
   "name": "python",
   "nbconvert_exporter": "python",
   "pygments_lexer": "ipython3",
   "version": "3.5.2"
  }
 },
 "nbformat": 4,
 "nbformat_minor": 1
}
