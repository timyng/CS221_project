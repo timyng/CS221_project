{
 "cells": [
  {
   "cell_type": "code",
   "execution_count": 13,
   "metadata": {
    "collapsed": false
   },
   "outputs": [],
   "source": [
    "import numpy as np\n",
    "import pandas as pd\n",
    "import matplotlib.pyplot as plt\n",
    "from sklearn.metrics import mean_squared_error\n",
    "from sklearn.metrics import confusion_matrix\n",
    "from sklearn.model_selection import cross_val_score\n",
    "from sklearn.model_selection import train_test_split\n",
    "from sklearn import preprocessing\n",
    "from sklearn.preprocessing import LabelEncoder\n",
    "from sklearn.preprocessing import OneHotEncoder\n",
    "from sklearn.linear_model import LinearRegression\n",
    "from sklearn import linear_model\n",
    "from sklearn.linear_model import LogisticRegression\n",
    "from sklearn.svm import SVC\n",
    "from sklearn import tree\n",
    "from sklearn.discriminant_analysis import LinearDiscriminantAnalysis\n",
    "from sklearn.discriminant_analysis import QuadraticDiscriminantAnalysis\n",
    "from sklearn.neighbors import KNeighborsClassifier\n",
    "from sklearn.decomposition import PCA\n",
    "from sklearn.linear_model import Ridge\n",
    "from sklearn.svm import SVR"
   ]
  },
  {
   "cell_type": "markdown",
   "metadata": {},
   "source": [
    "# Data Exploration"
   ]
  },
  {
   "cell_type": "code",
   "execution_count": 14,
   "metadata": {
    "collapsed": false
   },
   "outputs": [
    {
     "data": {
      "text/plain": [
       "Index(['name', 'domain', 'year founded', 'industry', 'size range', 'city',\n",
       "       ' state', 'country', ' linkedin url', 'current employee estimate',\n",
       "       'total employee estimate', 'Score', 'reviews', 'salaries', 'interviews',\n",
       "       'KMT', 'market_cap', 'enterprise_value', 'trailing_pe', 'forward_pe',\n",
       "       'peg_ratio_5', 'price_sales', 'price_book', 'enterprise_value_revenue',\n",
       "       'enterprise_value_ebitda', 'profit_margin', 'operating_margin',\n",
       "       'return_on_assets', 'return_on_equity', 'revenue', 'revenue_per_share',\n",
       "       'quarterly_revenue_share', 'gross_profit', 'ebitda',\n",
       "       'net_income_avi_to_common', 'diluted_eps', 'quarterly_earnings_growth',\n",
       "       'total_cash', 'total_cash_per_share', 'total_dept',\n",
       "       'total_dept_per_equity', 'operating_cash_flow',\n",
       "       'leveraged_free_cash_flow', 'stock_beta_3y', 'stock 52_week',\n",
       "       'stock_sp500_52_week', 'stock_52_week_high', 'stock_52_week_low'],\n",
       "      dtype='object')"
      ]
     },
     "execution_count": 14,
     "metadata": {},
     "output_type": "execute_result"
    }
   ],
   "source": [
    "data_path = \"../data/with_stock_data.csv\"\n",
    "frame = pd.read_csv(data_path)\n",
    "frame.columns"
   ]
  },
  {
   "cell_type": "code",
   "execution_count": 15,
   "metadata": {
    "collapsed": false
   },
   "outputs": [
    {
     "data": {
      "image/png": "[encoded data removed]",
      "text/plain": [
       "<matplotlib.figure.Figure at 0x11a69d748>"
      ]
     },
     "metadata": {},
     "output_type": "display_data"
    }
   ],
   "source": [
    "frame['Score']\n",
    "plt.hist(frame['Score'], alpha=0.3)\n",
    "plt.show()"
   ]
  },
  {
   "cell_type": "markdown",
   "metadata": {},
   "source": [
    "# Feature Selection"
   ]
  },
  {
   "cell_type": "code",
   "execution_count": 16,
   "metadata": {
    "collapsed": true
   },
   "outputs": [],
   "source": [
    "# Pick Features\n",
    "non_categorical_columns = ['year founded', 'current employee estimate', 'total employee estimate', 'reviews', 'salaries', 'interviews', 'market_cap', 'enterprise_value', 'trailing_pe', 'forward_pe', 'peg_ratio_5', 'price_sales', 'price_book', 'enterprise_value_revenue', 'enterprise_value_ebitda', 'profit_margin', 'operating_margin', 'return_on_assets', 'return_on_equity', 'revenue', 'revenue_per_share', 'quarterly_revenue_share', 'gross_profit', 'ebitda', 'net_income_avi_to_common', 'diluted_eps', 'quarterly_earnings_growth', 'total_cash', 'total_cash_per_share', 'total_dept', 'total_dept_per_equity', 'operating_cash_flow', 'leveraged_free_cash_flow', 'stock_beta_3y', 'stock 52_week', 'stock_sp500_52_week', 'stock_52_week_high', 'stock_52_week_low']\n",
    "categorical_columns = ['industry', 'size range', 'city', ' state', 'country']\n",
    "# non_categorical_columns = ['trailing_pe', 'leveraged_free_cash_flow', 'operating_cash_flow', 'total_dept_per_equity', 'ebitda', 'net_income_avi_to_common', 'forward_pe', 'total_cash']\n",
    "# categorical_columns = ['city']"
   ]
  },
  {
   "cell_type": "code",
   "execution_count": 17,
   "metadata": {
    "collapsed": false
   },
   "outputs": [],
   "source": [
    "# Data Cleaning\n",
    "le = LabelEncoder()\n",
    "X = pd.DataFrame({key : frame[key] for key in categorical_columns + non_categorical_columns})\n",
    "X[categorical_columns] = X[categorical_columns].apply(lambda col : le.fit_transform(col))\n",
    "\n",
    "for x in non_categorical_columns:\n",
    "    X[x] = X[x].fillna(X[x].mean())\n",
    "\n",
    "indices = [X.columns.get_loc(c) for c in categorical_columns]\n",
    "ohe = OneHotEncoder(categorical_features=indices, sparse=False)\n",
    "X = ohe.fit_transform(X)\n",
    "Y = pd.DataFrame({\"y\" : frame[\"Score\"]})\n",
    "x_train, x_test, y_train, y_test = train_test_split(X, Y, test_size=0.2)"
   ]
  },
  {
   "cell_type": "markdown",
   "metadata": {},
   "source": [
    "# General Functions"
   ]
  },
  {
   "cell_type": "code",
   "execution_count": 18,
   "metadata": {
    "collapsed": true
   },
   "outputs": [],
   "source": [
    "def convertToClass(Y, k):\n",
    "    return np.apply_along_axis(lambda elem : np.round(elem * k / 5), 0, Y)\n",
    "\n",
    "def evaluateRegressionModel(model, x, y):\n",
    "    y_pred = np.clip(model.predict(x), 0, 5).flatten()\n",
    "    \n",
    "    # MSE\n",
    "    print(\"Mean Square Error:\")\n",
    "    mse = mean_squared_error(y, y_pred)\n",
    "    print(mse)\n",
    "    \n",
    "    # Accuracy\n",
    "    print(\"Accuracy:\")\n",
    "    accuracy = sum(np.abs(y_pred - y.values.flatten()) <  0.25)/ y.shape[0]\n",
    "    print(accuracy)\n",
    "    \n",
    "    # Confusion matrix\n",
    "    y_pred = convertToClass(y_pred, 10)\n",
    "    y_actual = convertToClass(y, 10)\n",
    "    confusion_m = confusion_matrix(y_actual, y_pred)\n",
    "    print(\"Confusion Matrix:\")\n",
    "    print(confusion_m)\n",
    "    return (mse, accuracy, confusion_m)\n",
    "\n",
    "def evaluateClassificationModel(model, x, y):\n",
    "    y_pred = model.predict(x)\n",
    "    confusion_m = confusion_matrix(y, y_pred)\n",
    "    accuracy = model.score(x, y)\n",
    "    print(\"Accuracy:\")\n",
    "    print(accuracy)\n",
    "    print(\"Confusion Matrix:\")\n",
    "    print(confusion_m)\n",
    "    return (accuracy, confusion_m)"
   ]
  },
  {
   "cell_type": "markdown",
   "metadata": {},
   "source": [
    "# REGRESSION MODEL SECTION"
   ]
  },
  {
   "cell_type": "markdown",
   "metadata": {},
   "source": [
    "# Linear Regression (L1 Regularization)"
   ]
  },
  {
   "cell_type": "code",
   "execution_count": 19,
   "metadata": {
    "collapsed": false
   },
   "outputs": [
    {
     "name": "stderr",
     "output_type": "stream",
     "text": [
      "//anaconda/lib/python3.5/site-packages/sklearn/linear_model/coordinate_descent.py:484: ConvergenceWarning: Objective did not converge. You might want to increase the number of iterations. Fitting data with very small alpha may cause precision problems.\n",
      "  ConvergenceWarning)\n"
     ]
    },
    {
     "data": {
      "text/plain": [
       "Lasso(alpha=0.1, copy_X=True, fit_intercept=True, max_iter=1000,\n",
       "   normalize=False, positive=False, precompute=False, random_state=None,\n",
       "   selection='cyclic', tol=0.0001, warm_start=False)"
      ]
     },
     "execution_count": 19,
     "metadata": {},
     "output_type": "execute_result"
    }
   ],
   "source": [
    "linRegL1 = linear_model.Lasso(alpha=0.1, normalize=False)\n",
    "linRegL1.fit(x_train, y_train)"
   ]
  },
  {
   "cell_type": "code",
   "execution_count": 20,
   "metadata": {
    "collapsed": false
   },
   "outputs": [
    {
     "name": "stdout",
     "output_type": "stream",
     "text": [
      "ON TRAINING DATA:\n",
      "Mean Square Error:\n",
      "0.32925063398960946\n",
      "Accuracy:\n",
      "0.36478243188287923\n",
      "Confusion Matrix:\n",
      "[[  0   0   0   0   0   2   0   0   0]\n",
      " [  0   0   0   0   0   7   0   0   0]\n",
      " [  0   0   0   0   0  55   0   0   0]\n",
      " [  0   0   0   1   0 237   0   0   0]\n",
      " [  0   0   0   0   8 608   1   0   0]\n",
      " [  0   0   0   0  10 847   3   2   0]\n",
      " [  0   0   0   0   1 482  12   3   0]\n",
      " [  0   0   0   0   0 149   2   0   0]\n",
      " [  0   0   0   0   0  27   1   0   1]]\n"
     ]
    }
   ],
   "source": [
    "# Training Data\n",
    "print(\"ON TRAINING DATA:\")\n",
    "mse, accuracy, confusion_m = evaluateRegressionModel(linRegL1, x_train, y_train)"
   ]
  },
  {
   "cell_type": "code",
   "execution_count": 21,
   "metadata": {
    "collapsed": false
   },
   "outputs": [
    {
     "name": "stdout",
     "output_type": "stream",
     "text": [
      "ON TEST DATA:\n",
      "Mean Square Error:\n",
      "0.35099722950172574\n",
      "Accuracy:\n",
      "0.33983739837398375\n",
      "Confusion Matrix:\n",
      "[[  0   0   0   0   1   0   0   0]\n",
      " [  0   0   0   0  12   0   0   0]\n",
      " [  0   0   0   0  66   0   0   0]\n",
      " [  0   0   0   0 168   1   0   1]\n",
      " [  0   0   0   2 181   5   0   1]\n",
      " [  0   0   0   1 121   5   0   0]\n",
      " [  0   0   0   0  39   1   0   0]\n",
      " [  0   0   0   0  10   0   0   0]]\n"
     ]
    }
   ],
   "source": [
    "# ON TEST DATA\n",
    "print(\"ON TEST DATA:\")\n",
    "mse, accuracy, confusion_m = evaluateRegressionModel(linRegL1, x_test, y_test)"
   ]
  },
  {
   "cell_type": "markdown",
   "metadata": {},
   "source": [
    "# Linear Regression (L2 Regularization)"
   ]
  },
  {
   "cell_type": "code",
   "execution_count": 22,
   "metadata": {
    "collapsed": false
   },
   "outputs": [
    {
     "data": {
      "text/plain": [
       "Ridge(alpha=1.0, copy_X=True, fit_intercept=True, max_iter=None,\n",
       "   normalize=False, random_state=None, solver='auto', tol=0.001)"
      ]
     },
     "execution_count": 22,
     "metadata": {},
     "output_type": "execute_result"
    }
   ],
   "source": [
    "# Modeling\n",
    "linRegL2 = Ridge(alpha=1.0, normalize=False)\n",
    "linRegL2.fit(x_train, y_train)"
   ]
  },
  {
   "cell_type": "code",
   "execution_count": 23,
   "metadata": {
    "collapsed": false
   },
   "outputs": [
    {
     "name": "stdout",
     "output_type": "stream",
     "text": [
      "ON TRAINING DATA:\n",
      "Mean Square Error:\n",
      "0.19081971404662518\n",
      "Accuracy:\n",
      "0.5132167547783651\n",
      "Confusion Matrix:\n",
      "[[  0   0   1   0   1   0   0   0   0]\n",
      " [  0   0   1   4   2   0   0   0   0]\n",
      " [  0   0   0  21  22  12   0   0   0]\n",
      " [  0   0   0  20 140  75   3   0   0]\n",
      " [  0   0   0   2 293 315   7   0   0]\n",
      " [  0   0   0   0 109 706  47   0   0]\n",
      " [  0   0   0   1  30 336 129   2   0]\n",
      " [  0   0   0   0   2  82  63   4   0]\n",
      " [  0   0   0   0   1  13   9   5   1]]\n"
     ]
    }
   ],
   "source": [
    "# Training Data\n",
    "print(\"ON TRAINING DATA:\")\n",
    "mse, accuracy, confusion_m = evaluateRegressionModel(linRegL2, x_train, y_train)"
   ]
  },
  {
   "cell_type": "code",
   "execution_count": 24,
   "metadata": {
    "collapsed": false
   },
   "outputs": [
    {
     "name": "stdout",
     "output_type": "stream",
     "text": [
      "ON TEST DATA:\n",
      "Mean Square Error:\n",
      "0.4121987466608482\n",
      "Accuracy:\n",
      "0.3105691056910569\n",
      "Confusion Matrix:\n",
      "[[  0   0   0   0   0   0   0   0   0]\n",
      " [  0   0   0   0   0   1   0   0   0]\n",
      " [  0   0   0   0   2   9   1   0   0]\n",
      " [  0   0   0   1  22  38   5   0   0]\n",
      " [  0   0   0   3  38 111  17   1   0]\n",
      " [  0   0   0   1  54 113  19   1   1]\n",
      " [  0   0   0   0  24  82  21   0   0]\n",
      " [  1   0   0   1   4  28   5   1   0]\n",
      " [  0   0   0   0   1   9   0   0   0]]\n"
     ]
    }
   ],
   "source": [
    "# ON TEST DATA\n",
    "print(\"ON TEST DATA:\")\n",
    "mse, accuracy, confusion_m = evaluateRegressionModel(linRegL2, x_test, y_test)"
   ]
  },
  {
   "cell_type": "markdown",
   "metadata": {},
   "source": [
    "# Linear Regression"
   ]
  },
  {
   "cell_type": "code",
   "execution_count": 25,
   "metadata": {
    "collapsed": true
   },
   "outputs": [],
   "source": [
    "# Modeling\n",
    "linReg = LinearRegression().fit(x_train, y_train)"
   ]
  },
  {
   "cell_type": "code",
   "execution_count": 26,
   "metadata": {
    "collapsed": false
   },
   "outputs": [
    {
     "name": "stdout",
     "output_type": "stream",
     "text": [
      "ON TRAINING DATA:\n",
      "Mean Square Error:\n",
      "0.17939873659221292\n",
      "Accuracy:\n",
      "0.5839772265148434\n",
      "Confusion Matrix:\n",
      "[[  0   1   0   1   0   0   0   0   0]\n",
      " [  0   3   1   1   2   0   0   0   0]\n",
      " [  0   0  14  11  18  12   0   0   0]\n",
      " [  0   0   3  87  78  64   6   0   0]\n",
      " [  0   0   0  23 320 256  18   0   0]\n",
      " [  0   0   0   3 152 601 104   2   0]\n",
      " [  0   0   0   2  44 230 208  14   0]\n",
      " [  0   0   0   0   3  61  47  39   1]\n",
      " [  0   0   0   0   1  10   7   2   9]]\n"
     ]
    }
   ],
   "source": [
    "# Training Data\n",
    "print(\"ON TRAINING DATA:\")\n",
    "mse, accuracy, confusion_m = evaluateRegressionModel(linReg, x_train, y_train)"
   ]
  },
  {
   "cell_type": "code",
   "execution_count": 27,
   "metadata": {
    "collapsed": false
   },
   "outputs": [
    {
     "name": "stdout",
     "output_type": "stream",
     "text": [
      "ON TEST DATA:\n",
      "Mean Square Error:\n",
      "0.5306993010523338\n",
      "Accuracy:\n",
      "0.2975609756097561\n",
      "Confusion Matrix:\n",
      "[[ 0  0  0  0  0  0  0  0  0  0]\n",
      " [ 0  0  0  0  0  0  0  0  0  0]\n",
      " [ 0  0  0  0  0  0  1  0  0  0]\n",
      " [ 0  0  1  0  0  1 10  0  0  0]\n",
      " [ 0  0  1  2  4 22 23 12  2  0]\n",
      " [ 0  0  0  1 12 46 84 23  2  2]\n",
      " [ 0  0  2  1  8 58 82 29  8  1]\n",
      " [ 0  1  0  0  5 25 67 24  3  2]\n",
      " [ 1  0  0  1  2  6 19 10  1  0]\n",
      " [ 0  0  0  0  0  3  6  1  0  0]]\n"
     ]
    }
   ],
   "source": [
    "# ON TEST DATA\n",
    "print(\"ON TEST DATA:\")\n",
    "mse, accuracy, confusion_m = evaluateRegressionModel(linReg, x_test, y_test)"
   ]
  },
  {
   "cell_type": "markdown",
   "metadata": {},
   "source": [
    "# Support Vector Regression"
   ]
  },
  {
   "cell_type": "code",
   "execution_count": 28,
   "metadata": {
    "collapsed": false
   },
   "outputs": [
    {
     "name": "stderr",
     "output_type": "stream",
     "text": [
      "//anaconda/lib/python3.5/site-packages/sklearn/utils/validation.py:526: DataConversionWarning: A column-vector y was passed when a 1d array was expected. Please change the shape of y to (n_samples, ), for example using ravel().\n",
      "  y = column_or_1d(y, warn=True)\n"
     ]
    }
   ],
   "source": [
    "# Modeling\n",
    "svr = SVR().fit(x_train, y_train)"
   ]
  },
  {
   "cell_type": "code",
   "execution_count": 29,
   "metadata": {
    "collapsed": false
   },
   "outputs": [
    {
     "name": "stdout",
     "output_type": "stream",
     "text": [
      "ON TRAINING DATA:\n",
      "Mean Square Error:\n",
      "0.034357744476146555\n",
      "Accuracy:\n",
      "0.9385929239528263\n",
      "Confusion Matrix:\n",
      "[[  0   0   0   2   0   0   0   0   0]\n",
      " [  0   0   0   7   0   0   0   0   0]\n",
      " [  0   0   0  54   1   0   0   0   0]\n",
      " [  0   0   0 174  64   0   0   0   0]\n",
      " [  0   0   0  14 439 159   3   2   0]\n",
      " [  0   0   0   5   2 840   2  13   0]\n",
      " [  0   0   0   1   2 150 340   5   0]\n",
      " [  0   0   0   0   0   0  43 108   0]\n",
      " [  0   0   0   0   0   0   0  29   0]]\n"
     ]
    }
   ],
   "source": [
    "# Training Data\n",
    "print(\"ON TRAINING DATA:\")\n",
    "mse, accuracy, confusion_m = evaluateRegressionModel(svr, x_train, y_train)"
   ]
  },
  {
   "cell_type": "code",
   "execution_count": 30,
   "metadata": {
    "collapsed": false
   },
   "outputs": [
    {
     "name": "stdout",
     "output_type": "stream",
     "text": [
      "ON TEST DATA:\n",
      "Mean Square Error:\n",
      "0.34726092786022145\n",
      "Accuracy:\n",
      "0.3382113821138211\n",
      "Confusion Matrix:\n",
      "[[  0   0   0   0   1   0   0   0]\n",
      " [  0   0   0   0  12   0   0   0]\n",
      " [  0   0   0   0  66   0   0   0]\n",
      " [  0   0   0   2 168   0   0   0]\n",
      " [  0   0   0   1 188   0   0   0]\n",
      " [  0   0   0   0 127   0   0   0]\n",
      " [  0   0   0   0  40   0   0   0]\n",
      " [  0   0   0   0  10   0   0   0]]\n"
     ]
    }
   ],
   "source": [
    "# ON TEST DATA\n",
    "print(\"ON TEST DATA:\")\n",
    "mse, accuracy, confusion_m = evaluateRegressionModel(svr, x_test, y_test)"
   ]
  },
  {
   "cell_type": "markdown",
   "metadata": {},
   "source": [
    "# CLASSIFICATION MODEL SECTION"
   ]
  },
  {
   "cell_type": "code",
   "execution_count": 31,
   "metadata": {
    "collapsed": false
   },
   "outputs": [
    {
     "name": "stdout",
     "output_type": "stream",
     "text": [
      "Ran.\n"
     ]
    }
   ],
   "source": [
    "k = 10\n",
    "y_train = convertToClass(y_train, k)\n",
    "y_test = convertToClass(y_test, k)\n",
    "print(\"Ran.\")"
   ]
  },
  {
   "cell_type": "markdown",
   "metadata": {},
   "source": [
    "# Softmax"
   ]
  },
  {
   "cell_type": "code",
   "execution_count": 32,
   "metadata": {
    "collapsed": false
   },
   "outputs": [
    {
     "name": "stderr",
     "output_type": "stream",
     "text": [
      "//anaconda/lib/python3.5/site-packages/sklearn/utils/validation.py:526: DataConversionWarning: A column-vector y was passed when a 1d array was expected. Please change the shape of y to (n_samples, ), for example using ravel().\n",
      "  y = column_or_1d(y, warn=True)\n"
     ]
    },
    {
     "data": {
      "text/plain": [
       "LogisticRegression(C=1.0, class_weight=None, dual=False, fit_intercept=True,\n",
       "          intercept_scaling=1, max_iter=100, multi_class='multinomial',\n",
       "          n_jobs=1, penalty='l2', random_state=None, solver='lbfgs',\n",
       "          tol=0.0001, verbose=0, warm_start=False)"
      ]
     },
     "execution_count": 32,
     "metadata": {},
     "output_type": "execute_result"
    }
   ],
   "source": [
    "softmax = LogisticRegression(multi_class='multinomial', solver='lbfgs')\n",
    "softmax.fit(x_train, y_train)"
   ]
  },
  {
   "cell_type": "code",
   "execution_count": 33,
   "metadata": {
    "collapsed": false
   },
   "outputs": [
    {
     "name": "stdout",
     "output_type": "stream",
     "text": [
      "ON TRAINING DATA:\n",
      "Accuracy:\n",
      "0.31394875965839775\n",
      "Confusion Matrix:\n",
      "[[  0   0   0   0   1   0   1   0   0]\n",
      " [  0   0   0   0   1   5   1   0   0]\n",
      " [  0   0   0   0   5  36  14   0   0]\n",
      " [  0   0   0   0  28 174  36   0   0]\n",
      " [  1   0   0   0  45 432 136   3   0]\n",
      " [  0   1   0   0  74 574 211   2   0]\n",
      " [  0   0   0   0  36 307 152   3   0]\n",
      " [  0   0   0   0  16  91  43   1   0]\n",
      " [  1   0   0   0   2  17   9   0   0]]\n"
     ]
    }
   ],
   "source": [
    "# Training data\n",
    "print(\"ON TRAINING DATA:\")\n",
    "accuracy, confusion_m = evaluateClassificationModel(softmax, x_train, y_train)"
   ]
  },
  {
   "cell_type": "code",
   "execution_count": 34,
   "metadata": {
    "collapsed": false
   },
   "outputs": [
    {
     "name": "stdout",
     "output_type": "stream",
     "text": [
      "ON TESTING DATA:\n",
      "Accuracy:\n",
      "0.2991869918699187\n",
      "Confusion Matrix:\n",
      "[[  0   0   0   0   0   0   0   0   0]\n",
      " [  0   0   0   0   0   1   0   0   0]\n",
      " [  0   0   0   0   3   8   1   0   0]\n",
      " [  0   0   0   0   3  45  18   0   0]\n",
      " [  1   0   0   0  11 132  26   0   0]\n",
      " [  0   0   0   0  13 130  44   1   1]\n",
      " [  0   0   0   0  12  72  43   0   0]\n",
      " [  0   0   0   0   6  27   7   0   0]\n",
      " [  0   0   0   0   0   6   4   0   0]]\n"
     ]
    }
   ],
   "source": [
    "# Testing data\n",
    "print(\"ON TESTING DATA:\")\n",
    "accuracy, confusion_m = evaluateClassificationModel(softmax, x_test, y_test)"
   ]
  },
  {
   "cell_type": "markdown",
   "metadata": {},
   "source": [
    "# Support Vector Machine, Kernel = rbf"
   ]
  },
  {
   "cell_type": "code",
   "execution_count": 41,
   "metadata": {
    "collapsed": false
   },
   "outputs": [
    {
     "name": "stderr",
     "output_type": "stream",
     "text": [
      "//anaconda/lib/python3.5/site-packages/sklearn/utils/validation.py:526: DataConversionWarning: A column-vector y was passed when a 1d array was expected. Please change the shape of y to (n_samples, ), for example using ravel().\n",
      "  y = column_or_1d(y, warn=True)\n"
     ]
    },
    {
     "data": {
      "text/plain": [
       "SVC(C=0.8, cache_size=200, class_weight=None, coef0=0.0,\n",
       "  decision_function_shape=None, degree=3, gamma='auto', kernel='rbf',\n",
       "  max_iter=-1, probability=False, random_state=None, shrinking=True,\n",
       "  tol=0.001, verbose=False)"
      ]
     },
     "execution_count": 41,
     "metadata": {},
     "output_type": "execute_result"
    }
   ],
   "source": [
    "svm_rbf = SVC(gamma = 'auto', kernel='rbf', C=.8)\n",
    "svm_rbf.fit(x_train, y_train)"
   ]
  },
  {
   "cell_type": "code",
   "execution_count": 42,
   "metadata": {
    "collapsed": false
   },
   "outputs": [
    {
     "name": "stdout",
     "output_type": "stream",
     "text": [
      "ON TRAINING DATA:\n",
      "Accuracy:\n",
      "0.8999593330622204\n",
      "Confusion Matrix:\n",
      "[[  0   0   0   0   0   2   0   0   0]\n",
      " [  0   0   0   0   0   7   0   0   0]\n",
      " [  0   0   0   0   0  55   0   0   0]\n",
      " [  0   0   0 236   0   2   0   0   0]\n",
      " [  0   0   0   0 617   0   0   0   0]\n",
      " [  0   0   0   0   0 862   0   0   0]\n",
      " [  0   0   0   0   0   2 496   0   0]\n",
      " [  0   0   0   0   0 149   0   2   0]\n",
      " [  0   0   0   0   0  29   0   0   0]]\n"
     ]
    }
   ],
   "source": [
    "# Training data\n",
    "print(\"ON TRAINING DATA:\")\n",
    "accuracy, confusion_m = evaluateClassificationModel(svm_rbf, x_train, y_train)"
   ]
  },
  {
   "cell_type": "code",
   "execution_count": 43,
   "metadata": {
    "collapsed": false
   },
   "outputs": [
    {
     "name": "stdout",
     "output_type": "stream",
     "text": [
      "ON TESTING DATA:\n",
      "Accuracy:\n",
      "0.3073170731707317\n",
      "Confusion Matrix:\n",
      "[[  0   0   0   0   1   0   0   0]\n",
      " [  0   0   0   0  12   0   0   0]\n",
      " [  0   0   0   0  66   0   0   0]\n",
      " [  0   0   0   0 170   0   0   0]\n",
      " [  0   0   0   0 189   0   0   0]\n",
      " [  0   0   0   0 127   0   0   0]\n",
      " [  0   0   0   0  40   0   0   0]\n",
      " [  0   0   0   0  10   0   0   0]]\n"
     ]
    }
   ],
   "source": [
    "# Testing data\n",
    "print(\"ON TESTING DATA:\")\n",
    "accuracy, confusion_m = evaluateClassificationModel(svm_rbf, x_test, y_test)"
   ]
  },
  {
   "cell_type": "markdown",
   "metadata": {},
   "source": [
    "# Support Vector Machine, Kernel = linear"
   ]
  },
  {
   "cell_type": "code",
   "execution_count": 38,
   "metadata": {
    "collapsed": false
   },
   "outputs": [
    {
     "name": "stderr",
     "output_type": "stream",
     "text": [
      "//anaconda/lib/python3.5/site-packages/sklearn/utils/validation.py:526: DataConversionWarning: A column-vector y was passed when a 1d array was expected. Please change the shape of y to (n_samples, ), for example using ravel().\n",
      "  y = column_or_1d(y, warn=True)\n",
      "//anaconda/lib/python3.5/site-packages/sklearn/svm/base.py:220: ConvergenceWarning: Solver terminated early (max_iter=5000).  Consider pre-processing your data with StandardScaler or MinMaxScaler.\n",
      "  % self.max_iter, ConvergenceWarning)\n"
     ]
    },
    {
     "data": {
      "text/plain": [
       "SVC(C=1, cache_size=200, class_weight=None, coef0=0.0,\n",
       "  decision_function_shape=None, degree=3, gamma='auto', kernel='linear',\n",
       "  max_iter=5000, probability=False, random_state=None, shrinking=True,\n",
       "  tol=0.001, verbose=False)"
      ]
     },
     "execution_count": 38,
     "metadata": {},
     "output_type": "execute_result"
    }
   ],
   "source": [
    "svm_linear = SVC(gamma = 'auto', kernel='linear', C=1, max_iter=5000)\n",
    "svm_linear.fit(x_train, y_train)"
   ]
  },
  {
   "cell_type": "code",
   "execution_count": 39,
   "metadata": {
    "collapsed": false
   },
   "outputs": [
    {
     "name": "stdout",
     "output_type": "stream",
     "text": [
      "ON TRAINING DATA:\n",
      "Accuracy:\n",
      "0.12118747458316388\n",
      "Confusion Matrix:\n",
      "[[  0   0   0   0   1   0   0   0   1]\n",
      " [  0   0   0   1   6   0   0   0   0]\n",
      " [  0   2   3   9  24   0   0   0  17]\n",
      " [  0   5   9  36 103   1   1   3  80]\n",
      " [  1  11  39 136 224  12   0   3 191]\n",
      " [  4  22  53 202 291  22   2   5 261]\n",
      " [  1  10  33 105 164  25   1   2 157]\n",
      " [  0   5   8  31  57   1   1   2  46]\n",
      " [  0   0   2   4  12   0   1   0  10]]\n"
     ]
    }
   ],
   "source": [
    "# Training data\n",
    "print(\"ON TRAINING DATA:\")\n",
    "accuracy, confusion_m = evaluateClassificationModel(svm_linear, x_train, y_train)"
   ]
  },
  {
   "cell_type": "code",
   "execution_count": 40,
   "metadata": {
    "collapsed": false
   },
   "outputs": [
    {
     "name": "stdout",
     "output_type": "stream",
     "text": [
      "ON TESTING DATA:\n",
      "Accuracy:\n",
      "0.15121951219512195\n",
      "Confusion Matrix:\n",
      "[[ 0  0  0  0  0  0  0  0  0]\n",
      " [ 0  0  0  0  1  0  0  0  0]\n",
      " [ 0  0  0  1  6  0  0  0  5]\n",
      " [ 0  0  4 21 22  0  1  0 18]\n",
      " [ 0  5  7 43 62  3  0  1 49]\n",
      " [ 1  9 10 49 61  6  1  1 51]\n",
      " [ 1  4  4 32 38  5  2  0 41]\n",
      " [ 0  0  2 10 18  1  0  0  9]\n",
      " [ 0  0  0  0  7  1  0  0  2]]\n"
     ]
    }
   ],
   "source": [
    "# Testing data\n",
    "print(\"ON TESTING DATA:\")\n",
    "accuracy, confusion_m = evaluateClassificationModel(svm_linear, x_test, y_test)"
   ]
  },
  {
   "cell_type": "markdown",
   "metadata": {},
   "source": [
    "# Decision Trees"
   ]
  },
  {
   "cell_type": "code",
   "execution_count": 44,
   "metadata": {
    "collapsed": false
   },
   "outputs": [
    {
     "data": {
      "text/plain": [
       "DecisionTreeClassifier(class_weight=None, criterion='gini', max_depth=15,\n",
       "            max_features=None, max_leaf_nodes=None,\n",
       "            min_impurity_split=1e-07, min_samples_leaf=1,\n",
       "            min_samples_split=2, min_weight_fraction_leaf=0.0,\n",
       "            presort=False, random_state=None, splitter='best')"
      ]
     },
     "execution_count": 44,
     "metadata": {},
     "output_type": "execute_result"
    }
   ],
   "source": [
    "tree = tree.DecisionTreeClassifier(max_depth = 15)\n",
    "tree.fit(x_train, y_train)"
   ]
  },
  {
   "cell_type": "code",
   "execution_count": 45,
   "metadata": {
    "collapsed": false
   },
   "outputs": [
    {
     "name": "stdout",
     "output_type": "stream",
     "text": [
      "ON TRAINING DATA:\n",
      "Accuracy:\n",
      "0.8344855632370882\n",
      "Confusion Matrix:\n",
      "[[  2   0   0   0   0   0   0   0   0]\n",
      " [  0   4   0   2   0   0   1   0   0]\n",
      " [  0   0  33   3   2   8   9   0   0]\n",
      " [  0   0   0 170  18  31  15   4   0]\n",
      " [  0   0   0  13 529  53  21   1   0]\n",
      " [  0   0   2  14  47 777  18   4   0]\n",
      " [  0   0   1  11  21  50 413   2   0]\n",
      " [  0   0   2   1   9  28  11 100   0]\n",
      " [  0   0   0   0   0   1   4   0  24]]\n"
     ]
    }
   ],
   "source": [
    "# Training data\n",
    "print(\"ON TRAINING DATA:\")\n",
    "accuracy, confusion_m = evaluateClassificationModel(tree, x_train, y_train)"
   ]
  },
  {
   "cell_type": "code",
   "execution_count": 46,
   "metadata": {
    "collapsed": false
   },
   "outputs": [
    {
     "name": "stdout",
     "output_type": "stream",
     "text": [
      "ON TESTING DATA:\n",
      "Accuracy:\n",
      "0.2780487804878049\n",
      "Confusion Matrix:\n",
      "[[ 0  0  0  0  0  0  0  0  0]\n",
      " [ 0  0  0  0  0  0  1  0  0]\n",
      " [ 0  0  0  0  3  4  3  2  0]\n",
      " [ 0  0  0 10 18 25 12  1  0]\n",
      " [ 0  0  2 26 41 56 35  8  2]\n",
      " [ 0  1  1 15 36 86 46  3  1]\n",
      " [ 0  0  0 15 25 50 31  3  3]\n",
      " [ 0  0  2  5 15  9  7  2  0]\n",
      " [ 1  0  1  0  2  1  3  1  1]]\n"
     ]
    }
   ],
   "source": [
    "# Testing data\n",
    "print(\"ON TESTING DATA:\")\n",
    "accuracy, confusion_m = evaluateClassificationModel(tree, x_test, y_test)"
   ]
  },
  {
   "cell_type": "markdown",
   "metadata": {},
   "source": [
    "# Linear Discriminant Analysis"
   ]
  },
  {
   "cell_type": "code",
   "execution_count": 47,
   "metadata": {
    "collapsed": false
   },
   "outputs": [
    {
     "name": "stderr",
     "output_type": "stream",
     "text": [
      "//anaconda/lib/python3.5/site-packages/sklearn/utils/validation.py:526: DataConversionWarning: A column-vector y was passed when a 1d array was expected. Please change the shape of y to (n_samples, ), for example using ravel().\n",
      "  y = column_or_1d(y, warn=True)\n",
      "//anaconda/lib/python3.5/site-packages/sklearn/discriminant_analysis.py:387: UserWarning: Variables are collinear.\n",
      "  warnings.warn(\"Variables are collinear.\")\n"
     ]
    },
    {
     "data": {
      "text/plain": [
       "LinearDiscriminantAnalysis(n_components=None, priors=None, shrinkage=None,\n",
       "              solver='svd', store_covariance=False, tol=0.0001)"
      ]
     },
     "execution_count": 47,
     "metadata": {},
     "output_type": "execute_result"
    }
   ],
   "source": [
    "lda = LinearDiscriminantAnalysis()\n",
    "lda.fit(x_train, y_train)"
   ]
  },
  {
   "cell_type": "code",
   "execution_count": 48,
   "metadata": {
    "collapsed": false
   },
   "outputs": [
    {
     "name": "stdout",
     "output_type": "stream",
     "text": [
      "ON TRAINING DATA:\n",
      "Accuracy:\n",
      "0.7031313542090281\n",
      "Confusion Matrix:\n",
      "[[  1   0   0   0   0   1   0   0   0]\n",
      " [  0   6   0   0   1   0   0   0   0]\n",
      " [  0   0  37   2   8   4   3   1   0]\n",
      " [  0   0   1 155  33  21  22   6   0]\n",
      " [  0   0   1  11 482  51  61  10   1]\n",
      " [  0   1   6  26 134 560 120  12   3]\n",
      " [  0   0   2   6  56  45 382   6   1]\n",
      " [  0   0   0   0  25  19  18  89   0]\n",
      " [  0   0   0   1   4   2   5   0  17]]\n"
     ]
    }
   ],
   "source": [
    "# Training data\n",
    "print(\"ON TRAINING DATA:\")\n",
    "accuracy, confusion_m = evaluateClassificationModel(lda, x_train, y_train)"
   ]
  },
  {
   "cell_type": "code",
   "execution_count": 49,
   "metadata": {
    "collapsed": false
   },
   "outputs": [
    {
     "name": "stdout",
     "output_type": "stream",
     "text": [
      "ON TESTING DATA:\n",
      "Accuracy:\n",
      "0.25853658536585367\n",
      "Confusion Matrix:\n",
      "[[ 0  0  0  0  1  0  0  0]\n",
      " [ 0  0  1  3  4  3  1  0]\n",
      " [ 0  1 10 21 17 13  4  0]\n",
      " [ 0  3 16 55 43 40 12  1]\n",
      " [ 0  6 15 58 53 49  7  1]\n",
      " [ 0  1  6 34 37 39 10  0]\n",
      " [ 0  1  2 14 10 11  2  0]\n",
      " [ 0  0  0  3  3  3  1  0]]\n"
     ]
    }
   ],
   "source": [
    "# Testing data\n",
    "print(\"ON TESTING DATA:\")\n",
    "accuracy, confusion_m = evaluateClassificationModel(lda, x_test, y_test)"
   ]
  },
  {
   "cell_type": "markdown",
   "metadata": {},
   "source": [
    "# QDA"
   ]
  },
  {
   "cell_type": "code",
   "execution_count": 52,
   "metadata": {
    "collapsed": false
   },
   "outputs": [
    {
     "name": "stderr",
     "output_type": "stream",
     "text": [
      "//anaconda/lib/python3.5/site-packages/sklearn/utils/validation.py:526: DataConversionWarning: A column-vector y was passed when a 1d array was expected. Please change the shape of y to (n_samples, ), for example using ravel().\n",
      "  y = column_or_1d(y, warn=True)\n",
      "//anaconda/lib/python3.5/site-packages/sklearn/discriminant_analysis.py:695: UserWarning: Variables are collinear\n",
      "  warnings.warn(\"Variables are collinear\")\n"
     ]
    },
    {
     "data": {
      "text/plain": [
       "QuadraticDiscriminantAnalysis(priors=None, reg_param=0.0,\n",
       "               store_covariances=False, tol=0.0001)"
      ]
     },
     "execution_count": 52,
     "metadata": {},
     "output_type": "execute_result"
    }
   ],
   "source": [
    "qda = QuadraticDiscriminantAnalysis()\n",
    "qda.fit(x_train, y_train)"
   ]
  },
  {
   "cell_type": "code",
   "execution_count": 53,
   "metadata": {
    "collapsed": false
   },
   "outputs": [
    {
     "name": "stdout",
     "output_type": "stream",
     "text": [
      "ON TRAINING DATA:\n",
      "Accuracy:\n",
      "0.3688491256608377\n",
      "Confusion Matrix:\n",
      "[[  2   0   0   0   0   0   0   0   0]\n",
      " [  0   5   0   0   2   0   0   0   0]\n",
      " [  0   0  45   4   0   1   5   0   0]\n",
      " [  0   0   0 207   0  12  19   0   0]\n",
      " [  0   0   0  76  52  31 138   2 318]\n",
      " [  0   1   2  87   9 126 195  10 432]\n",
      " [  0   1   0  20   4  27 353   2  91]\n",
      " [  0   0   0   5   1   6  26  97  16]\n",
      " [  0   0   0   1   0   1   7   0  20]]\n"
     ]
    }
   ],
   "source": [
    "# Training data\n",
    "print(\"ON TRAINING DATA:\")\n",
    "accuracy, confusion_m = evaluateClassificationModel(qda, x_train, y_train)"
   ]
  },
  {
   "cell_type": "code",
   "execution_count": 54,
   "metadata": {
    "collapsed": false
   },
   "outputs": [
    {
     "name": "stdout",
     "output_type": "stream",
     "text": [
      "ON TESTING DATA:\n",
      "Accuracy:\n",
      "0.11056910569105691\n",
      "Confusion Matrix:\n",
      "[[  0   0   0   0   0   0   0   1]\n",
      " [  0   0   1   0   0   3   0   8]\n",
      " [  0   0   9   0   2  12   1  42]\n",
      " [  0   1  13   4  12  46   1  93]\n",
      " [  0   0  25   4  12  39   4 105]\n",
      " [  0   0  12   1   8  35   1  70]\n",
      " [  0   1   4   1   4   7   0  23]\n",
      " [  0   0   0   0   0   2   0   8]]\n"
     ]
    }
   ],
   "source": [
    "# Testing data\n",
    "print(\"ON TESTING DATA:\")\n",
    "accuracy, confusion_m = evaluateClassificationModel(qda, x_test, y_test)"
   ]
  },
  {
   "cell_type": "markdown",
   "metadata": {},
   "source": [
    "# K Nearest Neighbors"
   ]
  },
  {
   "cell_type": "code",
   "execution_count": 55,
   "metadata": {
    "collapsed": false
   },
   "outputs": [
    {
     "name": "stderr",
     "output_type": "stream",
     "text": [
      "//anaconda/lib/python3.5/site-packages/ipykernel/__main__.py:2: DataConversionWarning: A column-vector y was passed when a 1d array was expected. Please change the shape of y to (n_samples, ), for example using ravel().\n",
      "  from ipykernel import kernelapp as app\n"
     ]
    },
    {
     "data": {
      "text/plain": [
       "KNeighborsClassifier(algorithm='auto', leaf_size=30, metric='minkowski',\n",
       "           metric_params=None, n_jobs=1, n_neighbors=20, p=2,\n",
       "           weights='uniform')"
      ]
     },
     "execution_count": 55,
     "metadata": {},
     "output_type": "execute_result"
    }
   ],
   "source": [
    "neigh = KNeighborsClassifier(n_neighbors=20)\n",
    "neigh.fit(x_train, y_train)"
   ]
  },
  {
   "cell_type": "code",
   "execution_count": 56,
   "metadata": {
    "collapsed": false
   },
   "outputs": [
    {
     "name": "stdout",
     "output_type": "stream",
     "text": [
      "ON TRAINING DATA:\n",
      "Accuracy:\n",
      "0.4021960146400976\n",
      "Confusion Matrix:\n",
      "[[  0   0   0   0   0   2   0   0   0]\n",
      " [  0   0   0   0   2   5   0   0   0]\n",
      " [  0   0   0   3  17  33   1   1   0]\n",
      " [  0   0   0  17  70 141   9   1   0]\n",
      " [  0   0   2  12 249 303  50   1   0]\n",
      " [  0   0   1  18 171 605  66   1   0]\n",
      " [  0   0   0  14 118 249 117   0   0]\n",
      " [  0   0   0   5  40  83  22   1   0]\n",
      " [  0   0   0   0   5  21   3   0   0]]\n"
     ]
    }
   ],
   "source": [
    "# Training data\n",
    "print(\"ON TRAINING DATA:\")\n",
    "accuracy, confusion_m = evaluateClassificationModel(neigh, x_train, y_train)"
   ]
  },
  {
   "cell_type": "code",
   "execution_count": 57,
   "metadata": {
    "collapsed": false
   },
   "outputs": [
    {
     "name": "stdout",
     "output_type": "stream",
     "text": [
      "ON TESTING DATA:\n",
      "Accuracy:\n",
      "0.2975609756097561\n",
      "Confusion Matrix:\n",
      "[[  0   0   0   1   0   0   0   0]\n",
      " [  0   0   0   7   3   2   0   0]\n",
      " [  0   0   0  24  34   8   0   0]\n",
      " [  0   0   5  51  99  15   0   0]\n",
      " [  0   0   5  45 115  24   0   0]\n",
      " [  0   0   2  31  77  17   0   0]\n",
      " [  0   0   2  10  21   7   0   0]\n",
      " [  0   0   0   3   7   0   0   0]]\n"
     ]
    }
   ],
   "source": [
    "# Testing data\n",
    "print(\"ON TESTING DATA:\")\n",
    "accuracy, confusion_m = evaluateClassificationModel(neigh, x_test, y_test)"
   ]
  },
  {
   "cell_type": "markdown",
   "metadata": {},
   "source": [
    "# PCA"
   ]
  },
  {
   "cell_type": "code",
   "execution_count": 69,
   "metadata": {
    "collapsed": false
   },
   "outputs": [],
   "source": [
    "pca = PCA(n_components=5)\n",
    "x_train_new = pca.fit_transform(x_train)\n",
    "X_test_new = pca.transform(x_test)"
   ]
  },
  {
   "cell_type": "code",
   "execution_count": 70,
   "metadata": {
    "collapsed": false
   },
   "outputs": [
    {
     "name": "stderr",
     "output_type": "stream",
     "text": [
      "//anaconda/lib/python3.5/site-packages/sklearn/utils/validation.py:526: DataConversionWarning: A column-vector y was passed when a 1d array was expected. Please change the shape of y to (n_samples, ), for example using ravel().\n",
      "  y = column_or_1d(y, warn=True)\n"
     ]
    },
    {
     "data": {
      "text/plain": [
       "SVC(C=0.8, cache_size=200, class_weight=None, coef0=0.0,\n",
       "  decision_function_shape=None, degree=3, gamma='auto', kernel='rbf',\n",
       "  max_iter=-1, probability=False, random_state=None, shrinking=True,\n",
       "  tol=0.001, verbose=False)"
      ]
     },
     "execution_count": 70,
     "metadata": {},
     "output_type": "execute_result"
    }
   ],
   "source": [
    "svm_rbf_pca = SVC(gamma = 'auto', kernel='rbf', C=.8)\n",
    "svm_rbf_pca.fit(x_train_new, y_train)"
   ]
  },
  {
   "cell_type": "code",
   "execution_count": 71,
   "metadata": {
    "collapsed": false
   },
   "outputs": [
    {
     "name": "stdout",
     "output_type": "stream",
     "text": [
      "ON TRAINING DATA:\n",
      "Accuracy:\n",
      "0.8283855225701505\n",
      "Confusion Matrix:\n",
      "[[  0   0   0   0   0   2   0   0   0]\n",
      " [  0   0   0   0   1   5   1   0   0]\n",
      " [  0   0   0   1   5  48   1   0   0]\n",
      " [  0   0   0 187  20  23   8   0   0]\n",
      " [  0   0   0   1 564  49   3   0   0]\n",
      " [  0   0   0   2   4 853   3   0   0]\n",
      " [  0   0   0   0  24  45 429   0   0]\n",
      " [  0   0   0   2  13 120  12   4   0]\n",
      " [  0   0   0   0   4  24   1   0   0]]\n"
     ]
    }
   ],
   "source": [
    "# Training data\n",
    "print(\"ON TRAINING DATA:\")\n",
    "accuracy, confusion_m = evaluateClassificationModel(svm_rbf_pca, x_train_new, y_train)"
   ]
  },
  {
   "cell_type": "code",
   "execution_count": 72,
   "metadata": {
    "collapsed": false
   },
   "outputs": [
    {
     "name": "stdout",
     "output_type": "stream",
     "text": [
      "ON TESTING DATA:\n",
      "Accuracy:\n",
      "0.3073170731707317\n",
      "Confusion Matrix:\n",
      "[[  0   0   0   0   1   0   0   0]\n",
      " [  0   0   0   0  12   0   0   0]\n",
      " [  0   0   0   0  66   0   0   0]\n",
      " [  0   0   0   0 170   0   0   0]\n",
      " [  0   0   0   0 189   0   0   0]\n",
      " [  0   0   0   0 127   0   0   0]\n",
      " [  0   0   0   0  40   0   0   0]\n",
      " [  0   0   0   0  10   0   0   0]]\n"
     ]
    }
   ],
   "source": [
    "# Testing data\n",
    "print(\"ON TESTING DATA:\")\n",
    "accuracy, confusion_m = evaluateClassificationModel(svm_rbf_pca, x_test_new, y_test)"
   ]
  },
  {
   "cell_type": "markdown",
   "metadata": {
    "collapsed": true
   },
   "source": [
    "# Neural Networks"
   ]
  },
  {
   "cell_type": "code",
   "execution_count": 76,
   "metadata": {
    "collapsed": false
   },
   "outputs": [
    {
     "name": "stderr",
     "output_type": "stream",
     "text": [
      "//anaconda/lib/python3.5/site-packages/sklearn/neural_network/multilayer_perceptron.py:904: DataConversionWarning: A column-vector y was passed when a 1d array was expected. Please change the shape of y to (n_samples, ), for example using ravel().\n",
      "  y = column_or_1d(y, warn=True)\n"
     ]
    },
    {
     "data": {
      "text/plain": [
       "MLPClassifier(activation='relu', alpha=1e-05, batch_size='auto', beta_1=0.9,\n",
       "       beta_2=0.999, early_stopping=False, epsilon=1e-08,\n",
       "       hidden_layer_sizes=(15, 10, 5), learning_rate='constant',\n",
       "       learning_rate_init=0.001, max_iter=200, momentum=0.9,\n",
       "       nesterovs_momentum=True, power_t=0.5, random_state=1, shuffle=True,\n",
       "       solver='lbfgs', tol=0.0001, validation_fraction=0.1, verbose=False,\n",
       "       warm_start=False)"
      ]
     },
     "execution_count": 76,
     "metadata": {},
     "output_type": "execute_result"
    }
   ],
   "source": [
    "from sklearn.neural_network import MLPClassifier\n",
    "nn = MLPClassifier(solver='lbfgs', alpha=1e-5, hidden_layer_sizes=(15, 10, 5), random_state=1)\n",
    "nn.fit(x_train, y_train)"
   ]
  },
  {
   "cell_type": "code",
   "execution_count": 77,
   "metadata": {
    "collapsed": false
   },
   "outputs": [
    {
     "name": "stdout",
     "output_type": "stream",
     "text": [
      "ON TRAINING DATA:\n",
      "Accuracy:\n",
      "0.20211468076453842\n",
      "Confusion Matrix:\n",
      "[[  0   0   0   0   0   0   2   0   0]\n",
      " [  0   0   0   0   0   0   7   0   0]\n",
      " [  0   0   0   0   0   0  55   0   0]\n",
      " [  0   0   0   0   0   0 238   0   0]\n",
      " [  3   0   0   0   0   0 613   1   0]\n",
      " [  1   0   0   0   1   0 860   0   0]\n",
      " [  1   0   0   0   0   0 497   0   0]\n",
      " [  0   0   0   0   0   0 151   0   0]\n",
      " [  1   0   0   0   0   0  28   0   0]]\n"
     ]
    }
   ],
   "source": [
    "# Training data\n",
    "print(\"ON TRAINING DATA:\")\n",
    "accuracy, confusion_m = evaluateClassificationModel(nn, x_train, y_train)"
   ]
  },
  {
   "cell_type": "code",
   "execution_count": 78,
   "metadata": {
    "collapsed": false
   },
   "outputs": [
    {
     "name": "stdout",
     "output_type": "stream",
     "text": [
      "ON TESTING DATA:\n",
      "Accuracy:\n",
      "0.208130081300813\n",
      "Confusion Matrix:\n",
      "[[  0   0   0   0   0   0   0   0   0]\n",
      " [  0   0   0   0   0   0   1   0   0]\n",
      " [  0   0   0   0   0   0  12   0   0]\n",
      " [  0   0   0   0   0   0  66   0   0]\n",
      " [  1   0   0   0   1   0 168   0   0]\n",
      " [  1   0   0   0   0   0 188   0   0]\n",
      " [  0   0   0   0   0   0 127   0   0]\n",
      " [  0   0   0   0   0   0  40   0   0]\n",
      " [  0   0   0   0   0   0  10   0   0]]\n"
     ]
    }
   ],
   "source": [
    "# Testing data\n",
    "print(\"ON TESTING DATA:\")\n",
    "accuracy, confusion_m = evaluateClassificationModel(nn, x_test, y_test)"
   ]
  },
  {
   "cell_type": "code",
   "execution_count": null,
   "metadata": {
    "collapsed": true
   },
   "outputs": [],
   "source": [
    "# Hidden layers: 20, 10, and 5 worked well"
   ]
  }
 ],
 "metadata": {
  "anaconda-cloud": {},
  "kernelspec": {
   "display_name": "Python [default]",
   "language": "python",
   "name": "python3"
  },
  "language_info": {
   "codemirror_mode": {
    "name": "ipython",
    "version": 3
   },
   "file_extension": ".py",
   "mimetype": "text/x-python",
   "name": "python",
   "nbconvert_exporter": "python",
   "pygments_lexer": "ipython3",
   "version": "3.5.2"
  }
 },
 "nbformat": 4,
 "nbformat_minor": 1
}
