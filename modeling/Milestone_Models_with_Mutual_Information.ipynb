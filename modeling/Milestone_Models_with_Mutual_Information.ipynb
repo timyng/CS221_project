{
 "cells": [
  {
   "cell_type": "code",
   "execution_count": 1,
   "metadata": {
    "collapsed": false
   },
   "outputs": [],
   "source": [
    "import numpy as np\n",
    "from sklearn.linear_model import LinearRegression\n",
    "from sklearn import linear_model\n",
    "from sklearn.metrics import mean_squared_error\n",
    "from sklearn.preprocessing import LabelEncoder\n",
    "from sklearn.preprocessing import OneHotEncoder\n",
    "from sklearn import preprocessing\n",
    "from sklearn.model_selection import cross_val_score\n",
    "from sklearn.model_selection import train_test_split\n",
    "from sklearn.linear_model import LogisticRegression\n",
    "from sklearn.svm import SVC\n",
    "from sklearn import tree\n",
    "from sklearn.discriminant_analysis import LinearDiscriminantAnalysis\n",
    "from sklearn.discriminant_analysis import QuadraticDiscriminantAnalysis\n",
    "from sklearn.neighbors import KNeighborsClassifier\n",
    "from sklearn.decomposition import PCA\n",
    "from sklearn.linear_model import Ridge\n",
    "from sklearn.metrics import confusion_matrix\n",
    "from sklearn.svm import SVR\n",
    "import pandas as pd\n",
    "import matplotlib.pyplot as plt"
   ]
  },
  {
   "cell_type": "code",
   "execution_count": 2,
   "metadata": {
    "collapsed": false
   },
   "outputs": [
    {
     "data": {
      "text/plain": [
       "Index(['name', 'domain', 'year founded', 'industry', 'size range', 'city',\n",
       "       ' state', 'country', ' linkedin url', 'current employee estimate',\n",
       "       'total employee estimate', 'Score', 'reviews', 'salaries', 'interviews',\n",
       "       'KMT', 'market_cap', 'enterprise_value', 'trailing_pe', 'forward_pe',\n",
       "       'peg_ratio_5', 'price_sales', 'price_book', 'enterprise_value_revenue',\n",
       "       'enterprise_value_ebitda', 'profit_margin', 'operating_margin',\n",
       "       'return_on_assets', 'return_on_equity', 'revenue', 'revenue_per_share',\n",
       "       'quarterly_revenue_share', 'gross_profit', 'ebitda',\n",
       "       'net_income_avi_to_common', 'diluted_eps', 'quarterly_earnings_growth',\n",
       "       'total_cash', 'total_cash_per_share', 'total_dept',\n",
       "       'total_dept_per_equity', 'operating_cash_flow',\n",
       "       'leveraged_free_cash_flow', 'stock_beta_3y', 'stock 52_week',\n",
       "       'stock_sp500_52_week', 'stock_52_week_high', 'stock_52_week_low'],\n",
       "      dtype='object')"
      ]
     },
     "execution_count": 2,
     "metadata": {},
     "output_type": "execute_result"
    }
   ],
   "source": [
    "data_path = \"../data/with_stock_data.csv\"\n",
    "frame = pd.read_csv(data_path)\n",
    "frame.columns"
   ]
  },
  {
   "cell_type": "code",
   "execution_count": 3,
   "metadata": {
    "collapsed": true
   },
   "outputs": [],
   "source": [
    "def convertToClass(Y, k):\n",
    "    return Y.apply(lambda elem : np.round(elem * k / 5))\n",
    "\n",
    "# def convertToScore(Y, k):\n",
    "#     return Y.apply(lambda elem : elem * 5 / k)"
   ]
  },
  {
   "cell_type": "markdown",
   "metadata": {},
   "source": [
    "# Data Exploration"
   ]
  },
  {
   "cell_type": "code",
   "execution_count": 4,
   "metadata": {
    "collapsed": false
   },
   "outputs": [
    {
     "data": {
      "image/png": "[encoded data removed]",
      "text/plain": [
       "<matplotlib.figure.Figure at 0x11a5a5898>"
      ]
     },
     "metadata": {},
     "output_type": "display_data"
    }
   ],
   "source": [
    "frame['Score']\n",
    "plt.hist(frame['Score'], alpha=0.3)\n",
    "plt.show()"
   ]
  },
  {
   "cell_type": "markdown",
   "metadata": {},
   "source": [
    "# Feature Selection"
   ]
  },
  {
   "cell_type": "code",
   "execution_count": 5,
   "metadata": {
    "collapsed": true
   },
   "outputs": [],
   "source": [
    "# Pick Features\n",
    "# non_categorical_columns = ['year founded', 'current employee estimate', 'total employee estimate', 'reviews', 'salaries', 'interviews', 'market_cap', 'enterprise_value', 'trailing_pe', 'forward_pe', 'peg_ratio_5', 'price_sales', 'price_book', 'enterprise_value_revenue', 'enterprise_value_ebitda', 'profit_margin', 'operating_margin', 'return_on_assets', 'return_on_equity', 'revenue', 'revenue_per_share', 'quarterly_revenue_share', 'gross_profit', 'ebitda', 'net_income_avi_to_common', 'diluted_eps', 'quarterly_earnings_growth', 'total_cash', 'total_cash_per_share', 'total_dept', 'total_dept_per_equity', 'operating_cash_flow', 'leveraged_free_cash_flow', 'stock_beta_3y', 'stock 52_week', 'stock_sp500_52_week', 'stock_52_week_high', 'stock_52_week_low']\n",
    "# categorical_columns = ['industry', 'size range', 'city', ' state', 'country']\n",
    "non_categorical_columns = ['trailing_pe', 'leveraged_free_cash_flow', 'operating_cash_flow', 'total_dept_per_equity', 'ebitda', 'net_income_avi_to_common', 'forward_pe', 'total_cash']\n",
    "categorical_columns = ['city']"
   ]
  },
  {
   "cell_type": "code",
   "execution_count": 6,
   "metadata": {
    "collapsed": false
   },
   "outputs": [],
   "source": [
    "# Data Cleaning\n",
    "le = LabelEncoder()\n",
    "X = pd.DataFrame({key : frame[key] for key in categorical_columns + non_categorical_columns})\n",
    "X[categorical_columns] = X[categorical_columns].apply(lambda col : le.fit_transform(col))\n",
    "\n",
    "for x in non_categorical_columns:\n",
    "    X[x] = X[x].fillna(X[x].mean())\n",
    "\n",
    "indices = [X.columns.get_loc(c) for c in categorical_columns]\n",
    "ohe = OneHotEncoder(categorical_features=indices, sparse=False)\n",
    "X = ohe.fit_transform(X)\n",
    "Y = pd.DataFrame({\"y\" : frame[\"Score\"]})"
   ]
  },
  {
   "cell_type": "markdown",
   "metadata": {},
   "source": [
    "# Linear Regression Random"
   ]
  },
  {
   "cell_type": "code",
   "execution_count": 38,
   "metadata": {
    "collapsed": false
   },
   "outputs": [
    {
     "name": "stdout",
     "output_type": "stream",
     "text": [
      "Mean Squared Error:\n",
      "0.3701779820074096\n"
     ]
    }
   ],
   "source": [
    "# Normal CV with RANDOM data\n",
    "X_random = pd.DataFrame({\"rand\" : np.random.random(Y.shape[0])})\n",
    "x_train, x_test, y_train, y_test = train_test_split(X_random, Y, test_size=0.2)\n",
    "model = LinearRegression()\n",
    "model.fit(x_train, y_train)\n",
    "predictions = model.predict(x_test)\n",
    "error = mean_squared_error(y_test, predictions)\n",
    "print(\"Mean Squared Error:\")\n",
    "print(error)\n",
    "\n",
    "# Training data\n",
    "# print(\"Training Accuracy\")\n",
    "# pred = model.predict(X)\n",
    "# print(sum(np.abs(pred - Y.values) <  0.5)/ Y.shape[0])\n",
    "# y_pred = convertToClass(pred, 10)\n",
    "# Y_scaled = convertToClass(Y, 10)\n",
    "# confusion_m = confusion_matrix(Y_scaled, y_pred)\n",
    "# print(confusion_m)"
   ]
  },
  {
   "cell_type": "markdown",
   "metadata": {},
   "source": [
    "# Linear Regression (L1 Regularization)"
   ]
  },
  {
   "cell_type": "code",
   "execution_count": 53,
   "metadata": {
    "collapsed": false
   },
   "outputs": [],
   "source": [
    "reg = linear_model.Lasso(alpha=0.1)\n",
    "reg.fit(X, Y)\n",
    "pred = reg.predict(X)"
   ]
  },
  {
   "cell_type": "code",
   "execution_count": 54,
   "metadata": {
    "collapsed": true
   },
   "outputs": [],
   "source": [
    "def convertToClass(Y, k):\n",
    "    return np.apply_along_axis(lambda elem : np.round(elem * k / 5), 0, Y)"
   ]
  },
  {
   "cell_type": "code",
   "execution_count": 55,
   "metadata": {
    "collapsed": false
   },
   "outputs": [
    {
     "name": "stdout",
     "output_type": "stream",
     "text": [
      "Training Mean Square Error:\n",
      "0.3387970335855975\n",
      "Training Accuracy\n",
      "[0.35003253 0.30839297 0.30839297 ... 0.35003253 0.35003253 0.35003253]\n",
      "[[   0    0    0    0    0    2    0    0    0]\n",
      " [   0    0    0    0    0    8    0    0    0]\n",
      " [   0    0    0    0    0   67    0    0    0]\n",
      " [   0    0    0    0    0  304    0    0    0]\n",
      " [   0    0    0    0    2  784    0    1    0]\n",
      " [   0    0    0    0    2 1048    1    0    0]\n",
      " [   0    0    0    0    0  621    3    1    0]\n",
      " [   0    0    0    0    0  190    1    0    0]\n",
      " [   0    0    0    0    0   39    0    0    0]]\n"
     ]
    }
   ],
   "source": [
    "# Training Data\n",
    "print(\"Training Mean Square Error:\")\n",
    "print(mean_squared_error(Y, pred))\n",
    "print(\"Training Accuracy\")\n",
    "print(sum(np.abs(pred - Y.values) <  0.25)/ Y.shape[0])\n",
    "y_pred = convertToClass(pred, 10)\n",
    "Y_scaled = convertToClass(Y, 10)\n",
    "confusion_m = confusion_matrix(Y_scaled, y_pred)\n",
    "print(confusion_m)"
   ]
  },
  {
   "cell_type": "code",
   "execution_count": 56,
   "metadata": {
    "collapsed": false
   },
   "outputs": [
    {
     "name": "stdout",
     "output_type": "stream",
     "text": [
      "Test Mean Square Error\n",
      "0.4015261875810092\n",
      "Test Accuracy\n",
      "[0.29918699]\n",
      "Test Confusion Matrix\n",
      "[[  0   0   0   0   2   0   0   0]\n",
      " [  0   0   0   1   8   2   0   0]\n",
      " [  0   0   0  12  45   3   1   0]\n",
      " [  0   1   3  29 120  17   0   1]\n",
      " [  0   0   3  34 145   9   1   0]\n",
      " [  0   0   1  14 108   5   3   0]\n",
      " [  0   0   0   7  25   4   0   0]\n",
      " [  0   0   0   2   7   2   0   0]]\n"
     ]
    }
   ],
   "source": [
    "# Test data: our own train / test split\n",
    "x_train, x_test, y_train, y_test = train_test_split(X, Y, test_size=0.2)\n",
    "model = LinearRegression()\n",
    "model.fit(x_train, y_train)\n",
    "predictions = model.predict(x_test)\n",
    "error = mean_squared_error(y_test, predictions)\n",
    "print(\"Test Mean Square Error\")\n",
    "print(error)\n",
    "print(\"Test Accuracy\")\n",
    "print(sum(np.abs(predictions - y_test.values) <  0.25)/ y_test.shape[0])\n",
    "print(\"Test Confusion Matrix\")\n",
    "y_pred = convertToClass(predictions, 10)\n",
    "Y_scaled = convertToClass(y_test, 10)\n",
    "confusion_m = confusion_matrix(Y_scaled, y_pred)\n",
    "print(confusion_m)"
   ]
  },
  {
   "cell_type": "markdown",
   "metadata": {},
   "source": [
    "# Linear Regression (L2 Regularization)"
   ]
  },
  {
   "cell_type": "code",
   "execution_count": 57,
   "metadata": {
    "collapsed": true
   },
   "outputs": [],
   "source": [
    "# Modeling\n",
    "reg = Ridge(alpha=1.0, normalize=True)\n",
    "reg.fit(X, Y)\n",
    "pred = reg.predict(X)"
   ]
  },
  {
   "cell_type": "code",
   "execution_count": 58,
   "metadata": {
    "collapsed": true
   },
   "outputs": [],
   "source": [
    "def convertToClass(Y, k):\n",
    "    return np.apply_along_axis(lambda elem : np.round(elem * k / 5), 0, Y)"
   ]
  },
  {
   "cell_type": "code",
   "execution_count": 59,
   "metadata": {
    "collapsed": false
   },
   "outputs": [
    {
     "name": "stdout",
     "output_type": "stream",
     "text": [
      "Training Mean Square Error:\n",
      "0.2392723700498218\n",
      "Training Accuracy\n",
      "[0.43949252]\n",
      "[[   0    0    0    1    0    1    0    0    0]\n",
      " [   0    0    0    3    3    2    0    0    0]\n",
      " [   0    0    0    6   29   32    0    0    0]\n",
      " [   0    0    0    0  129  175    0    0    0]\n",
      " [   0    0    0    0  188  597    2    0    0]\n",
      " [   0    0    0    0   35 1014    2    0    0]\n",
      " [   0    0    0    0    7  579   39    0    0]\n",
      " [   0    0    0    0    1  146   44    0    0]\n",
      " [   0    0    0    0    0   23   16    0    0]]\n"
     ]
    }
   ],
   "source": [
    "# Training Data\n",
    "print(\"Training Mean Square Error:\")\n",
    "print(mean_squared_error(Y, pred))\n",
    "print(\"Training Accuracy\")\n",
    "print(sum(np.abs(pred - Y.values) <  0.25)/ Y.shape[0])\n",
    "y_pred = convertToClass(pred, 10)\n",
    "Y_scaled = convertToClass(Y, 10)\n",
    "confusion_m = confusion_matrix(Y_scaled, y_pred)\n",
    "print(confusion_m)"
   ]
  },
  {
   "cell_type": "code",
   "execution_count": 62,
   "metadata": {
    "collapsed": false
   },
   "outputs": [
    {
     "name": "stdout",
     "output_type": "stream",
     "text": [
      "Test Mean Square Error\n",
      "0.39286904097568986\n",
      "Test Accuracy\n",
      "[0.34796748]\n",
      "Test Confusion Matrix\n",
      "[[  0   2   2  10   1   0   0]\n",
      " [  0   0   5  39   6   1   0]\n",
      " [  0   4  28 114   8   1   1]\n",
      " [  1   5  27 169  14   2   0]\n",
      " [  0   2  18  89  15   3   1]\n",
      " [  0   1   7  29   3   1   0]\n",
      " [  0   0   1   5   0   0   0]]\n"
     ]
    }
   ],
   "source": [
    "# Test data: our own train / test split\n",
    "x_train, x_test, y_train, y_test = train_test_split(X, Y, test_size=0.2)\n",
    "model = LinearRegression()\n",
    "model.fit(x_train, y_train)\n",
    "predictions = model.predict(x_test)\n",
    "error = mean_squared_error(y_test, predictions)\n",
    "print(\"Test Mean Square Error\")\n",
    "print(error)\n",
    "print(\"Test Accuracy\")\n",
    "print(sum(np.abs(predictions - y_test.values) <  0.25)/ y_test.shape[0])\n",
    "print(\"Test Confusion Matrix\")\n",
    "y_pred = convertToClass(predictions, 10)\n",
    "Y_scaled = convertToClass(y_test, 10)\n",
    "confusion_m = confusion_matrix(Y_scaled, y_pred)\n",
    "print(confusion_m)"
   ]
  },
  {
   "cell_type": "markdown",
   "metadata": {},
   "source": [
    "# Linear Regression"
   ]
  },
  {
   "cell_type": "code",
   "execution_count": 9,
   "metadata": {
    "collapsed": true
   },
   "outputs": [],
   "source": [
    "# Modeling\n",
    "clf = LinearRegression().fit(X, Y)\n",
    "pred = reg.predict(X)"
   ]
  },
  {
   "cell_type": "code",
   "execution_count": 10,
   "metadata": {
    "collapsed": true
   },
   "outputs": [],
   "source": [
    "def convertToClass(Y, k):\n",
    "    return np.apply_along_axis(lambda elem : np.round(elem * k / 5), 0, Y)"
   ]
  },
  {
   "cell_type": "code",
   "execution_count": 15,
   "metadata": {
    "collapsed": false
   },
   "outputs": [
    {
     "name": "stdout",
     "output_type": "stream",
     "text": [
      "Training Mean Square Error:\n",
      "0.20563396728391944\n",
      "Training Accuracy\n",
      "[0.53708523]\n",
      "[[  1   0   0   0   1   0   0   0   0]\n",
      " [  0   3   0   2   2   1   0   0   0]\n",
      " [  0   0  19   4  17  27   0   0   0]\n",
      " [  0   0   1  89  77 134   3   0   0]\n",
      " [  0   0   0  10 354 410  13   0   0]\n",
      " [  0   0   0   1 125 873  52   0   0]\n",
      " [  0   0   0   0  32 384 207   2   0]\n",
      " [  0   0   0   0   4 113  33  41   0]\n",
      " [  0   0   0   0   1  17   8   1  12]]\n"
     ]
    }
   ],
   "source": [
    "# Training Data\n",
    "print(\"Training Mean Square Error:\")\n",
    "print(mean_squared_error(Y, pred))\n",
    "print(\"Training Accuracy\")\n",
    "print(sum(np.abs(pred - Y.values) <  0.25)/ Y.shape[0])\n",
    "y_pred = convertToClass(pred, 10)\n",
    "Y_scaled = convertToClass(Y, 10)\n",
    "confusion_m = confusion_matrix(Y_scaled, y_pred)\n",
    "print(confusion_m)"
   ]
  },
  {
   "cell_type": "code",
   "execution_count": 23,
   "metadata": {
    "collapsed": false
   },
   "outputs": [
    {
     "name": "stdout",
     "output_type": "stream",
     "text": [
      "Test Mean Square Error\n",
      "0.41406585232410764\n",
      "Test Accuracy\n",
      "[0.31707317]\n",
      "Test Confusion Matrix\n",
      "[[  0   0   0   0   0   1   0   0   0]\n",
      " [  0   0   0   0   0   1   0   0   0]\n",
      " [  0   0   0   1   2  10   2   0   0]\n",
      " [  0   0   0   5  11  48   4   1   0]\n",
      " [  0   0   0   1  17 122  10   0   1]\n",
      " [  0   0   0   4  22 161  14   2   1]\n",
      " [  0   0   0   4  15 102   9   1   1]\n",
      " [  0   0   0   1   4  26   5   0   0]\n",
      " [  0   0   0   0   0   6   0   0   0]]\n"
     ]
    }
   ],
   "source": [
    "# Test data: our own train / test split\n",
    "x_train, x_test, y_train, y_test = train_test_split(X, Y, test_size=0.2)\n",
    "model = LinearRegression()\n",
    "model.fit(x_train, y_train)\n",
    "predictions = model.predict(x_test)\n",
    "error = mean_squared_error(y_test, predictions)\n",
    "print(\"Test Mean Square Error\")\n",
    "print(error)\n",
    "print(\"Test Accuracy\")\n",
    "print(sum(np.abs(predictions - y_test.values) <  0.25)/ y_test.shape[0])\n",
    "print(\"Test Confusion Matrix\")\n",
    "y_pred = convertToClass(predictions, 10)\n",
    "Y_scaled = convertToClass(y_test, 10)\n",
    "confusion_m = confusion_matrix(Y_scaled, y_pred)\n",
    "print(confusion_m)"
   ]
  },
  {
   "cell_type": "code",
   "execution_count": 24,
   "metadata": {
    "collapsed": false
   },
   "outputs": [
    {
     "name": "stdout",
     "output_type": "stream",
     "text": [
      "Test K Fold\n"
     ]
    },
    {
     "data": {
      "text/plain": [
       "array([-3.03614418e-01, -2.36556710e+03, -5.52963525e+01, -4.67329287e-01,\n",
       "       -2.46746809e+01])"
      ]
     },
     "execution_count": 24,
     "metadata": {},
     "output_type": "execute_result"
    }
   ],
   "source": [
    "# K Fold CV\n",
    "model = LinearRegression()\n",
    "scores = cross_val_score(model, X, Y, cv=5, scoring = \"neg_mean_squared_error\") # also use R^2\n",
    "print(\"Test K Fold\")\n",
    "scores"
   ]
  },
  {
   "cell_type": "markdown",
   "metadata": {},
   "source": [
    "# Support Vector Regression"
   ]
  },
  {
   "cell_type": "code",
   "execution_count": 78,
   "metadata": {
    "collapsed": false
   },
   "outputs": [],
   "source": [
    "# Data Cleaning\n",
    "le = LabelEncoder()\n",
    "X = pd.DataFrame({key : frame[key] for key in categorical_columns + non_categorical_columns})\n",
    "X[categorical_columns] = X[categorical_columns].apply(lambda col : le.fit_transform(col))\n",
    "\n",
    "for x in non_categorical_columns:\n",
    "    X[x] = X[x].fillna(X[x].mean())\n",
    "\n",
    "indices = [X.columns.get_loc(c) for c in categorical_columns]\n",
    "ohe = OneHotEncoder(categorical_features=indices, sparse=False)\n",
    "X = ohe.fit_transform(X)\n",
    "Y = pd.DataFrame({\"y\" : frame[\"Score\"]})"
   ]
  },
  {
   "cell_type": "code",
   "execution_count": 84,
   "metadata": {
    "collapsed": false
   },
   "outputs": [
    {
     "name": "stderr",
     "output_type": "stream",
     "text": [
      "//anaconda/lib/python3.5/site-packages/sklearn/utils/validation.py:526: DataConversionWarning: A column-vector y was passed when a 1d array was expected. Please change the shape of y to (n_samples, ), for example using ravel().\n",
      "  y = column_or_1d(y, warn=True)\n"
     ]
    }
   ],
   "source": [
    "# Modeling\n",
    "clf = SVR()\n",
    "clf.fit(X, Y)\n",
    "pred = reg.predict(X)"
   ]
  },
  {
   "cell_type": "code",
   "execution_count": 80,
   "metadata": {
    "collapsed": true
   },
   "outputs": [],
   "source": [
    "def convertToClass(Y, k):\n",
    "    return np.apply_along_axis(lambda elem : np.round(elem * k / 5), 0, Y)"
   ]
  },
  {
   "cell_type": "code",
   "execution_count": 81,
   "metadata": {
    "collapsed": false
   },
   "outputs": [
    {
     "name": "stdout",
     "output_type": "stream",
     "text": [
      "Training Mean Square Error:\n",
      "0.2392723700498218\n",
      "Training Accuracy\n",
      "[0.43949252]\n",
      "[[   0    0    0    1    0    1    0    0    0]\n",
      " [   0    0    0    3    3    2    0    0    0]\n",
      " [   0    0    0    6   29   32    0    0    0]\n",
      " [   0    0    0    0  129  175    0    0    0]\n",
      " [   0    0    0    0  188  597    2    0    0]\n",
      " [   0    0    0    0   35 1014    2    0    0]\n",
      " [   0    0    0    0    7  579   39    0    0]\n",
      " [   0    0    0    0    1  146   44    0    0]\n",
      " [   0    0    0    0    0   23   16    0    0]]\n"
     ]
    }
   ],
   "source": [
    "# Training Data\n",
    "print(\"Training Mean Square Error:\")\n",
    "print(mean_squared_error(Y, pred))\n",
    "print(\"Training Accuracy\")\n",
    "print(sum(np.abs(pred - Y.values) <  0.25)/ Y.shape[0])\n",
    "y_pred = convertToClass(pred, 10)\n",
    "Y_scaled = convertToClass(Y, 10)\n",
    "confusion_m = confusion_matrix(Y_scaled, y_pred)\n",
    "print(confusion_m)"
   ]
  },
  {
   "cell_type": "code",
   "execution_count": 82,
   "metadata": {
    "collapsed": false
   },
   "outputs": [
    {
     "name": "stdout",
     "output_type": "stream",
     "text": [
      "Test Mean Square Error\n",
      "0.4272609012109664\n",
      "Test Accuracy\n",
      "[0.36260163]\n",
      "Test Confusion Matrix\n",
      "[[  0   0   0   0   1   0   0   0]\n",
      " [  0   0   0   1  12   0   0   0]\n",
      " [  0   1   0  12  43   4   4   0]\n",
      " [  0   1   4  23 112  11   2   0]\n",
      " [  1   1   5  28 167  13   2   1]\n",
      " [  0   3   5   7 100   5   1   0]\n",
      " [  0   0   1   2  28   2   2   0]\n",
      " [  0   0   0   2   8   0   0   0]]\n"
     ]
    }
   ],
   "source": [
    "# Test data: our own train / test split\n",
    "x_train, x_test, y_train, y_test = train_test_split(X, Y, test_size=0.2)\n",
    "model = LinearRegression()\n",
    "model.fit(x_train, y_train)\n",
    "predictions = model.predict(x_test)\n",
    "error = mean_squared_error(y_test, predictions)\n",
    "print(\"Test Mean Square Error\")\n",
    "print(error)\n",
    "print(\"Test Accuracy\")\n",
    "print(sum(np.abs(predictions - y_test.values) <  0.25)/ y_test.shape[0])\n",
    "print(\"Test Confusion Matrix\")\n",
    "y_pred = convertToClass(predictions, 10)\n",
    "Y_scaled = convertToClass(y_test, 10)\n",
    "confusion_m = confusion_matrix(Y_scaled, y_pred)\n",
    "print(confusion_m)"
   ]
  },
  {
   "cell_type": "markdown",
   "metadata": {},
   "source": [
    "# Softmax"
   ]
  },
  {
   "cell_type": "code",
   "execution_count": 117,
   "metadata": {
    "collapsed": true
   },
   "outputs": [],
   "source": [
    "# Data Cleaning\n",
    "le = LabelEncoder()\n",
    "X = pd.DataFrame({key : frame[key] for key in categorical_columns + non_categorical_columns})\n",
    "X[categorical_columns] = X[categorical_columns].apply(lambda col : le.fit_transform(col))\n",
    "\n",
    "for x in non_categorical_columns:\n",
    "    X[x] = X[x].fillna(X[x].mean())\n",
    "\n",
    "indices = [X.columns.get_loc(c) for c in categorical_columns]\n",
    "ohe = OneHotEncoder(categorical_features=indices, sparse=False)\n",
    "X = ohe.fit_transform(X)\n",
    "Y = pd.DataFrame({\"y\" : frame[\"Score\"]})"
   ]
  },
  {
   "cell_type": "code",
   "execution_count": 119,
   "metadata": {
    "collapsed": false
   },
   "outputs": [],
   "source": [
    "k = 10\n",
    "Y = convertToClass(Y, k)\n",
    "# Y[\"y\"].value_counts()"
   ]
  },
  {
   "cell_type": "code",
   "execution_count": 120,
   "metadata": {
    "collapsed": false
   },
   "outputs": [
    {
     "name": "stderr",
     "output_type": "stream",
     "text": [
      "//anaconda/lib/python3.5/site-packages/sklearn/utils/validation.py:526: DataConversionWarning: A column-vector y was passed when a 1d array was expected. Please change the shape of y to (n_samples, ), for example using ravel().\n",
      "  y = column_or_1d(y, warn=True)\n"
     ]
    }
   ],
   "source": [
    "clf = LogisticRegression(multi_class='multinomial', solver='lbfgs').fit(X, Y)"
   ]
  },
  {
   "cell_type": "code",
   "execution_count": 121,
   "metadata": {
    "collapsed": false
   },
   "outputs": [
    {
     "name": "stdout",
     "output_type": "stream",
     "text": [
      "Training Accuracy\n",
      "0.2934287573194535\n",
      "[[  1   0   0   1   0   0   0   0   0]\n",
      " [  0   0   0   0   1   5   2   0   0]\n",
      " [  5   1   0   5   7  38  10   0   1]\n",
      " [ 23   1   3  13  28 188  45   3   0]\n",
      " [ 36   5   2  33  80 484 134  11   2]\n",
      " [ 41   4   3  54  90 674 168  12   5]\n",
      " [ 25   3   0  31  61 365 131   4   5]\n",
      " [ 11   6   0  10  23 102  33   3   3]\n",
      " [  5   0   0   2   4  20   8   0   0]]\n"
     ]
    }
   ],
   "source": [
    "# Training data\n",
    "y_pred = clf.predict(X)\n",
    "confusion_m = confusion_matrix(Y, y_pred)\n",
    "training_accuracy = clf.score(X, Y)\n",
    "print(\"Training Accuracy\")\n",
    "print(training_accuracy)\n",
    "print(confusion_m)"
   ]
  },
  {
   "cell_type": "code",
   "execution_count": 122,
   "metadata": {
    "collapsed": false
   },
   "outputs": [
    {
     "name": "stderr",
     "output_type": "stream",
     "text": [
      "//anaconda/lib/python3.5/site-packages/sklearn/utils/validation.py:526: DataConversionWarning: A column-vector y was passed when a 1d array was expected. Please change the shape of y to (n_samples, ), for example using ravel().\n",
      "  y = column_or_1d(y, warn=True)\n"
     ]
    },
    {
     "name": "stdout",
     "output_type": "stream",
     "text": [
      "Test Accuracy\n",
      "0.3040650406504065\n",
      "Test Confusion Matrix\n",
      "[[  1   0   0   0   0   0   0   0   0]\n",
      " [  0   0   0   0   0   1   1   0   0]\n",
      " [  0   0   0   0   2   3   1   0   0]\n",
      " [  1   0   0   3   5  40   8   0   1]\n",
      " [  7   2   0  11  18 106  23   1   3]\n",
      " [  4   4   0   8  19 143  24   0   3]\n",
      " [  2   0   0   8  10  83  22   0   3]\n",
      " [  0   2   0   1   2  22   7   0   0]\n",
      " [  1   0   0   0   0   9   0   0   0]]\n"
     ]
    }
   ],
   "source": [
    "# Test data: our own train / test split\n",
    "x_train, x_test, y_train, y_test = train_test_split(X, Y, test_size=0.2)\n",
    "model = LogisticRegression(multi_class='multinomial', solver='lbfgs')\n",
    "model.fit(x_train, y_train)\n",
    "predictions = model.predict(x_test)\n",
    "print(\"Test Accuracy\")\n",
    "testing_accuracy = model.score(x_test, y_test)\n",
    "print(testing_accuracy)\n",
    "print(\"Test Confusion Matrix\")\n",
    "y_pred = convertToClass(predictions, 10)\n",
    "Y_scaled = convertToClass(y_test, 10)\n",
    "confusion_m = confusion_matrix(Y_scaled, y_pred)\n",
    "print(confusion_m)"
   ]
  },
  {
   "cell_type": "markdown",
   "metadata": {},
   "source": [
    "# Support Vector Machine, Kernel = rbf"
   ]
  },
  {
   "cell_type": "code",
   "execution_count": 7,
   "metadata": {
    "collapsed": false
   },
   "outputs": [],
   "source": [
    "# Data Cleaning\n",
    "le = LabelEncoder()\n",
    "X = pd.DataFrame({key : frame[key] for key in categorical_columns + non_categorical_columns})\n",
    "X[categorical_columns] = X[categorical_columns].apply(lambda col : le.fit_transform(col))\n",
    "\n",
    "for x in non_categorical_columns:\n",
    "    X[x] = X[x].fillna(X[x].mean())\n",
    "\n",
    "indices = [X.columns.get_loc(c) for c in categorical_columns]\n",
    "ohe = OneHotEncoder(categorical_features=indices, sparse=False)\n",
    "X = ohe.fit_transform(X)\n",
    "Y = pd.DataFrame({\"y\" : frame[\"Score\"]})\n",
    "k = 10\n",
    "Y = convertToClass(Y, k)"
   ]
  },
  {
   "cell_type": "code",
   "execution_count": 8,
   "metadata": {
    "collapsed": false
   },
   "outputs": [
    {
     "name": "stderr",
     "output_type": "stream",
     "text": [
      "//anaconda/lib/python3.5/site-packages/sklearn/utils/validation.py:526: DataConversionWarning: A column-vector y was passed when a 1d array was expected. Please change the shape of y to (n_samples, ), for example using ravel().\n",
      "  y = column_or_1d(y, warn=True)\n"
     ]
    },
    {
     "data": {
      "text/plain": [
       "SVC(C=0.8, cache_size=200, class_weight=None, coef0=0.0,\n",
       "  decision_function_shape=None, degree=3, gamma='auto', kernel='rbf',\n",
       "  max_iter=-1, probability=False, random_state=None, shrinking=True,\n",
       "  tol=0.001, verbose=False)"
      ]
     },
     "execution_count": 8,
     "metadata": {},
     "output_type": "execute_result"
    }
   ],
   "source": [
    "x_train, x_test, y_train, y_test = train_test_split(X, Y, test_size=0.2)\n",
    "clf = SVC(gamma = 'auto', kernel='rbf', C=.8)\n",
    "clf.fit(x_train, y_train)"
   ]
  },
  {
   "cell_type": "code",
   "execution_count": 9,
   "metadata": {
    "collapsed": false
   },
   "outputs": [
    {
     "name": "stdout",
     "output_type": "stream",
     "text": [
      "0.74705164701098\n",
      "[[  0   0   0   0   0   1   0   0   0]\n",
      " [  0   0   0   0   1   6   1   0   0]\n",
      " [  0   0   0   2  10  37   2   0   0]\n",
      " [  0   0   0 159  26  43  12   0   0]\n",
      " [  0   0   0   0 528 100   4   0   0]\n",
      " [  0   0   0   2  44 781   9   0   0]\n",
      " [  0   0   0   0  59  83 368   0   0]\n",
      " [  0   0   0   2  18 113  11   1   0]\n",
      " [  0   0   0   1   5  28   2   0   0]]\n"
     ]
    }
   ],
   "source": [
    "# Training data\n",
    "y_pred = clf.predict(x_train)\n",
    "confusion_m = confusion_matrix(y_train, y_pred)\n",
    "training_accuracy = clf.score(x_train, y_train)\n",
    "print(training_accuracy)\n",
    "print(confusion_m)"
   ]
  },
  {
   "cell_type": "code",
   "execution_count": 10,
   "metadata": {
    "collapsed": false
   },
   "outputs": [
    {
     "name": "stdout",
     "output_type": "stream",
     "text": [
      "0.33495934959349594\n",
      "[[  0   0   0   0   1   0   0   0]\n",
      " [  0   0   0   1  13   2   0   0]\n",
      " [  0   0   0  13  49   2   0   0]\n",
      " [  0   0   4  23 118  10   0   0]\n",
      " [  0   0   5  30 170  10   0   0]\n",
      " [  0   0   1  15  87  12   0   0]\n",
      " [  0   0   1  11  31   2   1   0]\n",
      " [  0   0   0   2   1   0   0   0]]\n"
     ]
    }
   ],
   "source": [
    "# Testing data\n",
    "y_pred = clf.predict(x_test)\n",
    "confusion_m = confusion_matrix(y_test, y_pred)\n",
    "test_accuracy = clf.score(x_test, y_test)\n",
    "print(test_accuracy)\n",
    "print(confusion_m)"
   ]
  },
  {
   "cell_type": "markdown",
   "metadata": {},
   "source": [
    "# Support Vector Machine, Kernel = linear"
   ]
  },
  {
   "cell_type": "code",
   "execution_count": 11,
   "metadata": {
    "collapsed": false
   },
   "outputs": [],
   "source": [
    "# Data Cleaning\n",
    "le = LabelEncoder()\n",
    "X = pd.DataFrame({key : frame[key] for key in categorical_columns + non_categorical_columns})\n",
    "X[categorical_columns] = X[categorical_columns].apply(lambda col : le.fit_transform(col))\n",
    "\n",
    "for x in non_categorical_columns:\n",
    "    X[x] = X[x].fillna(X[x].mean())\n",
    "\n",
    "indices = [X.columns.get_loc(c) for c in categorical_columns]\n",
    "ohe = OneHotEncoder(categorical_features=indices, sparse=False)\n",
    "X = ohe.fit_transform(X)\n",
    "Y = pd.DataFrame({\"y\" : frame[\"Score\"]})\n",
    "k = 10\n",
    "Y = convertToClass(Y, k)"
   ]
  },
  {
   "cell_type": "code",
   "execution_count": 18,
   "metadata": {
    "collapsed": false
   },
   "outputs": [
    {
     "name": "stderr",
     "output_type": "stream",
     "text": [
      "//anaconda/lib/python3.5/site-packages/sklearn/utils/validation.py:526: DataConversionWarning: A column-vector y was passed when a 1d array was expected. Please change the shape of y to (n_samples, ), for example using ravel().\n",
      "  y = column_or_1d(y, warn=True)\n",
      "//anaconda/lib/python3.5/site-packages/sklearn/svm/base.py:220: ConvergenceWarning: Solver terminated early (max_iter=5000).  Consider pre-processing your data with StandardScaler or MinMaxScaler.\n",
      "  % self.max_iter, ConvergenceWarning)\n"
     ]
    },
    {
     "data": {
      "text/plain": [
       "SVC(C=1, cache_size=200, class_weight=None, coef0=0.0,\n",
       "  decision_function_shape=None, degree=3, gamma='auto', kernel='linear',\n",
       "  max_iter=5000, probability=False, random_state=None, shrinking=True,\n",
       "  tol=0.001, verbose=False)"
      ]
     },
     "execution_count": 18,
     "metadata": {},
     "output_type": "execute_result"
    }
   ],
   "source": [
    "x_train, x_test, y_train, y_test = train_test_split(X, Y, test_size=0.2)\n",
    "clf = SVC(gamma = 'auto', kernel='linear', C=1, max_iter=5000)\n",
    "clf.fit(x_train, y_train)"
   ]
  },
  {
   "cell_type": "code",
   "execution_count": 19,
   "metadata": {
    "collapsed": false
   },
   "outputs": [
    {
     "name": "stdout",
     "output_type": "stream",
     "text": [
      "0.26677511183407887\n",
      "[[  0   0   0   0   1   0   0   0   0]\n",
      " [  0   0   0   0   2   4   0   0   0]\n",
      " [  0   5   2   3   4  40   0   0   0]\n",
      " [  1  16   1  20  32 174   0   0   0]\n",
      " [  1  67   2  49  77 431   2   1   0]\n",
      " [ 11  99  10  58 105 556   2   0   0]\n",
      " [  3  48   8  30  80 321   1   1   1]\n",
      " [  2  10   0  11  19 116   0   0   0]\n",
      " [  0   1   0   3   8  20   0   0   0]]\n"
     ]
    }
   ],
   "source": [
    "# Training data\n",
    "y_pred = clf.predict(x_train)\n",
    "confusion_m = confusion_matrix(y_train, y_pred)\n",
    "training_accuracy = clf.score(x_train, y_train)\n",
    "print(training_accuracy)\n",
    "print(confusion_m)"
   ]
  },
  {
   "cell_type": "code",
   "execution_count": 20,
   "metadata": {
    "collapsed": false
   },
   "outputs": [
    {
     "name": "stdout",
     "output_type": "stream",
     "text": [
      "0.2764227642276423\n",
      "[[  0   0   0   0   0   1   0   0   0]\n",
      " [  0   0   0   0   1   1   0   0   0]\n",
      " [  0   0   0   1   1  11   0   0   0]\n",
      " [  0   4   0   7   3  46   0   0   0]\n",
      " [  1  15   2  15  23 101   0   0   0]\n",
      " [  1  18   5  16  31 138   1   0   0]\n",
      " [  4  11   3  10  17  85   2   0   0]\n",
      " [  0   5   0   2   4  22   0   0   0]\n",
      " [  0   1   0   1   0   5   0   0   0]]\n"
     ]
    }
   ],
   "source": [
    "# Testing data\n",
    "y_pred = clf.predict(x_test)\n",
    "confusion_m = confusion_matrix(y_test, y_pred)\n",
    "test_accuracy = clf.score(x_test, y_test)\n",
    "print(test_accuracy)\n",
    "print(confusion_m)"
   ]
  },
  {
   "cell_type": "markdown",
   "metadata": {},
   "source": [
    "# Decision Trees"
   ]
  },
  {
   "cell_type": "code",
   "execution_count": 73,
   "metadata": {
    "collapsed": false
   },
   "outputs": [],
   "source": [
    "# Data Cleaning\n",
    "le = LabelEncoder()\n",
    "X = pd.DataFrame({key : frame[key] for key in categorical_columns + non_categorical_columns})\n",
    "X[categorical_columns] = X[categorical_columns].apply(lambda col : le.fit_transform(col))\n",
    "\n",
    "for x in non_categorical_columns:\n",
    "    X[x] = X[x].fillna(X[x].mean())\n",
    "\n",
    "indices = [X.columns.get_loc(c) for c in categorical_columns]\n",
    "ohe = OneHotEncoder(categorical_features=indices, sparse=False)\n",
    "X = ohe.fit_transform(X)\n",
    "Y = pd.DataFrame({\"y\" : frame[\"Score\"]})\n",
    "k = 10\n",
    "Y = convertToClass(Y, k)"
   ]
  },
  {
   "cell_type": "code",
   "execution_count": 74,
   "metadata": {
    "collapsed": false
   },
   "outputs": [
    {
     "data": {
      "text/plain": [
       "DecisionTreeClassifier(class_weight=None, criterion='gini', max_depth=8,\n",
       "            max_features=None, max_leaf_nodes=None,\n",
       "            min_impurity_split=1e-07, min_samples_leaf=1,\n",
       "            min_samples_split=2, min_weight_fraction_leaf=0.0,\n",
       "            presort=False, random_state=None, splitter='best')"
      ]
     },
     "execution_count": 74,
     "metadata": {},
     "output_type": "execute_result"
    }
   ],
   "source": [
    "x_train, x_test, y_train, y_test = train_test_split(X, Y, test_size=0.2)\n",
    "clf = tree.DecisionTreeClassifier(max_depth = 8)\n",
    "clf.fit(x_train, y_train)"
   ]
  },
  {
   "cell_type": "code",
   "execution_count": 75,
   "metadata": {
    "collapsed": false
   },
   "outputs": [
    {
     "name": "stdout",
     "output_type": "stream",
     "text": [
      "0.45099633997559985\n",
      "[[  0   0   0   0   0   1   0   0   0]\n",
      " [  0   0   0   0   0   5   0   0   0]\n",
      " [  0   0   2   1   7  40   2   0   0]\n",
      " [  0   0   0  17  38 190   7   0   0]\n",
      " [  0   0   0   0 182 415  25   3   0]\n",
      " [  0   0   1   0  49 765  30   1   0]\n",
      " [  0   0   0   0  49 322 123   2   0]\n",
      " [  0   0   0   0  14 113   6  19   0]\n",
      " [  0   0   0   0   3  26   0   0   1]]\n"
     ]
    }
   ],
   "source": [
    "# Training data\n",
    "y_pred = clf.predict(x_train)\n",
    "confusion_m = confusion_matrix(y_train, y_pred)\n",
    "training_accuracy = clf.score(x_train, y_train)\n",
    "print(training_accuracy)\n",
    "print(confusion_m)"
   ]
  },
  {
   "cell_type": "code",
   "execution_count": 76,
   "metadata": {
    "collapsed": false
   },
   "outputs": [
    {
     "name": "stdout",
     "output_type": "stream",
     "text": [
      "0.3235772357723577\n",
      "[[  0   0   0   0   0   1   0   0   0]\n",
      " [  0   0   0   0   0   2   1   0   0]\n",
      " [  0   0   0   1   4  10   0   0   0]\n",
      " [  0   0   0   0  13  35   3   1   0]\n",
      " [  0   0   0   2  35 110  14   1   0]\n",
      " [  0   0   0   0  34 156  14   1   0]\n",
      " [  0   0   0   0  17 103   7   2   0]\n",
      " [  0   0   0   0   4  30   4   1   0]\n",
      " [  0   0   0   0   2   6   1   0   0]]\n"
     ]
    }
   ],
   "source": [
    "# Testing data\n",
    "y_pred = clf.predict(x_test)\n",
    "confusion_m = confusion_matrix(y_test, y_pred)\n",
    "test_accuracy = clf.score(x_test, y_test)\n",
    "print(test_accuracy)\n",
    "print(confusion_m)"
   ]
  },
  {
   "cell_type": "markdown",
   "metadata": {},
   "source": [
    "# Linear Discriminant Analysis"
   ]
  },
  {
   "cell_type": "code",
   "execution_count": 136,
   "metadata": {
    "collapsed": false
   },
   "outputs": [],
   "source": [
    "# Data Cleaning\n",
    "le = LabelEncoder()\n",
    "X = pd.DataFrame({key : frame[key] for key in categorical_columns + non_categorical_columns})\n",
    "X[categorical_columns] = X[categorical_columns].apply(lambda col : le.fit_transform(col))\n",
    "\n",
    "for x in non_categorical_columns:\n",
    "    X[x] = X[x].fillna(X[x].mean())\n",
    "\n",
    "indices = [X.columns.get_loc(c) for c in categorical_columns]\n",
    "ohe = OneHotEncoder(categorical_features=indices, sparse=False)\n",
    "X = ohe.fit_transform(X)\n",
    "Y = pd.DataFrame({\"y\" : frame[\"Score\"]})\n",
    "k = 10\n",
    "Y = convertToClass(Y, k)"
   ]
  },
  {
   "cell_type": "code",
   "execution_count": 137,
   "metadata": {
    "collapsed": false
   },
   "outputs": [
    {
     "name": "stderr",
     "output_type": "stream",
     "text": [
      "//anaconda/lib/python3.5/site-packages/sklearn/utils/validation.py:526: DataConversionWarning: A column-vector y was passed when a 1d array was expected. Please change the shape of y to (n_samples, ), for example using ravel().\n",
      "  y = column_or_1d(y, warn=True)\n",
      "//anaconda/lib/python3.5/site-packages/sklearn/discriminant_analysis.py:455: UserWarning: The priors do not sum to 1. Renormalizing\n",
      "  UserWarning)\n",
      "//anaconda/lib/python3.5/site-packages/sklearn/discriminant_analysis.py:387: UserWarning: Variables are collinear.\n",
      "  warnings.warn(\"Variables are collinear.\")\n"
     ]
    },
    {
     "data": {
      "text/plain": [
       "LinearDiscriminantAnalysis(n_components=None, priors=None, shrinkage=None,\n",
       "              solver='svd', store_covariance=False, tol=0.0001)"
      ]
     },
     "execution_count": 137,
     "metadata": {},
     "output_type": "execute_result"
    }
   ],
   "source": [
    "x_train, x_test, y_train, y_test = train_test_split(X, Y, test_size=0.2)\n",
    "clf = LinearDiscriminantAnalysis()\n",
    "clf.fit(x_train, y_train)"
   ]
  },
  {
   "cell_type": "code",
   "execution_count": 138,
   "metadata": {
    "collapsed": false
   },
   "outputs": [
    {
     "name": "stdout",
     "output_type": "stream",
     "text": [
      "0.6274908499389996\n",
      "[[  1   0   0   0   0   1   0   0   0]\n",
      " [  0   5   0   0   0   2   1   0   0]\n",
      " [  0   0  27   0   7  14   4   0   0]\n",
      " [  0   0   0 117  22  70  26   2   0]\n",
      " [  0   1  10  21 342 172  69   6   2]\n",
      " [  0   0   9  18  71 662  81   7   3]\n",
      " [  0   0   4  15  35 132 315   9   2]\n",
      " [  0   0   2   3  10  42  26  60   1]\n",
      " [  0   0   0   1   1  10   4   0  14]]\n"
     ]
    }
   ],
   "source": [
    "# Training data\n",
    "y_pred = clf.predict(x_train)\n",
    "confusion_m = confusion_matrix(y_train, y_pred)\n",
    "training_accuracy = clf.score(x_train, y_train)\n",
    "print(training_accuracy)\n",
    "print(confusion_m)"
   ]
  },
  {
   "cell_type": "code",
   "execution_count": 139,
   "metadata": {
    "collapsed": false
   },
   "outputs": [
    {
     "name": "stdout",
     "output_type": "stream",
     "text": [
      "0.26666666666666666\n",
      "[[  0   0   0   0   0   0   0   0]\n",
      " [  0   0   1   3   9   0   2   0]\n",
      " [  1   2   5   9  37  10   3   0]\n",
      " [  0   0   5  27 106  20   5   1]\n",
      " [  1   5   7  32 113  34   6   2]\n",
      " [  0   3   1  14  75  18   2   0]\n",
      " [  0   0   0   7  29   9   1   1]\n",
      " [  0   1   0   0   7   1   0   0]]\n"
     ]
    }
   ],
   "source": [
    "# Testing data\n",
    "y_pred = clf.predict(x_test)\n",
    "confusion_m = confusion_matrix(y_test, y_pred)\n",
    "test_accuracy = clf.score(x_test, y_test)\n",
    "print(test_accuracy)\n",
    "print(confusion_m)"
   ]
  },
  {
   "cell_type": "markdown",
   "metadata": {},
   "source": [
    "# QDA"
   ]
  },
  {
   "cell_type": "code",
   "execution_count": 141,
   "metadata": {
    "collapsed": false
   },
   "outputs": [],
   "source": [
    "# Data Cleaning\n",
    "le = LabelEncoder()\n",
    "X = pd.DataFrame({key : frame[key] for key in categorical_columns + non_categorical_columns})\n",
    "X[categorical_columns] = X[categorical_columns].apply(lambda col : le.fit_transform(col))\n",
    "\n",
    "for x in non_categorical_columns:\n",
    "    X[x] = X[x].fillna(X[x].mean())\n",
    "\n",
    "indices = [X.columns.get_loc(c) for c in categorical_columns]\n",
    "ohe = OneHotEncoder(categorical_features=indices, sparse=False)\n",
    "X = ohe.fit_transform(X)\n",
    "Y = pd.DataFrame({\"y\" : frame[\"Score\"]})\n",
    "k = 10\n",
    "Y = convertToClass(Y, k)"
   ]
  },
  {
   "cell_type": "code",
   "execution_count": 142,
   "metadata": {
    "collapsed": false
   },
   "outputs": [
    {
     "name": "stderr",
     "output_type": "stream",
     "text": [
      "//anaconda/lib/python3.5/site-packages/sklearn/utils/validation.py:526: DataConversionWarning: A column-vector y was passed when a 1d array was expected. Please change the shape of y to (n_samples, ), for example using ravel().\n",
      "  y = column_or_1d(y, warn=True)\n",
      "//anaconda/lib/python3.5/site-packages/sklearn/discriminant_analysis.py:695: UserWarning: Variables are collinear\n",
      "  warnings.warn(\"Variables are collinear\")\n"
     ]
    },
    {
     "data": {
      "text/plain": [
       "QuadraticDiscriminantAnalysis(priors=None, reg_param=0.0,\n",
       "               store_covariances=False, tol=0.0001)"
      ]
     },
     "execution_count": 142,
     "metadata": {},
     "output_type": "execute_result"
    }
   ],
   "source": [
    "x_train, x_test, y_train, y_test = train_test_split(X, Y, test_size=0.2)\n",
    "clf = QuadraticDiscriminantAnalysis()\n",
    "clf.fit(x_train, y_train)"
   ]
  },
  {
   "cell_type": "code",
   "execution_count": 143,
   "metadata": {
    "collapsed": false
   },
   "outputs": [
    {
     "name": "stdout",
     "output_type": "stream",
     "text": [
      "0.14355429036193573\n",
      "[[  2   0   0   0   0   0   0   0   0]\n",
      " [  0   1   5   1   0   1   0   0   0]\n",
      " [  0   0  43   0   2   4   2   1   0]\n",
      " [  0   0 169  12   9  33  19   4   0]\n",
      " [  0   0 423   7  62  93  28   9   3]\n",
      " [  0   0 593   6  45 138  46  23   0]\n",
      " [  0   0 287   2  24  80  80  16   1]\n",
      " [  0   0  82   2  12  32  11  14   1]\n",
      " [  0   0  17   2   1  10   0   0   1]]\n"
     ]
    }
   ],
   "source": [
    "# Training data\n",
    "y_pred = clf.predict(x_train)\n",
    "confusion_m = confusion_matrix(y_train, y_pred)\n",
    "training_accuracy = clf.score(x_train, y_train)\n",
    "print(training_accuracy)\n",
    "print(confusion_m)"
   ]
  },
  {
   "cell_type": "code",
   "execution_count": 144,
   "metadata": {
    "collapsed": false
   },
   "outputs": [
    {
     "name": "stdout",
     "output_type": "stream",
     "text": [
      "0.0991869918699187\n",
      "[[  0   0   0   0   0   0   0   0]\n",
      " [  0   7   0   2   3   3   0   0]\n",
      " [  0  32   0   5  16   3   2   0]\n",
      " [  0 120   0  10  23   7   2   0]\n",
      " [  0 132   5   9  33  16   5   0]\n",
      " [  1  90   0  10  22  11   1   0]\n",
      " [  0  25   0   0   9   3   0   0]\n",
      " [  0   4   1   0   3   0   0   0]]\n"
     ]
    }
   ],
   "source": [
    "# Testing data\n",
    "y_pred = clf.predict(x_test)\n",
    "confusion_m = confusion_matrix(y_test, y_pred)\n",
    "test_accuracy = clf.score(x_test, y_test)\n",
    "print(test_accuracy)\n",
    "print(confusion_m)"
   ]
  },
  {
   "cell_type": "markdown",
   "metadata": {},
   "source": [
    "# K Nearest Neighbors"
   ]
  },
  {
   "cell_type": "code",
   "execution_count": 119,
   "metadata": {
    "collapsed": false
   },
   "outputs": [],
   "source": [
    "# Data Cleaning\n",
    "le = LabelEncoder()\n",
    "X = pd.DataFrame({key : frame[key] for key in categorical_columns + non_categorical_columns})\n",
    "X[categorical_columns] = X[categorical_columns].apply(lambda col : le.fit_transform(col))\n",
    "\n",
    "for x in non_categorical_columns:\n",
    "    X[x] = X[x].fillna(X[x].mean())\n",
    "\n",
    "indices = [X.columns.get_loc(c) for c in categorical_columns]\n",
    "ohe = OneHotEncoder(categorical_features=indices, sparse=False)\n",
    "X = ohe.fit_transform(X)\n",
    "Y = pd.DataFrame({\"y\" : frame[\"Score\"]})\n",
    "k = 10\n",
    "Y = convertToClass(Y, k)"
   ]
  },
  {
   "cell_type": "code",
   "execution_count": 120,
   "metadata": {
    "collapsed": false
   },
   "outputs": [
    {
     "name": "stderr",
     "output_type": "stream",
     "text": [
      "//anaconda/lib/python3.5/site-packages/ipykernel/__main__.py:3: DataConversionWarning: A column-vector y was passed when a 1d array was expected. Please change the shape of y to (n_samples, ), for example using ravel().\n",
      "  app.launch_new_instance()\n"
     ]
    },
    {
     "data": {
      "text/plain": [
       "KNeighborsClassifier(algorithm='auto', leaf_size=30, metric='minkowski',\n",
       "           metric_params=None, n_jobs=1, n_neighbors=30, p=2,\n",
       "           weights='uniform')"
      ]
     },
     "execution_count": 120,
     "metadata": {},
     "output_type": "execute_result"
    }
   ],
   "source": [
    "x_train, x_test, y_train, y_test = train_test_split(X, Y, test_size=0.2)\n",
    "neigh = KNeighborsClassifier(n_neighbors=30)\n",
    "neigh.fit(x_train, y_train)"
   ]
  },
  {
   "cell_type": "code",
   "execution_count": 121,
   "metadata": {
    "collapsed": false
   },
   "outputs": [
    {
     "name": "stdout",
     "output_type": "stream",
     "text": [
      "0.379015860105734\n",
      "[[  0   0   0   0   0   2   0   0   0]\n",
      " [  0   0   0   0   2   2   1   0   0]\n",
      " [  0   0   0   1  23  27   3   0   0]\n",
      " [  0   0   0   7  61 166   9   0   0]\n",
      " [  0   0   0   6 219 380  20   0   0]\n",
      " [  0   0   0   7 160 647  36   0   0]\n",
      " [  0   0   0   7 121 308  59   0   0]\n",
      " [  0   0   0   4  35 104  11   0   0]\n",
      " [  0   0   0   0   8  22   1   0   0]]\n"
     ]
    }
   ],
   "source": [
    "# Training data\n",
    "y_pred = neigh.predict(x_train)\n",
    "confusion_m = confusion_matrix(y_train, y_pred)\n",
    "training_accuracy = neigh.score(x_train, y_train)\n",
    "print(training_accuracy)\n",
    "print(confusion_m)"
   ]
  },
  {
   "cell_type": "code",
   "execution_count": 122,
   "metadata": {
    "collapsed": false
   },
   "outputs": [
    {
     "name": "stdout",
     "output_type": "stream",
     "text": [
      "0.31382113821138213\n",
      "[[  0   0   0   0   3   0   0   0]\n",
      " [  0   0   0   6   7   0   0   0]\n",
      " [  0   0   0  11  45   5   0   0]\n",
      " [  0   0   5  40 107  10   0   0]\n",
      " [  0   0   2  39 147  13   0   0]\n",
      " [  0   0   1  25  98   6   0   0]\n",
      " [  0   0   1   7  26   3   0   0]\n",
      " [  0   0   0   1   7   0   0   0]]\n"
     ]
    }
   ],
   "source": [
    "# Testing data\n",
    "y_pred = neigh.predict(x_test)\n",
    "confusion_m = confusion_matrix(y_test, y_pred)\n",
    "test_accuracy = neigh.score(x_test, y_test)\n",
    "print(test_accuracy)\n",
    "print(confusion_m)"
   ]
  },
  {
   "cell_type": "markdown",
   "metadata": {},
   "source": [
    "# PCA"
   ]
  },
  {
   "cell_type": "code",
   "execution_count": 77,
   "metadata": {
    "collapsed": false
   },
   "outputs": [],
   "source": [
    "# Data Cleaning\n",
    "le = LabelEncoder()\n",
    "X = pd.DataFrame({key : frame[key] for key in categorical_columns + non_categorical_columns})\n",
    "X[categorical_columns] = X[categorical_columns].apply(lambda col : le.fit_transform(col))\n",
    "\n",
    "for x in non_categorical_columns:\n",
    "    X[x] = X[x].fillna(X[x].mean())\n",
    "\n",
    "indices = [X.columns.get_loc(c) for c in categorical_columns]\n",
    "ohe = OneHotEncoder(categorical_features=indices, sparse=False)\n",
    "X = ohe.fit_transform(X)\n",
    "Y = pd.DataFrame({\"y\" : frame[\"Score\"]})\n",
    "k = 10\n",
    "Y = convertToClass(Y, k)"
   ]
  },
  {
   "cell_type": "code",
   "execution_count": 78,
   "metadata": {
    "collapsed": false
   },
   "outputs": [],
   "source": [
    "x_train, x_test, y_train, y_test = train_test_split(X, Y, test_size=0.2)\n",
    "pca = PCA(n_components=5)\n",
    "X_new = pca.fit_transform(x_train)"
   ]
  },
  {
   "cell_type": "code",
   "execution_count": 79,
   "metadata": {
    "collapsed": false
   },
   "outputs": [
    {
     "name": "stderr",
     "output_type": "stream",
     "text": [
      "//anaconda/lib/python3.5/site-packages/sklearn/utils/validation.py:526: DataConversionWarning: A column-vector y was passed when a 1d array was expected. Please change the shape of y to (n_samples, ), for example using ravel().\n",
      "  y = column_or_1d(y, warn=True)\n"
     ]
    },
    {
     "data": {
      "text/plain": [
       "SVC(C=0.8, cache_size=200, class_weight=None, coef0=0.0,\n",
       "  decision_function_shape=None, degree=3, gamma='auto', kernel='rbf',\n",
       "  max_iter=-1, probability=False, random_state=None, shrinking=True,\n",
       "  tol=0.001, verbose=False)"
      ]
     },
     "execution_count": 79,
     "metadata": {},
     "output_type": "execute_result"
    }
   ],
   "source": [
    "clf = SVC(gamma = 'auto', kernel='rbf', C=.8)\n",
    "clf.fit(X_new, y_train)"
   ]
  },
  {
   "cell_type": "code",
   "execution_count": 82,
   "metadata": {
    "collapsed": false
   },
   "outputs": [
    {
     "name": "stdout",
     "output_type": "stream",
     "text": [
      "0.741764945099634\n",
      "[[  0   0   0   0   0   2   0   0   0]\n",
      " [  0   0   0   0   0   6   0   0   0]\n",
      " [  0   0   0   2   2  48   3   0   0]\n",
      " [  0   0   0 158  19  69   6   0   0]\n",
      " [  0   0   0   0 486 142   3   0   0]\n",
      " [  0   0   0   1   4 841   3   0   0]\n",
      " [  0   0   0   0  31 126 335   0   0]\n",
      " [  0   0   0   4  11 113   8   4   0]\n",
      " [  0   0   0   1   3  28   0   0   0]]\n"
     ]
    }
   ],
   "source": [
    "# Training data\n",
    "y_pred = clf.predict(X_new)\n",
    "confusion_m = confusion_matrix(y_train, y_pred)\n",
    "training_accuracy = clf.score(X_new, y_train)\n",
    "print(training_accuracy)\n",
    "print(confusion_m)"
   ]
  },
  {
   "cell_type": "code",
   "execution_count": 84,
   "metadata": {
    "collapsed": false
   },
   "outputs": [
    {
     "name": "stdout",
     "output_type": "stream",
     "text": [
      "0.3203252032520325\n",
      "[[  0   0   0   1   0   1   0   0]\n",
      " [  0   0   0   3   9   0   0   0]\n",
      " [  0   0   0   6  42   4   0   0]\n",
      " [  0   0   2  10 136   8   0   0]\n",
      " [  0   0   3  17 174   8   0   0]\n",
      " [  0   0   2   3 115  13   0   0]\n",
      " [  0   0   2   1  45   3   0   0]\n",
      " [  0   0   0   1   5   1   0   0]]\n"
     ]
    }
   ],
   "source": [
    "# Testing data\n",
    "X_new_test = pca.transform(x_test)\n",
    "y_pred = clf.predict(X_new_test)\n",
    "confusion_m = confusion_matrix(y_test, y_pred)\n",
    "test_accuracy = clf.score(X_new_test, y_test)\n",
    "print(test_accuracy)\n",
    "print(confusion_m)"
   ]
  },
  {
   "cell_type": "code",
   "execution_count": null,
   "metadata": {
    "collapsed": true
   },
   "outputs": [],
   "source": []
  }
 ],
 "metadata": {
  "anaconda-cloud": {},
  "kernelspec": {
   "display_name": "Python [default]",
   "language": "python",
   "name": "python3"
  },
  "language_info": {
   "codemirror_mode": {
    "name": "ipython",
    "version": 3
   },
   "file_extension": ".py",
   "mimetype": "text/x-python",
   "name": "python",
   "nbconvert_exporter": "python",
   "pygments_lexer": "ipython3",
   "version": "3.5.2"
  }
 },
 "nbformat": 4,
 "nbformat_minor": 1
}
