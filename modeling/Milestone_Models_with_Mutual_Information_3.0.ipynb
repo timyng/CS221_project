{
 "cells": [
  {
   "cell_type": "code",
   "execution_count": 1,
   "metadata": {},
   "outputs": [],
   "source": [
    "import numpy as np\n",
    "import pandas as pd\n",
    "import matplotlib.pyplot as plt\n",
    "from sklearn.metrics import mean_squared_error\n",
    "from sklearn.metrics import confusion_matrix\n",
    "from sklearn.model_selection import cross_val_score\n",
    "from sklearn.model_selection import train_test_split\n",
    "from sklearn import preprocessing\n",
    "from sklearn.preprocessing import LabelEncoder\n",
    "from sklearn.preprocessing import OneHotEncoder\n",
    "from sklearn.linear_model import LinearRegression\n",
    "from sklearn import linear_model\n",
    "from sklearn.linear_model import LogisticRegression\n",
    "from sklearn.svm import SVC\n",
    "from sklearn import tree\n",
    "from sklearn.discriminant_analysis import LinearDiscriminantAnalysis\n",
    "from sklearn.discriminant_analysis import QuadraticDiscriminantAnalysis\n",
    "from sklearn.neighbors import KNeighborsClassifier\n",
    "from sklearn.decomposition import PCA\n",
    "from sklearn.linear_model import Ridge\n",
    "from sklearn.svm import SVR\n",
    "from load_data import *"
   ]
  },
  {
   "cell_type": "markdown",
   "metadata": {},
   "source": [
    "# Data Exploration"
   ]
  },
  {
   "cell_type": "code",
   "execution_count": 2,
   "metadata": {},
   "outputs": [
    {
     "data": {
      "text/plain": [
       "Index(['name', 'domain', 'year founded', 'industry', 'size range', 'city',\n",
       "       ' state', 'country', ' linkedin url', 'current employee estimate',\n",
       "       'total employee estimate', 'Score', 'reviews', 'salaries', 'interviews',\n",
       "       'KMT', 'market_cap', 'enterprise_value', 'trailing_pe', 'forward_pe',\n",
       "       'peg_ratio_5', 'price_sales', 'price_book', 'enterprise_value_revenue',\n",
       "       'enterprise_value_ebitda', 'profit_margin', 'operating_margin',\n",
       "       'return_on_assets', 'return_on_equity', 'revenue', 'revenue_per_share',\n",
       "       'quarterly_revenue_share', 'gross_profit', 'ebitda',\n",
       "       'net_income_avi_to_common', 'diluted_eps', 'quarterly_earnings_growth',\n",
       "       'total_cash', 'total_cash_per_share', 'total_dept',\n",
       "       'total_dept_per_equity', 'operating_cash_flow',\n",
       "       'leveraged_free_cash_flow', 'stock_beta_3y', 'stock 52_week',\n",
       "       'stock_sp500_52_week', 'stock_52_week_high', 'stock_52_week_low'],\n",
       "      dtype='object')"
      ]
     },
     "execution_count": 2,
     "metadata": {},
     "output_type": "execute_result"
    }
   ],
   "source": [
    "data_path = \"../data/with_stock_data.csv\"\n",
    "frame = pd.read_csv(data_path)\n",
    "frame.columns"
   ]
  },
  {
   "cell_type": "code",
   "execution_count": 3,
   "metadata": {},
   "outputs": [
    {
     "data": {
      "image/png": "[encoded data removed]",
      "text/plain": [
       "<Figure size 432x288 with 1 Axes>"
      ]
     },
     "metadata": {
      "needs_background": "light"
     },
     "output_type": "display_data"
    }
   ],
   "source": [
    "frame['Score']\n",
    "plt.hist(frame['Score'], alpha=0.3)\n",
    "plt.show()"
   ]
  },
  {
   "cell_type": "markdown",
   "metadata": {},
   "source": [
    "# Feature Selection"
   ]
  },
  {
   "cell_type": "code",
   "execution_count": 4,
   "metadata": {},
   "outputs": [],
   "source": [
    "# Pick Features\n",
    "# non_categorical_columns = ['year founded', 'current employee estimate', 'total employee estimate', 'reviews', 'salaries', 'interviews', 'market_cap', 'enterprise_value', 'trailing_pe', 'forward_pe', 'peg_ratio_5', 'price_sales', 'price_book', 'enterprise_value_revenue', 'enterprise_value_ebitda', 'profit_margin', 'operating_margin', 'return_on_assets', 'return_on_equity', 'revenue', 'revenue_per_share', 'quarterly_revenue_share', 'gross_profit', 'ebitda', 'net_income_avi_to_common', 'diluted_eps', 'quarterly_earnings_growth', 'total_cash', 'total_cash_per_share', 'total_dept', 'total_dept_per_equity', 'operating_cash_flow', 'leveraged_free_cash_flow', 'stock_beta_3y', 'stock 52_week', 'stock_sp500_52_week', 'stock_52_week_high', 'stock_52_week_low']\n",
    "# categorical_columns = ['industry', 'size range', 'city', ' state', 'country']\n",
    "non_categorical_columns = ['trailing_pe', 'leveraged_free_cash_flow', 'operating_cash_flow', 'total_dept_per_equity', 'ebitda', 'net_income_avi_to_common', 'forward_pe', 'total_cash']\n",
    "categorical_columns = ['city']"
   ]
  },
  {
   "cell_type": "code",
   "execution_count": 5,
   "metadata": {},
   "outputs": [],
   "source": [
    "x_train, y_train, x_test, y_test, x_test_unseen, y_test_unseen = load_and_clean(non_categorical_columns, categorical_columns)"
   ]
  },
  {
   "cell_type": "markdown",
   "metadata": {},
   "source": [
    "# General Functions"
   ]
  },
  {
   "cell_type": "code",
   "execution_count": 6,
   "metadata": {},
   "outputs": [],
   "source": [
    "def convertToClass(Y, k):\n",
    "    return np.apply_along_axis(lambda elem : np.round(elem * k / 5), 0, Y)\n",
    "\n",
    "def evaluateRegressionModel(model, x, y):\n",
    "    y_pred = np.clip(model.predict(x), 0, 5).flatten()\n",
    "    \n",
    "    # MSE\n",
    "    print(\"Mean Square Error:\")\n",
    "    mse = mean_squared_error(y, y_pred)\n",
    "    print(mse)\n",
    "    \n",
    "    # Accuracy\n",
    "    print(\"Accuracy:\")\n",
    "    accuracy = sum(np.abs(y_pred - y.values.flatten()) <  0.25)/ y.shape[0]\n",
    "    print(accuracy)\n",
    "    \n",
    "    # Confusion matrix\n",
    "    y_pred = convertToClass(y_pred, 10)\n",
    "    y_actual = convertToClass(y, 10)\n",
    "    confusion_m = confusion_matrix(y_actual, y_pred)\n",
    "    print(\"Confusion Matrix:\")\n",
    "    print(confusion_m)\n",
    "    return (mse, accuracy, confusion_m)\n",
    "\n",
    "def evaluateClassificationModel(model, x, y):\n",
    "    y_pred = model.predict(x)\n",
    "    confusion_m = confusion_matrix(y, y_pred)\n",
    "    accuracy = model.score(x, y)\n",
    "    print(\"Accuracy:\")\n",
    "    print(accuracy)\n",
    "    print(\"Confusion Matrix:\")\n",
    "    print(confusion_m)\n",
    "    return (accuracy, confusion_m)"
   ]
  },
  {
   "cell_type": "markdown",
   "metadata": {},
   "source": [
    "# REGRESSION MODEL SECTION"
   ]
  },
  {
   "cell_type": "markdown",
   "metadata": {},
   "source": [
    "# Linear Regression (L1 Regularization)"
   ]
  },
  {
   "cell_type": "code",
   "execution_count": 7,
   "metadata": {},
   "outputs": [
    {
     "data": {
      "text/plain": [
       "Lasso(alpha=0.1, copy_X=True, fit_intercept=True, max_iter=1000,\n",
       "      normalize=False, positive=False, precompute=False, random_state=None,\n",
       "      selection='cyclic', tol=0.0001, warm_start=False)"
      ]
     },
     "execution_count": 7,
     "metadata": {},
     "output_type": "execute_result"
    }
   ],
   "source": [
    "linRegL1 = linear_model.Lasso(alpha=0.1, normalize=False)\n",
    "linRegL1.fit(x_train, y_train)"
   ]
  },
  {
   "cell_type": "code",
   "execution_count": 8,
   "metadata": {},
   "outputs": [
    {
     "name": "stdout",
     "output_type": "stream",
     "text": [
      "ON TRAINING DATA:\n",
      "Mean Square Error:\n",
      "0.32984975157292884\n",
      "Accuracy:\n",
      "0.35339568930459536\n",
      "Confusion Matrix:\n",
      "[[  0   0   0   0   0   1   0   0   0]\n",
      " [  0   0   0   0   0   5   0   0   0]\n",
      " [  0   0   0   0   0  51   0   0   0]\n",
      " [  0   0   0   0   1 245   0   0   0]\n",
      " [  0   0   0   0   3 631   1   0   0]\n",
      " [  0   0   0   0   2 844   0   0   0]\n",
      " [  0   0   0   0   0 489   3   0   0]\n",
      " [  0   0   0   0   0 149   1   0   0]\n",
      " [  0   0   0   0   0  33   0   0   0]]\n"
     ]
    }
   ],
   "source": [
    "# Training Data\n",
    "print(\"ON TRAINING DATA:\")\n",
    "mse, accuracy, confusion_m = evaluateRegressionModel(linRegL1, x_train, y_train)"
   ]
  },
  {
   "cell_type": "code",
   "execution_count": 9,
   "metadata": {},
   "outputs": [
    {
     "name": "stdout",
     "output_type": "stream",
     "text": [
      "ON TEST DATA:\n",
      "Mean Square Error:\n",
      "0.3688318704188394\n",
      "Accuracy:\n",
      "0.34186046511627904\n",
      "Confusion Matrix:\n",
      "[[  0   0   0   0   2   0   0   0]\n",
      " [  0   0   0   0   9   0   0   0]\n",
      " [  0   0   0   0  42   0   0   0]\n",
      " [  0   0   0   0 108   0   0   0]\n",
      " [  0   0   0   0 138   0   0   0]\n",
      " [  0   0   0   2  92   1   0   0]\n",
      " [  0   0   0   1  30   0   0   0]\n",
      " [  0   0   0   0   5   0   0   0]]\n"
     ]
    }
   ],
   "source": [
    "# ON TEST DATA\n",
    "print(\"ON TEST DATA:\")\n",
    "mse, accuracy, confusion_m = evaluateRegressionModel(linRegL1, x_test, y_test)"
   ]
  },
  {
   "cell_type": "markdown",
   "metadata": {},
   "source": [
    "# Linear Regression (L2 Regularization)"
   ]
  },
  {
   "cell_type": "code",
   "execution_count": 10,
   "metadata": {},
   "outputs": [
    {
     "name": "stderr",
     "output_type": "stream",
     "text": [
      "/Library/Frameworks/Python.framework/Versions/3.7/lib/python3.7/site-packages/sklearn/linear_model/ridge.py:147: LinAlgWarning: Ill-conditioned matrix (rcond=5.28852e-24): result may not be accurate.\n",
      "  overwrite_a=True).T\n"
     ]
    },
    {
     "data": {
      "text/plain": [
       "Ridge(alpha=1.0, copy_X=True, fit_intercept=True, max_iter=None,\n",
       "      normalize=False, random_state=None, solver='auto', tol=0.001)"
      ]
     },
     "execution_count": 10,
     "metadata": {},
     "output_type": "execute_result"
    }
   ],
   "source": [
    "# Modeling\n",
    "linRegL2 = Ridge(alpha=1.0, normalize=False)\n",
    "linRegL2.fit(x_train, y_train)"
   ]
  },
  {
   "cell_type": "code",
   "execution_count": 11,
   "metadata": {},
   "outputs": [
    {
     "name": "stdout",
     "output_type": "stream",
     "text": [
      "ON TRAINING DATA:\n",
      "Mean Square Error:\n",
      "0.2145921414867666\n",
      "Accuracy:\n",
      "0.4631964213094754\n",
      "Confusion Matrix:\n",
      "[[  0   0   0   1   0   0   0   0   0]\n",
      " [  0   0   0   3   1   1   0   0   0]\n",
      " [  0   0   0   8  24  19   0   0   0]\n",
      " [  0   0   0   4 133 106   3   0   0]\n",
      " [  0   0   0   5 247 376   7   0   0]\n",
      " [  0   0   0   0  77 745  24   0   0]\n",
      " [  0   0   0   0  16 417  59   0   0]\n",
      " [  0   0   0   0   5  82  63   0   0]\n",
      " [  0   0   0   0   1  14  18   0   0]]\n"
     ]
    }
   ],
   "source": [
    "# Training Data\n",
    "print(\"ON TRAINING DATA:\")\n",
    "mse, accuracy, confusion_m = evaluateRegressionModel(linRegL2, x_train, y_train)"
   ]
  },
  {
   "cell_type": "code",
   "execution_count": 12,
   "metadata": {},
   "outputs": [
    {
     "name": "stdout",
     "output_type": "stream",
     "text": [
      "ON TEST DATA:\n",
      "Mean Square Error:\n",
      "0.3946386763878807\n",
      "Accuracy:\n",
      "0.3511627906976744\n",
      "Confusion Matrix:\n",
      "[[  0   0   0   0   2   0   0   0]\n",
      " [  0   0   0   0   9   0   0   0]\n",
      " [  0   0   1   7  31   3   0   0]\n",
      " [  0   0   0  21  81   6   0   0]\n",
      " [  0   0   0  14 120   4   0   0]\n",
      " [  0   0   1  14  72   7   1   0]\n",
      " [  0   0   0   7  22   2   0   0]\n",
      " [  0   0   0   0   5   0   0   0]]\n"
     ]
    }
   ],
   "source": [
    "# ON TEST DATA\n",
    "print(\"ON TEST DATA:\")\n",
    "mse, accuracy, confusion_m = evaluateRegressionModel(linRegL2, x_test, y_test)"
   ]
  },
  {
   "cell_type": "markdown",
   "metadata": {},
   "source": [
    "# Linear Regression"
   ]
  },
  {
   "cell_type": "code",
   "execution_count": 13,
   "metadata": {},
   "outputs": [],
   "source": [
    "# Modeling\n",
    "linReg = LinearRegression().fit(x_train, y_train)"
   ]
  },
  {
   "cell_type": "code",
   "execution_count": 14,
   "metadata": {},
   "outputs": [
    {
     "name": "stdout",
     "output_type": "stream",
     "text": [
      "ON TRAINING DATA:\n",
      "Mean Square Error:\n",
      "0.18854382813154763\n",
      "Accuracy:\n",
      "0.5612037413582758\n",
      "Confusion Matrix:\n",
      "[[  1   0   0   0   0   0   0   0   0]\n",
      " [  0   2   0   2   0   1   0   0   0]\n",
      " [  0   0  16   4  13  18   0   0   0]\n",
      " [  0   0   1  78  67  96   4   0   0]\n",
      " [  0   0   0  11 312 297  15   0   0]\n",
      " [  0   0   0   1  92 709  44   0   0]\n",
      " [  0   0   0   0  27 285 179   1   0]\n",
      " [  0   0   0   0   5  76  31  38   0]\n",
      " [  0   0   0   0   1  14   8   1   9]]\n"
     ]
    }
   ],
   "source": [
    "# Training Data\n",
    "print(\"ON TRAINING DATA:\")\n",
    "mse, accuracy, confusion_m = evaluateRegressionModel(linReg, x_train, y_train)"
   ]
  },
  {
   "cell_type": "code",
   "execution_count": 15,
   "metadata": {},
   "outputs": [
    {
     "name": "stdout",
     "output_type": "stream",
     "text": [
      "ON TEST DATA:\n",
      "Mean Square Error:\n",
      "1.1292806182166581\n",
      "Accuracy:\n",
      "0.2302325581395349\n",
      "Confusion Matrix:\n",
      "[[ 0  0  0  0  0  0  0  0  0]\n",
      " [ 0  0  0  0  0  1  0  0  1]\n",
      " [ 0  0  0  0  0  5  0  0  4]\n",
      " [ 0  0  0  1  7 21  4  1  8]\n",
      " [ 1  0  0  2 21 44 12  1 27]\n",
      " [ 0  0  0  2 18 65 10  1 42]\n",
      " [ 0  0  1  3 14 45  9  2 21]\n",
      " [ 0  0  0  0  8 15  3  0  5]\n",
      " [ 0  0  0  0  0  2  0  0  3]]\n"
     ]
    }
   ],
   "source": [
    "# ON TEST DATA\n",
    "print(\"ON TEST DATA:\")\n",
    "mse, accuracy, confusion_m = evaluateRegressionModel(linReg, x_test, y_test)"
   ]
  },
  {
   "cell_type": "markdown",
   "metadata": {},
   "source": [
    "# Support Vector Regression"
   ]
  },
  {
   "cell_type": "code",
   "execution_count": 16,
   "metadata": {},
   "outputs": [
    {
     "name": "stderr",
     "output_type": "stream",
     "text": [
      "/Library/Frameworks/Python.framework/Versions/3.7/lib/python3.7/site-packages/sklearn/utils/validation.py:724: DataConversionWarning: A column-vector y was passed when a 1d array was expected. Please change the shape of y to (n_samples, ), for example using ravel().\n",
      "  y = column_or_1d(y, warn=True)\n",
      "/Library/Frameworks/Python.framework/Versions/3.7/lib/python3.7/site-packages/sklearn/svm/base.py:193: FutureWarning: The default value of gamma will change from 'auto' to 'scale' in version 0.22 to account better for unscaled features. Set gamma explicitly to 'auto' or 'scale' to avoid this warning.\n",
      "  \"avoid this warning.\", FutureWarning)\n"
     ]
    }
   ],
   "source": [
    "# Modeling\n",
    "svr = SVR().fit(x_train, y_train)"
   ]
  },
  {
   "cell_type": "code",
   "execution_count": 17,
   "metadata": {},
   "outputs": [
    {
     "name": "stdout",
     "output_type": "stream",
     "text": [
      "ON TRAINING DATA:\n",
      "Mean Square Error:\n",
      "0.33243485040038917\n",
      "Accuracy:\n",
      "0.81862545750305\n",
      "Confusion Matrix:\n",
      "[[  0   0   0   0   0   0   0   0   0   0   0]\n",
      " [  0   0   0   0   0   0   0   0   0   0   0]\n",
      " [  0   0   0   0   0   1   0   0   0   0   0]\n",
      " [  0   0   0   0   0   5   0   0   0   0   0]\n",
      " [  0   0   0   0   0  46   2   2   1   0   0]\n",
      " [  1   0   0   2   0 151  75   7   2   0   8]\n",
      " [  5   2   2   2   2  29 412 144  13   7  17]\n",
      " [  8   2   6   1   6  19  31 716  22  19  16]\n",
      " [  7   0   1   1   0   6   9 149 291  15  13]\n",
      " [  1   1   2   0   1   1   1   2  50  89   2]\n",
      " [  1   0   0   0   0   0   0   0   3  29   0]]\n"
     ]
    }
   ],
   "source": [
    "# Training Data\n",
    "print(\"ON TRAINING DATA:\")\n",
    "mse, accuracy, confusion_m = evaluateRegressionModel(svr, x_train, y_train)"
   ]
  },
  {
   "cell_type": "code",
   "execution_count": 18,
   "metadata": {},
   "outputs": [
    {
     "name": "stdout",
     "output_type": "stream",
     "text": [
      "ON TEST DATA:\n",
      "Mean Square Error:\n",
      "0.5173893852653991\n",
      "Accuracy:\n",
      "0.313953488372093\n",
      "Confusion Matrix:\n",
      "[[  0   0   0   0   0   0   0   0   0   0]\n",
      " [  0   0   0   0   0   0   0   0   0   0]\n",
      " [  0   0   0   0   0   0   2   0   0   0]\n",
      " [  0   1   0   0   0   0   8   0   0   0]\n",
      " [  0   0   0   0   0   3  37   0   0   2]\n",
      " [  0   0   0   1   2   6  94   4   1   0]\n",
      " [  1   0   0   0   5   7 121   2   1   1]\n",
      " [  0   0   0   0   2   5  85   2   0   1]\n",
      " [  1   0   0   0   0   2  25   1   0   2]\n",
      " [  0   0   0   0   0   0   5   0   0   0]]\n"
     ]
    }
   ],
   "source": [
    "# ON TEST DATA\n",
    "print(\"ON TEST DATA:\")\n",
    "mse, accuracy, confusion_m = evaluateRegressionModel(svr, x_test, y_test)"
   ]
  },
  {
   "cell_type": "markdown",
   "metadata": {},
   "source": [
    "# CLASSIFICATION MODEL SECTION"
   ]
  },
  {
   "cell_type": "code",
   "execution_count": 19,
   "metadata": {},
   "outputs": [
    {
     "name": "stdout",
     "output_type": "stream",
     "text": [
      "Ran.\n"
     ]
    }
   ],
   "source": [
    "k = 10\n",
    "y_train = convertToClass(y_train, k)\n",
    "y_test = convertToClass(y_test, k)\n",
    "print(\"Ran.\")"
   ]
  },
  {
   "cell_type": "markdown",
   "metadata": {},
   "source": [
    "# Softmax"
   ]
  },
  {
   "cell_type": "code",
   "execution_count": null,
   "metadata": {},
   "outputs": [
    {
     "name": "stderr",
     "output_type": "stream",
     "text": [
      "/Library/Frameworks/Python.framework/Versions/3.7/lib/python3.7/site-packages/sklearn/utils/validation.py:724: DataConversionWarning: A column-vector y was passed when a 1d array was expected. Please change the shape of y to (n_samples, ), for example using ravel().\n",
      "  y = column_or_1d(y, warn=True)\n"
     ]
    }
   ],
   "source": [
    "softmax = LogisticRegression(multi_class='multinomial', solver='lbfgs')\n",
    "softmax.fit(x_train, y_train)"
   ]
  },
  {
   "cell_type": "code",
   "execution_count": null,
   "metadata": {},
   "outputs": [],
   "source": [
    "# Training data\n",
    "print(\"ON TRAINING DATA:\")\n",
    "accuracy, confusion_m = evaluateClassificationModel(softmax, x_train, y_train)"
   ]
  },
  {
   "cell_type": "code",
   "execution_count": null,
   "metadata": {},
   "outputs": [],
   "source": [
    "# Testing data\n",
    "print(\"ON TESTING DATA:\")\n",
    "accuracy, confusion_m = evaluateClassificationModel(softmax, x_test, y_test)"
   ]
  },
  {
   "cell_type": "markdown",
   "metadata": {},
   "source": [
    "# Support Vector Machine, Kernel = rbf"
   ]
  },
  {
   "cell_type": "code",
   "execution_count": null,
   "metadata": {},
   "outputs": [],
   "source": [
    "svm_rbf = SVC(gamma = 'auto', kernel='rbf', C=.8)\n",
    "svm_rbf.fit(x_train, y_train)"
   ]
  },
  {
   "cell_type": "code",
   "execution_count": null,
   "metadata": {},
   "outputs": [],
   "source": [
    "# Training data\n",
    "print(\"ON TRAINING DATA:\")\n",
    "accuracy, confusion_m = evaluateClassificationModel(svm_rbf, x_train, y_train)"
   ]
  },
  {
   "cell_type": "code",
   "execution_count": null,
   "metadata": {},
   "outputs": [],
   "source": [
    "# Testing data\n",
    "print(\"ON TESTING DATA:\")\n",
    "accuracy, confusion_m = evaluateClassificationModel(svm_rbf, x_test, y_test)"
   ]
  },
  {
   "cell_type": "markdown",
   "metadata": {},
   "source": [
    "# Support Vector Machine, Kernel = linear"
   ]
  },
  {
   "cell_type": "code",
   "execution_count": null,
   "metadata": {},
   "outputs": [],
   "source": [
    "svm_linear = SVC(gamma = 'auto', kernel='linear', C=1, max_iter=5000)\n",
    "svm_linear.fit(x_train, y_train)"
   ]
  },
  {
   "cell_type": "code",
   "execution_count": null,
   "metadata": {},
   "outputs": [],
   "source": [
    "# Training data\n",
    "print(\"ON TRAINING DATA:\")\n",
    "accuracy, confusion_m = evaluateClassificationModel(svm_linear, x_train, y_train)"
   ]
  },
  {
   "cell_type": "code",
   "execution_count": null,
   "metadata": {},
   "outputs": [],
   "source": [
    "# Testing data\n",
    "print(\"ON TESTING DATA:\")\n",
    "accuracy, confusion_m = evaluateClassificationModel(svm_linear, x_test, y_test)"
   ]
  },
  {
   "cell_type": "markdown",
   "metadata": {},
   "source": [
    "# Decision Trees"
   ]
  },
  {
   "cell_type": "code",
   "execution_count": null,
   "metadata": {},
   "outputs": [],
   "source": [
    "tree = tree.DecisionTreeClassifier(max_depth = 15)\n",
    "tree.fit(x_train, y_train)"
   ]
  },
  {
   "cell_type": "code",
   "execution_count": null,
   "metadata": {},
   "outputs": [],
   "source": [
    "# Training data\n",
    "print(\"ON TRAINING DATA:\")\n",
    "accuracy, confusion_m = evaluateClassificationModel(tree, x_train, y_train)"
   ]
  },
  {
   "cell_type": "code",
   "execution_count": null,
   "metadata": {},
   "outputs": [],
   "source": [
    "# Testing data\n",
    "print(\"ON TESTING DATA:\")\n",
    "accuracy, confusion_m = evaluateClassificationModel(tree, x_test, y_test)"
   ]
  },
  {
   "cell_type": "markdown",
   "metadata": {},
   "source": [
    "# Linear Discriminant Analysis"
   ]
  },
  {
   "cell_type": "code",
   "execution_count": null,
   "metadata": {},
   "outputs": [],
   "source": [
    "lda = LinearDiscriminantAnalysis()\n",
    "lda.fit(x_train, y_train)"
   ]
  },
  {
   "cell_type": "code",
   "execution_count": null,
   "metadata": {},
   "outputs": [],
   "source": [
    "# Training data\n",
    "print(\"ON TRAINING DATA:\")\n",
    "accuracy, confusion_m = evaluateClassificationModel(lda, x_train, y_train)"
   ]
  },
  {
   "cell_type": "code",
   "execution_count": null,
   "metadata": {},
   "outputs": [],
   "source": [
    "# Testing data\n",
    "print(\"ON TESTING DATA:\")\n",
    "accuracy, confusion_m = evaluateClassificationModel(lda, x_test, y_test)"
   ]
  },
  {
   "cell_type": "markdown",
   "metadata": {},
   "source": [
    "# QDA"
   ]
  },
  {
   "cell_type": "code",
   "execution_count": null,
   "metadata": {},
   "outputs": [],
   "source": [
    "# qda = QuadraticDiscriminantAnalysis()\n",
    "# qda.fit(x_train, y_train)"
   ]
  },
  {
   "cell_type": "code",
   "execution_count": null,
   "metadata": {},
   "outputs": [],
   "source": [
    "# # Training data\n",
    "# print(\"ON TRAINING DATA:\")\n",
    "# accuracy, confusion_m = evaluateClassificationModel(qda, x_train, y_train)"
   ]
  },
  {
   "cell_type": "code",
   "execution_count": null,
   "metadata": {},
   "outputs": [],
   "source": [
    "# # Testing data\n",
    "# print(\"ON TESTING DATA:\")\n",
    "# accuracy, confusion_m = evaluateClassificationModel(qda, x_test, y_test)"
   ]
  },
  {
   "cell_type": "markdown",
   "metadata": {},
   "source": [
    "# K Nearest Neighbors"
   ]
  },
  {
   "cell_type": "code",
   "execution_count": null,
   "metadata": {},
   "outputs": [],
   "source": [
    "neigh = KNeighborsClassifier(n_neighbors=20)\n",
    "neigh.fit(x_train, y_train)"
   ]
  },
  {
   "cell_type": "code",
   "execution_count": null,
   "metadata": {},
   "outputs": [],
   "source": [
    "# Training data\n",
    "print(\"ON TRAINING DATA:\")\n",
    "accuracy, confusion_m = evaluateClassificationModel(neigh, x_train, y_train)"
   ]
  },
  {
   "cell_type": "code",
   "execution_count": null,
   "metadata": {},
   "outputs": [],
   "source": [
    "# Testing data\n",
    "print(\"ON TESTING DATA:\")\n",
    "accuracy, confusion_m = evaluateClassificationModel(neigh, x_test, y_test)"
   ]
  },
  {
   "cell_type": "markdown",
   "metadata": {},
   "source": [
    "# PCA"
   ]
  },
  {
   "cell_type": "code",
   "execution_count": null,
   "metadata": {},
   "outputs": [],
   "source": [
    "pca = PCA(n_components=5)\n",
    "x_train_new = pca.fit_transform(x_train)\n",
    "x_test_new = pca.transform(x_test)"
   ]
  },
  {
   "cell_type": "code",
   "execution_count": null,
   "metadata": {},
   "outputs": [],
   "source": [
    "svm_rbf_pca = SVC(gamma = 'auto', kernel='rbf', C=.8)\n",
    "svm_rbf_pca.fit(x_train_new, y_train)"
   ]
  },
  {
   "cell_type": "code",
   "execution_count": null,
   "metadata": {},
   "outputs": [],
   "source": [
    "# Training data\n",
    "print(\"ON TRAINING DATA:\")\n",
    "accuracy, confusion_m = evaluateClassificationModel(svm_rbf_pca, x_train_new, y_train)"
   ]
  },
  {
   "cell_type": "code",
   "execution_count": null,
   "metadata": {},
   "outputs": [],
   "source": [
    "# Testing data\n",
    "print(\"ON TESTING DATA:\")\n",
    "accuracy, confusion_m = evaluateClassificationModel(svm_rbf_pca, x_test_new, y_test)"
   ]
  },
  {
   "cell_type": "markdown",
   "metadata": {
    "collapsed": true
   },
   "source": [
    "# Neural Networks"
   ]
  },
  {
   "cell_type": "code",
   "execution_count": null,
   "metadata": {},
   "outputs": [],
   "source": [
    "from sklearn.neural_network import MLPClassifier\n",
    "nn = MLPClassifier(solver='lbfgs', alpha=1e-5, hidden_layer_sizes=(15, 10, 5), random_state=1)\n",
    "nn.fit(x_train, y_train)"
   ]
  },
  {
   "cell_type": "code",
   "execution_count": null,
   "metadata": {},
   "outputs": [],
   "source": [
    "# Training data\n",
    "print(\"ON TRAINING DATA:\")\n",
    "accuracy, confusion_m = evaluateClassificationModel(nn, x_train, y_train)"
   ]
  },
  {
   "cell_type": "code",
   "execution_count": null,
   "metadata": {},
   "outputs": [],
   "source": [
    "# Testing data\n",
    "print(\"ON TESTING DATA:\")\n",
    "accuracy, confusion_m = evaluateClassificationModel(nn, x_test, y_test)"
   ]
  },
  {
   "cell_type": "code",
   "execution_count": null,
   "metadata": {},
   "outputs": [],
   "source": [
    "# Hidden layers: 20, 10, and 5 worked well"
   ]
  },
  {
   "cell_type": "code",
   "execution_count": null,
   "metadata": {},
   "outputs": [],
   "source": []
  }
 ],
 "metadata": {
  "anaconda-cloud": {},
  "kernelspec": {
   "display_name": "Python 3",
   "language": "python",
   "name": "python3"
  },
  "language_info": {
   "codemirror_mode": {
    "name": "ipython",
    "version": 3
   },
   "file_extension": ".py",
   "mimetype": "text/x-python",
   "name": "python",
   "nbconvert_exporter": "python",
   "pygments_lexer": "ipython3",
   "version": "3.7.4"
  }
 },
 "nbformat": 4,
 "nbformat_minor": 1
}
