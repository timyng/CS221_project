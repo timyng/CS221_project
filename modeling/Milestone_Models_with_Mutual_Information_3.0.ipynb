{
 "cells": [
  {
   "cell_type": "code",
   "execution_count": 1,
   "metadata": {},
   "outputs": [],
   "source": [
    "import numpy as np\n",
    "import pandas as pd\n",
    "import matplotlib.pyplot as plt\n",
    "from sklearn.metrics import mean_squared_error\n",
    "from sklearn.metrics import confusion_matrix\n",
    "from sklearn.model_selection import cross_val_score\n",
    "from sklearn.model_selection import train_test_split\n",
    "from sklearn import preprocessing\n",
    "from sklearn.preprocessing import LabelEncoder\n",
    "from sklearn.preprocessing import OneHotEncoder\n",
    "from sklearn.linear_model import LinearRegression\n",
    "from sklearn import linear_model\n",
    "from sklearn.linear_model import LogisticRegression\n",
    "from sklearn.svm import SVC\n",
    "from sklearn import tree\n",
    "from sklearn.discriminant_analysis import LinearDiscriminantAnalysis\n",
    "from sklearn.discriminant_analysis import QuadraticDiscriminantAnalysis\n",
    "from sklearn.neighbors import KNeighborsClassifier\n",
    "from sklearn.decomposition import PCA\n",
    "from sklearn.linear_model import Ridge\n",
    "from sklearn.svm import SVR\n",
    "from load_data import *"
   ]
  },
  {
   "cell_type": "markdown",
   "metadata": {},
   "source": [
    "# Data Exploration"
   ]
  },
  {
   "cell_type": "code",
   "execution_count": 2,
   "metadata": {},
   "outputs": [
    {
     "data": {
      "text/plain": [
       "Index(['name', 'domain', 'year founded', 'industry', 'size range', 'city',\n",
       "       ' state', 'country', ' linkedin url', 'current employee estimate',\n",
       "       'total employee estimate', 'Score', 'reviews', 'salaries', 'interviews',\n",
       "       'KMT', 'market_cap', 'enterprise_value', 'trailing_pe', 'forward_pe',\n",
       "       'peg_ratio_5', 'price_sales', 'price_book', 'enterprise_value_revenue',\n",
       "       'enterprise_value_ebitda', 'profit_margin', 'operating_margin',\n",
       "       'return_on_assets', 'return_on_equity', 'revenue', 'revenue_per_share',\n",
       "       'quarterly_revenue_share', 'gross_profit', 'ebitda',\n",
       "       'net_income_avi_to_common', 'diluted_eps', 'quarterly_earnings_growth',\n",
       "       'total_cash', 'total_cash_per_share', 'total_dept',\n",
       "       'total_dept_per_equity', 'operating_cash_flow',\n",
       "       'leveraged_free_cash_flow', 'stock_beta_3y', 'stock 52_week',\n",
       "       'stock_sp500_52_week', 'stock_52_week_high', 'stock_52_week_low'],\n",
       "      dtype='object')"
      ]
     },
     "execution_count": 2,
     "metadata": {},
     "output_type": "execute_result"
    }
   ],
   "source": [
    "data_path = \"../data/with_stock_data.csv\"\n",
    "frame = pd.read_csv(data_path)\n",
    "frame.columns"
   ]
  },
  {
   "cell_type": "code",
   "execution_count": 3,
   "metadata": {},
   "outputs": [
    {
     "data": {
      "image/png": "[encoded data removed]",
      "text/plain": [
       "<Figure size 432x288 with 1 Axes>"
      ]
     },
     "metadata": {
      "needs_background": "light"
     },
     "output_type": "display_data"
    }
   ],
   "source": [
    "frame['Score']\n",
    "plt.hist(frame['Score'], alpha=0.3)\n",
    "plt.show()"
   ]
  },
  {
   "cell_type": "markdown",
   "metadata": {},
   "source": [
    "# Feature Selection"
   ]
  },
  {
   "cell_type": "code",
   "execution_count": 4,
   "metadata": {},
   "outputs": [],
   "source": [
    "# Pick Features\n",
    "# non_categorical_columns = ['year founded', 'current employee estimate', 'total employee estimate', 'reviews', 'salaries', 'interviews', 'market_cap', 'enterprise_value', 'trailing_pe', 'forward_pe', 'peg_ratio_5', 'price_sales', 'price_book', 'enterprise_value_revenue', 'enterprise_value_ebitda', 'profit_margin', 'operating_margin', 'return_on_assets', 'return_on_equity', 'revenue', 'revenue_per_share', 'quarterly_revenue_share', 'gross_profit', 'ebitda', 'net_income_avi_to_common', 'diluted_eps', 'quarterly_earnings_growth', 'total_cash', 'total_cash_per_share', 'total_dept', 'total_dept_per_equity', 'operating_cash_flow', 'leveraged_free_cash_flow', 'stock_beta_3y', 'stock 52_week', 'stock_sp500_52_week', 'stock_52_week_high', 'stock_52_week_low']\n",
    "# categorical_columns = ['industry', 'size range', 'city', ' state', 'country']\n",
    "non_categorical_columns = ['trailing_pe', 'leveraged_free_cash_flow', 'operating_cash_flow', 'total_dept_per_equity', 'ebitda', 'net_income_avi_to_common', 'forward_pe', 'total_cash']\n",
    "categorical_columns = ['city']"
   ]
  },
  {
   "cell_type": "code",
   "execution_count": 5,
   "metadata": {},
   "outputs": [],
   "source": [
    "x_train, y_train, x_test, y_test, x_test_unseen, y_test_unseen = load_and_clean(non_categorical_columns, categorical_columns)"
   ]
  },
  {
   "cell_type": "markdown",
   "metadata": {},
   "source": [
    "# General Functions"
   ]
  },
  {
   "cell_type": "code",
   "execution_count": 6,
   "metadata": {},
   "outputs": [],
   "source": [
    "def convertToClass(Y, k):\n",
    "    return np.apply_along_axis(lambda elem : np.round(elem * k / 5), 0, Y)\n",
    "\n",
    "def evaluateRegressionModel(model, x, y):\n",
    "    y_pred = np.clip(model.predict(x), 0, 5).flatten()\n",
    "    \n",
    "    # MSE\n",
    "    print(\"Mean Square Error:\")\n",
    "    mse = mean_squared_error(y, y_pred)\n",
    "    print(mse)\n",
    "    \n",
    "    # Accuracy\n",
    "    print(\"Accuracy:\")\n",
    "    accuracy = sum(np.abs(y_pred - y.values.flatten()) <  0.25)/ y.shape[0]\n",
    "    print(accuracy)\n",
    "    \n",
    "    # Confusion matrix\n",
    "    y_pred = convertToClass(y_pred, 10)\n",
    "    y_actual = convertToClass(y, 10)\n",
    "    confusion_m = confusion_matrix(y_actual, y_pred)\n",
    "    print(\"Confusion Matrix:\")\n",
    "    print(confusion_m)\n",
    "    return (mse, accuracy, confusion_m)\n",
    "\n",
    "def evaluateClassificationModel(model, x, y):\n",
    "    y_pred = model.predict(x)\n",
    "    confusion_m = confusion_matrix(y, y_pred)\n",
    "    accuracy = model.score(x, y)\n",
    "    print(\"Accuracy:\")\n",
    "    print(accuracy)\n",
    "    print(\"Confusion Matrix:\")\n",
    "    print(confusion_m)\n",
    "    return (accuracy, confusion_m)"
   ]
  },
  {
   "cell_type": "markdown",
   "metadata": {},
   "source": [
    "# REGRESSION MODEL SECTION"
   ]
  },
  {
   "cell_type": "markdown",
   "metadata": {},
   "source": [
    "# Linear Regression (L1 Regularization)"
   ]
  },
  {
   "cell_type": "code",
   "execution_count": 7,
   "metadata": {},
   "outputs": [
    {
     "data": {
      "text/plain": [
       "Lasso(alpha=0.1, copy_X=True, fit_intercept=True, max_iter=1000,\n",
       "      normalize=False, positive=False, precompute=False, random_state=None,\n",
       "      selection='cyclic', tol=0.0001, warm_start=False)"
      ]
     },
     "execution_count": 7,
     "metadata": {},
     "output_type": "execute_result"
    }
   ],
   "source": [
    "linRegL1 = linear_model.Lasso(alpha=0.1, normalize=False)\n",
    "linRegL1.fit(x_train, y_train)"
   ]
  },
  {
   "cell_type": "code",
   "execution_count": 8,
   "metadata": {},
   "outputs": [
    {
     "name": "stdout",
     "output_type": "stream",
     "text": [
      "ON TRAINING DATA:\n",
      "Mean Square Error:\n",
      "0.32984975157292884\n",
      "Accuracy:\n",
      "0.35339568930459536\n",
      "Confusion Matrix:\n",
      "[[  0   0   0   0   0   1   0   0   0]\n",
      " [  0   0   0   0   0   5   0   0   0]\n",
      " [  0   0   0   0   0  51   0   0   0]\n",
      " [  0   0   0   0   1 245   0   0   0]\n",
      " [  0   0   0   0   3 631   1   0   0]\n",
      " [  0   0   0   0   2 844   0   0   0]\n",
      " [  0   0   0   0   0 489   3   0   0]\n",
      " [  0   0   0   0   0 149   1   0   0]\n",
      " [  0   0   0   0   0  33   0   0   0]]\n"
     ]
    }
   ],
   "source": [
    "# Training Data\n",
    "print(\"ON TRAINING DATA:\")\n",
    "mse, accuracy, confusion_m = evaluateRegressionModel(linRegL1, x_train, y_train)"
   ]
  },
  {
   "cell_type": "code",
   "execution_count": 9,
   "metadata": {},
   "outputs": [
    {
     "name": "stdout",
     "output_type": "stream",
     "text": [
      "ON TEST DATA:\n",
      "Mean Square Error:\n",
      "0.3688318704188394\n",
      "Accuracy:\n",
      "0.34186046511627904\n",
      "Confusion Matrix:\n",
      "[[  0   0   0   0   2   0   0   0]\n",
      " [  0   0   0   0   9   0   0   0]\n",
      " [  0   0   0   0  42   0   0   0]\n",
      " [  0   0   0   0 108   0   0   0]\n",
      " [  0   0   0   0 138   0   0   0]\n",
      " [  0   0   0   2  92   1   0   0]\n",
      " [  0   0   0   1  30   0   0   0]\n",
      " [  0   0   0   0   5   0   0   0]]\n"
     ]
    }
   ],
   "source": [
    "# ON TEST DATA\n",
    "print(\"ON TEST DATA:\")\n",
    "mse, accuracy, confusion_m = evaluateRegressionModel(linRegL1, x_test, y_test)"
   ]
  },
  {
   "cell_type": "markdown",
   "metadata": {},
   "source": [
    "# Linear Regression (L2 Regularization)"
   ]
  },
  {
   "cell_type": "code",
   "execution_count": 10,
   "metadata": {},
   "outputs": [
    {
     "name": "stderr",
     "output_type": "stream",
     "text": [
      "/Library/Frameworks/Python.framework/Versions/3.7/lib/python3.7/site-packages/sklearn/linear_model/ridge.py:147: LinAlgWarning: Ill-conditioned matrix (rcond=5.28852e-24): result may not be accurate.\n",
      "  overwrite_a=True).T\n"
     ]
    },
    {
     "data": {
      "text/plain": [
       "Ridge(alpha=1.0, copy_X=True, fit_intercept=True, max_iter=None,\n",
       "      normalize=False, random_state=None, solver='auto', tol=0.001)"
      ]
     },
     "execution_count": 10,
     "metadata": {},
     "output_type": "execute_result"
    }
   ],
   "source": [
    "# Modeling\n",
    "linRegL2 = Ridge(alpha=1.0, normalize=False)\n",
    "linRegL2.fit(x_train, y_train)"
   ]
  },
  {
   "cell_type": "code",
   "execution_count": 11,
   "metadata": {},
   "outputs": [
    {
     "name": "stdout",
     "output_type": "stream",
     "text": [
      "ON TRAINING DATA:\n",
      "Mean Square Error:\n",
      "0.2145921414867666\n",
      "Accuracy:\n",
      "0.4631964213094754\n",
      "Confusion Matrix:\n",
      "[[  0   0   0   1   0   0   0   0   0]\n",
      " [  0   0   0   3   1   1   0   0   0]\n",
      " [  0   0   0   8  24  19   0   0   0]\n",
      " [  0   0   0   4 133 106   3   0   0]\n",
      " [  0   0   0   5 247 376   7   0   0]\n",
      " [  0   0   0   0  77 745  24   0   0]\n",
      " [  0   0   0   0  16 417  59   0   0]\n",
      " [  0   0   0   0   5  82  63   0   0]\n",
      " [  0   0   0   0   1  14  18   0   0]]\n"
     ]
    }
   ],
   "source": [
    "# Training Data\n",
    "print(\"ON TRAINING DATA:\")\n",
    "mse, accuracy, confusion_m = evaluateRegressionModel(linRegL2, x_train, y_train)"
   ]
  },
  {
   "cell_type": "code",
   "execution_count": 12,
   "metadata": {},
   "outputs": [
    {
     "name": "stdout",
     "output_type": "stream",
     "text": [
      "ON TEST DATA:\n",
      "Mean Square Error:\n",
      "0.3946386763878807\n",
      "Accuracy:\n",
      "0.3511627906976744\n",
      "Confusion Matrix:\n",
      "[[  0   0   0   0   2   0   0   0]\n",
      " [  0   0   0   0   9   0   0   0]\n",
      " [  0   0   1   7  31   3   0   0]\n",
      " [  0   0   0  21  81   6   0   0]\n",
      " [  0   0   0  14 120   4   0   0]\n",
      " [  0   0   1  14  72   7   1   0]\n",
      " [  0   0   0   7  22   2   0   0]\n",
      " [  0   0   0   0   5   0   0   0]]\n"
     ]
    }
   ],
   "source": [
    "# ON TEST DATA\n",
    "print(\"ON TEST DATA:\")\n",
    "mse, accuracy, confusion_m = evaluateRegressionModel(linRegL2, x_test, y_test)"
   ]
  },
  {
   "cell_type": "markdown",
   "metadata": {},
   "source": [
    "# Linear Regression"
   ]
  },
  {
   "cell_type": "code",
   "execution_count": 13,
   "metadata": {},
   "outputs": [],
   "source": [
    "# Modeling\n",
    "linReg = LinearRegression().fit(x_train, y_train)"
   ]
  },
  {
   "cell_type": "code",
   "execution_count": 14,
   "metadata": {},
   "outputs": [
    {
     "name": "stdout",
     "output_type": "stream",
     "text": [
      "ON TRAINING DATA:\n",
      "Mean Square Error:\n",
      "0.18854382813154763\n",
      "Accuracy:\n",
      "0.5612037413582758\n",
      "Confusion Matrix:\n",
      "[[  1   0   0   0   0   0   0   0   0]\n",
      " [  0   2   0   2   0   1   0   0   0]\n",
      " [  0   0  16   4  13  18   0   0   0]\n",
      " [  0   0   1  78  67  96   4   0   0]\n",
      " [  0   0   0  11 312 297  15   0   0]\n",
      " [  0   0   0   1  92 709  44   0   0]\n",
      " [  0   0   0   0  27 285 179   1   0]\n",
      " [  0   0   0   0   5  76  31  38   0]\n",
      " [  0   0   0   0   1  14   8   1   9]]\n"
     ]
    }
   ],
   "source": [
    "# Training Data\n",
    "print(\"ON TRAINING DATA:\")\n",
    "mse, accuracy, confusion_m = evaluateRegressionModel(linReg, x_train, y_train)"
   ]
  },
  {
   "cell_type": "code",
   "execution_count": 15,
   "metadata": {},
   "outputs": [
    {
     "name": "stdout",
     "output_type": "stream",
     "text": [
      "ON TEST DATA:\n",
      "Mean Square Error:\n",
      "1.1292806182166581\n",
      "Accuracy:\n",
      "0.2302325581395349\n",
      "Confusion Matrix:\n",
      "[[ 0  0  0  0  0  0  0  0  0]\n",
      " [ 0  0  0  0  0  1  0  0  1]\n",
      " [ 0  0  0  0  0  5  0  0  4]\n",
      " [ 0  0  0  1  7 21  4  1  8]\n",
      " [ 1  0  0  2 21 44 12  1 27]\n",
      " [ 0  0  0  2 18 65 10  1 42]\n",
      " [ 0  0  1  3 14 45  9  2 21]\n",
      " [ 0  0  0  0  8 15  3  0  5]\n",
      " [ 0  0  0  0  0  2  0  0  3]]\n"
     ]
    }
   ],
   "source": [
    "# ON TEST DATA\n",
    "print(\"ON TEST DATA:\")\n",
    "mse, accuracy, confusion_m = evaluateRegressionModel(linReg, x_test, y_test)"
   ]
  },
  {
   "cell_type": "markdown",
   "metadata": {},
   "source": [
    "# Support Vector Regression"
   ]
  },
  {
   "cell_type": "code",
   "execution_count": 16,
   "metadata": {},
   "outputs": [
    {
     "name": "stderr",
     "output_type": "stream",
     "text": [
      "/Library/Frameworks/Python.framework/Versions/3.7/lib/python3.7/site-packages/sklearn/utils/validation.py:724: DataConversionWarning: A column-vector y was passed when a 1d array was expected. Please change the shape of y to (n_samples, ), for example using ravel().\n",
      "  y = column_or_1d(y, warn=True)\n",
      "/Library/Frameworks/Python.framework/Versions/3.7/lib/python3.7/site-packages/sklearn/svm/base.py:193: FutureWarning: The default value of gamma will change from 'auto' to 'scale' in version 0.22 to account better for unscaled features. Set gamma explicitly to 'auto' or 'scale' to avoid this warning.\n",
      "  \"avoid this warning.\", FutureWarning)\n"
     ]
    }
   ],
   "source": [
    "# Modeling\n",
    "svr = SVR().fit(x_train, y_train)"
   ]
  },
  {
   "cell_type": "code",
   "execution_count": 17,
   "metadata": {},
   "outputs": [
    {
     "name": "stdout",
     "output_type": "stream",
     "text": [
      "ON TRAINING DATA:\n",
      "Mean Square Error:\n",
      "0.33243485040038917\n",
      "Accuracy:\n",
      "0.81862545750305\n",
      "Confusion Matrix:\n",
      "[[  0   0   0   0   0   0   0   0   0   0   0]\n",
      " [  0   0   0   0   0   0   0   0   0   0   0]\n",
      " [  0   0   0   0   0   1   0   0   0   0   0]\n",
      " [  0   0   0   0   0   5   0   0   0   0   0]\n",
      " [  0   0   0   0   0  46   2   2   1   0   0]\n",
      " [  1   0   0   2   0 151  75   7   2   0   8]\n",
      " [  5   2   2   2   2  29 412 144  13   7  17]\n",
      " [  8   2   6   1   6  19  31 716  22  19  16]\n",
      " [  7   0   1   1   0   6   9 149 291  15  13]\n",
      " [  1   1   2   0   1   1   1   2  50  89   2]\n",
      " [  1   0   0   0   0   0   0   0   3  29   0]]\n"
     ]
    }
   ],
   "source": [
    "# Training Data\n",
    "print(\"ON TRAINING DATA:\")\n",
    "mse, accuracy, confusion_m = evaluateRegressionModel(svr, x_train, y_train)"
   ]
  },
  {
   "cell_type": "code",
   "execution_count": 18,
   "metadata": {},
   "outputs": [
    {
     "name": "stdout",
     "output_type": "stream",
     "text": [
      "ON TEST DATA:\n",
      "Mean Square Error:\n",
      "0.5173893852653991\n",
      "Accuracy:\n",
      "0.313953488372093\n",
      "Confusion Matrix:\n",
      "[[  0   0   0   0   0   0   0   0   0   0]\n",
      " [  0   0   0   0   0   0   0   0   0   0]\n",
      " [  0   0   0   0   0   0   2   0   0   0]\n",
      " [  0   1   0   0   0   0   8   0   0   0]\n",
      " [  0   0   0   0   0   3  37   0   0   2]\n",
      " [  0   0   0   1   2   6  94   4   1   0]\n",
      " [  1   0   0   0   5   7 121   2   1   1]\n",
      " [  0   0   0   0   2   5  85   2   0   1]\n",
      " [  1   0   0   0   0   2  25   1   0   2]\n",
      " [  0   0   0   0   0   0   5   0   0   0]]\n"
     ]
    }
   ],
   "source": [
    "# ON TEST DATA\n",
    "print(\"ON TEST DATA:\")\n",
    "mse, accuracy, confusion_m = evaluateRegressionModel(svr, x_test, y_test)"
   ]
  },
  {
   "cell_type": "markdown",
   "metadata": {},
   "source": [
    "# CLASSIFICATION MODEL SECTION"
   ]
  },
  {
   "cell_type": "code",
   "execution_count": 19,
   "metadata": {},
   "outputs": [
    {
     "name": "stdout",
     "output_type": "stream",
     "text": [
      "Ran.\n"
     ]
    }
   ],
   "source": [
    "k = 10\n",
    "y_train = convertToClass(y_train, k)\n",
    "y_test = convertToClass(y_test, k)\n",
    "print(\"Ran.\")"
   ]
  },
  {
   "cell_type": "markdown",
   "metadata": {},
   "source": [
    "# Softmax"
   ]
  },
  {
   "cell_type": "code",
   "execution_count": 20,
   "metadata": {},
   "outputs": [
    {
     "name": "stderr",
     "output_type": "stream",
     "text": [
      "/Library/Frameworks/Python.framework/Versions/3.7/lib/python3.7/site-packages/sklearn/utils/validation.py:724: DataConversionWarning: A column-vector y was passed when a 1d array was expected. Please change the shape of y to (n_samples, ), for example using ravel().\n",
      "  y = column_or_1d(y, warn=True)\n",
      "/Library/Frameworks/Python.framework/Versions/3.7/lib/python3.7/site-packages/sklearn/linear_model/logistic.py:947: ConvergenceWarning: lbfgs failed to converge. Increase the number of iterations.\n",
      "  \"of iterations.\", ConvergenceWarning)\n"
     ]
    },
    {
     "data": {
      "text/plain": [
       "LogisticRegression(C=1.0, class_weight=None, dual=False, fit_intercept=True,\n",
       "                   intercept_scaling=1, l1_ratio=None, max_iter=100,\n",
       "                   multi_class='multinomial', n_jobs=None, penalty='l2',\n",
       "                   random_state=None, solver='lbfgs', tol=0.0001, verbose=0,\n",
       "                   warm_start=False)"
      ]
     },
     "execution_count": 20,
     "metadata": {},
     "output_type": "execute_result"
    }
   ],
   "source": [
    "softmax = LogisticRegression(multi_class='multinomial', solver='lbfgs')\n",
    "softmax.fit(x_train, y_train)"
   ]
  },
  {
   "cell_type": "code",
   "execution_count": 21,
   "metadata": {},
   "outputs": [
    {
     "name": "stdout",
     "output_type": "stream",
     "text": [
      "ON TRAINING DATA:\n",
      "Accuracy:\n",
      "0.2997153314355429\n",
      "Confusion Matrix:\n",
      "[[  0   0   0   1   0   0   0   0   0]\n",
      " [  0   0   0   0   0   4   1   0   0]\n",
      " [  3   0   0   2   1  37   6   0   2]\n",
      " [ 26   1   0   5  11 165  36   2   0]\n",
      " [ 34   4   1  20  33 433 103   2   5]\n",
      " [ 42   4   3  36  20 597 135   1   8]\n",
      " [ 24   0   2  22  16 322 100   2   4]\n",
      " [  8   5   2   5  10  91  27   1   1]\n",
      " [  4   0   0   2   1  19   6   0   1]]\n"
     ]
    }
   ],
   "source": [
    "# Training data\n",
    "print(\"ON TRAINING DATA:\")\n",
    "accuracy, confusion_m = evaluateClassificationModel(softmax, x_train, y_train)"
   ]
  },
  {
   "cell_type": "code",
   "execution_count": 22,
   "metadata": {},
   "outputs": [
    {
     "name": "stdout",
     "output_type": "stream",
     "text": [
      "ON TESTING DATA:\n",
      "Accuracy:\n",
      "0.28604651162790695\n",
      "Confusion Matrix:\n",
      "[[ 0  0  0  0  0  0  0  0  0]\n",
      " [ 0  0  0  0  0  2  0  0  0]\n",
      " [ 2  1  0  0  0  4  2  0  0]\n",
      " [ 1  0  1  1  3 28  6  0  2]\n",
      " [ 2  0  0  3  3 79 18  2  1]\n",
      " [ 2  1  0  5  4 97 29  0  0]\n",
      " [ 3  0  0  4  2 60 22  1  3]\n",
      " [ 1  0  0  2  2 20  5  0  1]\n",
      " [ 1  0  0  0  1  3  0  0  0]]\n"
     ]
    }
   ],
   "source": [
    "# Testing data\n",
    "print(\"ON TESTING DATA:\")\n",
    "accuracy, confusion_m = evaluateClassificationModel(softmax, x_test, y_test)"
   ]
  },
  {
   "cell_type": "markdown",
   "metadata": {},
   "source": [
    "# Support Vector Machine, Kernel = rbf"
   ]
  },
  {
   "cell_type": "code",
   "execution_count": 23,
   "metadata": {},
   "outputs": [
    {
     "name": "stderr",
     "output_type": "stream",
     "text": [
      "/Library/Frameworks/Python.framework/Versions/3.7/lib/python3.7/site-packages/sklearn/utils/validation.py:724: DataConversionWarning: A column-vector y was passed when a 1d array was expected. Please change the shape of y to (n_samples, ), for example using ravel().\n",
      "  y = column_or_1d(y, warn=True)\n"
     ]
    },
    {
     "data": {
      "text/plain": [
       "SVC(C=0.8, cache_size=200, class_weight=None, coef0=0.0,\n",
       "    decision_function_shape='ovr', degree=3, gamma='auto', kernel='rbf',\n",
       "    max_iter=-1, probability=False, random_state=None, shrinking=True,\n",
       "    tol=0.001, verbose=False)"
      ]
     },
     "execution_count": 23,
     "metadata": {},
     "output_type": "execute_result"
    }
   ],
   "source": [
    "svm_rbf = SVC(gamma = 'auto', kernel='rbf', C=.8)\n",
    "svm_rbf.fit(x_train, y_train)"
   ]
  },
  {
   "cell_type": "code",
   "execution_count": 24,
   "metadata": {},
   "outputs": [
    {
     "name": "stdout",
     "output_type": "stream",
     "text": [
      "ON TRAINING DATA:\n",
      "Accuracy:\n",
      "0.8263521756811713\n",
      "Confusion Matrix:\n",
      "[[  0   0   0   0   0   1   0   0   0]\n",
      " [  0   0   0   0   0   5   0   0   0]\n",
      " [  0   0   0   0   1  50   0   0   0]\n",
      " [  0   0   0 200  13  26   7   0   0]\n",
      " [  0   0   0   0 580  50   5   0   0]\n",
      " [  0   0   0   0  20 826   0   0   0]\n",
      " [  0   0   0   0  21  47 424   0   0]\n",
      " [  0   0   0   0  11 134   3   2   0]\n",
      " [  0   0   0   0   0  32   1   0   0]]\n"
     ]
    }
   ],
   "source": [
    "# Training data\n",
    "print(\"ON TRAINING DATA:\")\n",
    "accuracy, confusion_m = evaluateClassificationModel(svm_rbf, x_train, y_train)"
   ]
  },
  {
   "cell_type": "code",
   "execution_count": 25,
   "metadata": {},
   "outputs": [
    {
     "name": "stdout",
     "output_type": "stream",
     "text": [
      "ON TESTING DATA:\n",
      "Accuracy:\n",
      "0.3186046511627907\n",
      "Confusion Matrix:\n",
      "[[  0   0   0   0   1   1   0   0]\n",
      " [  0   0   0   1   8   0   0   0]\n",
      " [  0   0   0   3  39   0   0   0]\n",
      " [  0   0   0   5 103   0   0   0]\n",
      " [  0   0   0   5 132   1   0   0]\n",
      " [  0   0   0   1  94   0   0   0]\n",
      " [  0   0   0   1  28   2   0   0]\n",
      " [  0   0   0   0   5   0   0   0]]\n"
     ]
    }
   ],
   "source": [
    "# Testing data\n",
    "print(\"ON TESTING DATA:\")\n",
    "accuracy, confusion_m = evaluateClassificationModel(svm_rbf, x_test, y_test)"
   ]
  },
  {
   "cell_type": "markdown",
   "metadata": {},
   "source": [
    "# Support Vector Machine, Kernel = linear"
   ]
  },
  {
   "cell_type": "code",
   "execution_count": 26,
   "metadata": {},
   "outputs": [
    {
     "name": "stderr",
     "output_type": "stream",
     "text": [
      "/Library/Frameworks/Python.framework/Versions/3.7/lib/python3.7/site-packages/sklearn/utils/validation.py:724: DataConversionWarning: A column-vector y was passed when a 1d array was expected. Please change the shape of y to (n_samples, ), for example using ravel().\n",
      "  y = column_or_1d(y, warn=True)\n",
      "/Library/Frameworks/Python.framework/Versions/3.7/lib/python3.7/site-packages/sklearn/svm/base.py:241: ConvergenceWarning: Solver terminated early (max_iter=5000).  Consider pre-processing your data with StandardScaler or MinMaxScaler.\n",
      "  % self.max_iter, ConvergenceWarning)\n"
     ]
    },
    {
     "data": {
      "text/plain": [
       "SVC(C=1, cache_size=200, class_weight=None, coef0=0.0,\n",
       "    decision_function_shape='ovr', degree=3, gamma='auto', kernel='linear',\n",
       "    max_iter=5000, probability=False, random_state=None, shrinking=True,\n",
       "    tol=0.001, verbose=False)"
      ]
     },
     "execution_count": 26,
     "metadata": {},
     "output_type": "execute_result"
    }
   ],
   "source": [
    "svm_linear = SVC(gamma = 'auto', kernel='linear', C=1, max_iter=5000)\n",
    "svm_linear.fit(x_train, y_train)"
   ]
  },
  {
   "cell_type": "code",
   "execution_count": 27,
   "metadata": {},
   "outputs": [
    {
     "name": "stdout",
     "output_type": "stream",
     "text": [
      "ON TRAINING DATA:\n",
      "Accuracy:\n",
      "0.14192761285075234\n",
      "Confusion Matrix:\n",
      "[[  0   0   0   1   0   0   0   0   0]\n",
      " [  0   1   0   3   1   0   0   0   0]\n",
      " [  0   1   1  38   8   2   0   0   1]\n",
      " [  0   1   1 198  41   2   0   0   3]\n",
      " [  0  11  11 464 119  14   1   1  14]\n",
      " [  0  23  12 626 131  28   2   1  23]\n",
      " [  0  19   8 360  75  10   2   0  18]\n",
      " [  1   1   0 110  28   5   0   0   5]\n",
      " [  0   0   2  24   5   1   1   0   0]]\n"
     ]
    }
   ],
   "source": [
    "# Training data\n",
    "print(\"ON TRAINING DATA:\")\n",
    "accuracy, confusion_m = evaluateClassificationModel(svm_linear, x_train, y_train)"
   ]
  },
  {
   "cell_type": "code",
   "execution_count": 28,
   "metadata": {},
   "outputs": [
    {
     "name": "stdout",
     "output_type": "stream",
     "text": [
      "ON TESTING DATA:\n",
      "Accuracy:\n",
      "0.14418604651162792\n",
      "Confusion Matrix:\n",
      "[[  0   0   0   0   0   0   0   0   0]\n",
      " [  0   0   0   2   0   0   0   0   0]\n",
      " [  0   0   0   8   1   0   0   0   0]\n",
      " [  0   0   0  34   7   0   0   0   1]\n",
      " [  0   2   5  72  25   1   2   0   1]\n",
      " [  0   5   1 102  21   2   2   0   5]\n",
      " [  0   4   0  71  14   1   1   0   4]\n",
      " [  1   0   0  21   7   2   0   0   0]\n",
      " [  0   0   0   3   2   0   0   0   0]]\n"
     ]
    }
   ],
   "source": [
    "# Testing data\n",
    "print(\"ON TESTING DATA:\")\n",
    "accuracy, confusion_m = evaluateClassificationModel(svm_linear, x_test, y_test)"
   ]
  },
  {
   "cell_type": "markdown",
   "metadata": {},
   "source": [
    "# Decision Trees"
   ]
  },
  {
   "cell_type": "code",
   "execution_count": 29,
   "metadata": {},
   "outputs": [
    {
     "data": {
      "text/plain": [
       "DecisionTreeClassifier(class_weight=None, criterion='gini', max_depth=15,\n",
       "                       max_features=None, max_leaf_nodes=None,\n",
       "                       min_impurity_decrease=0.0, min_impurity_split=None,\n",
       "                       min_samples_leaf=1, min_samples_split=2,\n",
       "                       min_weight_fraction_leaf=0.0, presort=False,\n",
       "                       random_state=None, splitter='best')"
      ]
     },
     "execution_count": 29,
     "metadata": {},
     "output_type": "execute_result"
    }
   ],
   "source": [
    "tree = tree.DecisionTreeClassifier(max_depth = 15)\n",
    "tree.fit(x_train, y_train)"
   ]
  },
  {
   "cell_type": "code",
   "execution_count": 30,
   "metadata": {},
   "outputs": [
    {
     "name": "stdout",
     "output_type": "stream",
     "text": [
      "ON TRAINING DATA:\n",
      "Accuracy:\n",
      "0.6636844245628304\n",
      "Confusion Matrix:\n",
      "[[  1   0   0   0   0   0   0   0   0]\n",
      " [  0   4   0   0   0   1   0   0   0]\n",
      " [  0   0  19   0   6  23   3   0   0]\n",
      " [  0   0   0 102  29 108   7   0   0]\n",
      " [  0   0   0   4 373 250   7   1   0]\n",
      " [  0   0   0   4  37 792  12   1   0]\n",
      " [  0   0   0   2  26 214 250   0   0]\n",
      " [  0   0   0   1  14  55   6  74   0]\n",
      " [  0   0   0   0   3  13   0   0  17]]\n"
     ]
    }
   ],
   "source": [
    "# Training data\n",
    "print(\"ON TRAINING DATA:\")\n",
    "accuracy, confusion_m = evaluateClassificationModel(tree, x_train, y_train)"
   ]
  },
  {
   "cell_type": "code",
   "execution_count": 31,
   "metadata": {},
   "outputs": [
    {
     "name": "stdout",
     "output_type": "stream",
     "text": [
      "ON TESTING DATA:\n",
      "Accuracy:\n",
      "0.29069767441860467\n",
      "Confusion Matrix:\n",
      "[[ 0  0  0  0  0  0  0  0  0]\n",
      " [ 0  0  0  0  0  2  0  0  0]\n",
      " [ 0  0  0  0  2  7  0  0  0]\n",
      " [ 0  0  0  4  9 24  4  1  0]\n",
      " [ 0  0  0  6 27 55 20  0  0]\n",
      " [ 1  0  2  8 24 86 15  2  0]\n",
      " [ 0  0  1  2 19 58  8  6  1]\n",
      " [ 0  0  0  4  7 20  0  0  0]\n",
      " [ 0  0  0  0  0  4  1  0  0]]\n"
     ]
    }
   ],
   "source": [
    "# Testing data\n",
    "print(\"ON TESTING DATA:\")\n",
    "accuracy, confusion_m = evaluateClassificationModel(tree, x_test, y_test)"
   ]
  },
  {
   "cell_type": "markdown",
   "metadata": {},
   "source": [
    "# Linear Discriminant Analysis"
   ]
  },
  {
   "cell_type": "code",
   "execution_count": 32,
   "metadata": {},
   "outputs": [
    {
     "name": "stderr",
     "output_type": "stream",
     "text": [
      "/Library/Frameworks/Python.framework/Versions/3.7/lib/python3.7/site-packages/sklearn/utils/validation.py:724: DataConversionWarning: A column-vector y was passed when a 1d array was expected. Please change the shape of y to (n_samples, ), for example using ravel().\n",
      "  y = column_or_1d(y, warn=True)\n",
      "/Library/Frameworks/Python.framework/Versions/3.7/lib/python3.7/site-packages/sklearn/discriminant_analysis.py:388: UserWarning: Variables are collinear.\n",
      "  warnings.warn(\"Variables are collinear.\")\n"
     ]
    },
    {
     "data": {
      "text/plain": [
       "LinearDiscriminantAnalysis(n_components=None, priors=None, shrinkage=None,\n",
       "                           solver='svd', store_covariance=False, tol=0.0001)"
      ]
     },
     "execution_count": 32,
     "metadata": {},
     "output_type": "execute_result"
    }
   ],
   "source": [
    "lda = LinearDiscriminantAnalysis()\n",
    "lda.fit(x_train, y_train)"
   ]
  },
  {
   "cell_type": "code",
   "execution_count": 33,
   "metadata": {},
   "outputs": [
    {
     "name": "stdout",
     "output_type": "stream",
     "text": [
      "ON TRAINING DATA:\n",
      "Accuracy:\n",
      "0.6120374135827572\n",
      "Confusion Matrix:\n",
      "[[  0   0   0   0   0   1   0   0   0]\n",
      " [  0   4   0   0   0   1   0   0   0]\n",
      " [  0   0  27   0   7  11   5   1   0]\n",
      " [  0   0   1 123  28  67  22   5   0]\n",
      " [  0   1   8  20 368 172  56   8   2]\n",
      " [  0   1   8  20  90 632  80  11   4]\n",
      " [  0   0   3  13  48 146 273   8   1]\n",
      " [  0   0   2   2  13  47  23  63   0]\n",
      " [  0   0   0   0   3  12   3   0  15]]\n"
     ]
    }
   ],
   "source": [
    "# Training data\n",
    "print(\"ON TRAINING DATA:\")\n",
    "accuracy, confusion_m = evaluateClassificationModel(lda, x_train, y_train)"
   ]
  },
  {
   "cell_type": "code",
   "execution_count": 34,
   "metadata": {},
   "outputs": [
    {
     "name": "stdout",
     "output_type": "stream",
     "text": [
      "ON TESTING DATA:\n",
      "Accuracy:\n",
      "0.29069767441860467\n",
      "Confusion Matrix:\n",
      "[[ 0  0  0  0  1  1  0  0]\n",
      " [ 0  0  0  1  8  0  0  0]\n",
      " [ 0  0  1  8 27  3  3  0]\n",
      " [ 0  6  3 18 65 13  3  0]\n",
      " [ 0  1  7 23 93 12  1  1]\n",
      " [ 0  3  4 20 53 13  2  0]\n",
      " [ 0  2  2  6 19  2  0  0]\n",
      " [ 0  0  0  1  3  1  0  0]]\n"
     ]
    }
   ],
   "source": [
    "# Testing data\n",
    "print(\"ON TESTING DATA:\")\n",
    "accuracy, confusion_m = evaluateClassificationModel(lda, x_test, y_test)"
   ]
  },
  {
   "cell_type": "markdown",
   "metadata": {},
   "source": [
    "# QDA"
   ]
  },
  {
   "cell_type": "code",
   "execution_count": 35,
   "metadata": {},
   "outputs": [],
   "source": [
    "# qda = QuadraticDiscriminantAnalysis()\n",
    "# qda.fit(x_train, y_train)"
   ]
  },
  {
   "cell_type": "code",
   "execution_count": 36,
   "metadata": {},
   "outputs": [],
   "source": [
    "# # Training data\n",
    "# print(\"ON TRAINING DATA:\")\n",
    "# accuracy, confusion_m = evaluateClassificationModel(qda, x_train, y_train)"
   ]
  },
  {
   "cell_type": "code",
   "execution_count": 37,
   "metadata": {},
   "outputs": [],
   "source": [
    "# # Testing data\n",
    "# print(\"ON TESTING DATA:\")\n",
    "# accuracy, confusion_m = evaluateClassificationModel(qda, x_test, y_test)"
   ]
  },
  {
   "cell_type": "markdown",
   "metadata": {},
   "source": [
    "# K Nearest Neighbors"
   ]
  },
  {
   "cell_type": "code",
   "execution_count": 38,
   "metadata": {},
   "outputs": [
    {
     "name": "stderr",
     "output_type": "stream",
     "text": [
      "/Library/Frameworks/Python.framework/Versions/3.7/lib/python3.7/site-packages/ipykernel_launcher.py:2: DataConversionWarning: A column-vector y was passed when a 1d array was expected. Please change the shape of y to (n_samples, ), for example using ravel().\n",
      "  \n"
     ]
    },
    {
     "data": {
      "text/plain": [
       "KNeighborsClassifier(algorithm='auto', leaf_size=30, metric='minkowski',\n",
       "                     metric_params=None, n_jobs=None, n_neighbors=20, p=2,\n",
       "                     weights='uniform')"
      ]
     },
     "execution_count": 38,
     "metadata": {},
     "output_type": "execute_result"
    }
   ],
   "source": [
    "neigh = KNeighborsClassifier(n_neighbors=20)\n",
    "neigh.fit(x_train, y_train)"
   ]
  },
  {
   "cell_type": "code",
   "execution_count": 39,
   "metadata": {},
   "outputs": [
    {
     "name": "stdout",
     "output_type": "stream",
     "text": [
      "ON TRAINING DATA:\n",
      "Accuracy:\n",
      "0.3981293208621391\n",
      "Confusion Matrix:\n",
      "[[  0   0   0   0   0   1   0   0   0]\n",
      " [  0   0   0   1   1   3   0   0   0]\n",
      " [  0   0   0   1  25  22   3   0   0]\n",
      " [  0   0   0  17  85 131  13   0   0]\n",
      " [  0   0   0  15 299 292  29   0   0]\n",
      " [  0   0   0  19 182 592  53   0   0]\n",
      " [  0   0   0  15 126 280  71   0   0]\n",
      " [  0   0   0   3  48  87  12   0   0]\n",
      " [  0   0   0   2  10  18   3   0   0]]\n"
     ]
    }
   ],
   "source": [
    "# Training data\n",
    "print(\"ON TRAINING DATA:\")\n",
    "accuracy, confusion_m = evaluateClassificationModel(neigh, x_train, y_train)"
   ]
  },
  {
   "cell_type": "code",
   "execution_count": 40,
   "metadata": {},
   "outputs": [
    {
     "name": "stdout",
     "output_type": "stream",
     "text": [
      "ON TESTING DATA:\n",
      "Accuracy:\n",
      "0.27674418604651163\n",
      "Confusion Matrix:\n",
      "[[ 0  0  0  0  2  0  0  0]\n",
      " [ 0  0  0  5  3  1  0  0]\n",
      " [ 0  0  0 15 26  1  0  0]\n",
      " [ 0  0  3 29 71  5  0  0]\n",
      " [ 0  0  2 38 85 13  0  0]\n",
      " [ 0  0  2 31 57  5  0  0]\n",
      " [ 0  0  2  4 23  2  0  0]\n",
      " [ 0  0  0  2  3  0  0  0]]\n"
     ]
    }
   ],
   "source": [
    "# Testing data\n",
    "print(\"ON TESTING DATA:\")\n",
    "accuracy, confusion_m = evaluateClassificationModel(neigh, x_test, y_test)"
   ]
  },
  {
   "cell_type": "markdown",
   "metadata": {},
   "source": [
    "# PCA"
   ]
  },
  {
   "cell_type": "code",
   "execution_count": 41,
   "metadata": {},
   "outputs": [],
   "source": [
    "pca = PCA(n_components=5)\n",
    "x_train_new = pca.fit_transform(x_train)\n",
    "x_test_new = pca.transform(x_test)"
   ]
  },
  {
   "cell_type": "code",
   "execution_count": 42,
   "metadata": {},
   "outputs": [
    {
     "name": "stderr",
     "output_type": "stream",
     "text": [
      "/Library/Frameworks/Python.framework/Versions/3.7/lib/python3.7/site-packages/sklearn/utils/validation.py:724: DataConversionWarning: A column-vector y was passed when a 1d array was expected. Please change the shape of y to (n_samples, ), for example using ravel().\n",
      "  y = column_or_1d(y, warn=True)\n"
     ]
    },
    {
     "data": {
      "text/plain": [
       "SVC(C=0.8, cache_size=200, class_weight=None, coef0=0.0,\n",
       "    decision_function_shape='ovr', degree=3, gamma='auto', kernel='rbf',\n",
       "    max_iter=-1, probability=False, random_state=None, shrinking=True,\n",
       "    tol=0.001, verbose=False)"
      ]
     },
     "execution_count": 42,
     "metadata": {},
     "output_type": "execute_result"
    }
   ],
   "source": [
    "svm_rbf_pca = SVC(gamma = 'auto', kernel='rbf', C=.8)\n",
    "svm_rbf_pca.fit(x_train_new, y_train)"
   ]
  },
  {
   "cell_type": "code",
   "execution_count": 43,
   "metadata": {},
   "outputs": [
    {
     "name": "stdout",
     "output_type": "stream",
     "text": [
      "ON TRAINING DATA:\n",
      "Accuracy:\n",
      "0.6738511590077267\n",
      "Confusion Matrix:\n",
      "[[  0   0   0   0   0   1   0   0   0]\n",
      " [  0   0   0   0   0   4   1   0   0]\n",
      " [  0   0   0   0   6  44   1   0   0]\n",
      " [  0   0   0   0  18 218  10   0   0]\n",
      " [  0   0   0   0 478 155   2   0   0]\n",
      " [  0   0   0   0   5 837   4   0   0]\n",
      " [  0   0   0   0  30 124 338   0   0]\n",
      " [  0   0   0   0   9 127  10   4   0]\n",
      " [  0   0   0   0   2  30   1   0   0]]\n"
     ]
    }
   ],
   "source": [
    "# Training data\n",
    "print(\"ON TRAINING DATA:\")\n",
    "accuracy, confusion_m = evaluateClassificationModel(svm_rbf_pca, x_train_new, y_train)"
   ]
  },
  {
   "cell_type": "code",
   "execution_count": 44,
   "metadata": {},
   "outputs": [
    {
     "name": "stdout",
     "output_type": "stream",
     "text": [
      "ON TESTING DATA:\n",
      "Accuracy:\n",
      "0.32558139534883723\n",
      "Confusion Matrix:\n",
      "[[  0   0   0   1   1   0   0   0]\n",
      " [  0   0   0   0   8   1   0   0]\n",
      " [  0   0   0   1  40   1   0   0]\n",
      " [  0   0   0  10  95   3   0   0]\n",
      " [  0   0   0   3 125  10   0   0]\n",
      " [  0   0   0   5  85   5   0   0]\n",
      " [  0   0   0   2  29   0   0   0]\n",
      " [  0   0   0   1   4   0   0   0]]\n"
     ]
    }
   ],
   "source": [
    "# Testing data\n",
    "print(\"ON TESTING DATA:\")\n",
    "accuracy, confusion_m = evaluateClassificationModel(svm_rbf_pca, x_test_new, y_test)"
   ]
  },
  {
   "cell_type": "markdown",
   "metadata": {
    "collapsed": true
   },
   "source": [
    "# Neural Networks"
   ]
  },
  {
   "cell_type": "code",
   "execution_count": 45,
   "metadata": {},
   "outputs": [
    {
     "name": "stderr",
     "output_type": "stream",
     "text": [
      "/Library/Frameworks/Python.framework/Versions/3.7/lib/python3.7/site-packages/sklearn/neural_network/multilayer_perceptron.py:921: DataConversionWarning: A column-vector y was passed when a 1d array was expected. Please change the shape of y to (n_samples, ), for example using ravel().\n",
      "  y = column_or_1d(y, warn=True)\n"
     ]
    },
    {
     "data": {
      "text/plain": [
       "MLPClassifier(activation='relu', alpha=1e-05, batch_size='auto', beta_1=0.9,\n",
       "              beta_2=0.999, early_stopping=False, epsilon=1e-08,\n",
       "              hidden_layer_sizes=(15, 10, 5), learning_rate='constant',\n",
       "              learning_rate_init=0.001, max_iter=200, momentum=0.9,\n",
       "              n_iter_no_change=10, nesterovs_momentum=True, power_t=0.5,\n",
       "              random_state=1, shuffle=True, solver='lbfgs', tol=0.0001,\n",
       "              validation_fraction=0.1, verbose=False, warm_start=False)"
      ]
     },
     "execution_count": 45,
     "metadata": {},
     "output_type": "execute_result"
    }
   ],
   "source": [
    "from sklearn.neural_network import MLPClassifier\n",
    "nn = MLPClassifier(solver='lbfgs', alpha=1e-5, hidden_layer_sizes=(15, 10, 5), random_state=1)\n",
    "nn.fit(x_train, y_train)"
   ]
  },
  {
   "cell_type": "code",
   "execution_count": 46,
   "metadata": {},
   "outputs": [
    {
     "name": "stdout",
     "output_type": "stream",
     "text": [
      "ON TRAINING DATA:\n",
      "Accuracy:\n",
      "0.10085400569337129\n",
      "Confusion Matrix:\n",
      "[[  0   0   0   1   0   0   0   0   0]\n",
      " [  0   0   0   5   0   0   0   0   0]\n",
      " [  0   0   0  51   0   0   0   0   0]\n",
      " [  0   0   0 245   0   0   0   1   0]\n",
      " [  0   0   0 631   1   1   1   1   0]\n",
      " [  0   0   0 844   1   0   1   0   0]\n",
      " [  0   0   0 492   0   0   0   0   0]\n",
      " [  0   0   0 148   0   0   0   2   0]\n",
      " [  0   0   0  33   0   0   0   0   0]]\n"
     ]
    }
   ],
   "source": [
    "# Training data\n",
    "print(\"ON TRAINING DATA:\")\n",
    "accuracy, confusion_m = evaluateClassificationModel(nn, x_train, y_train)"
   ]
  },
  {
   "cell_type": "code",
   "execution_count": 47,
   "metadata": {},
   "outputs": [
    {
     "name": "stdout",
     "output_type": "stream",
     "text": [
      "ON TESTING DATA:\n",
      "Accuracy:\n",
      "0.09534883720930233\n",
      "Confusion Matrix:\n",
      "[[  0   0   2   0   0   0   0   0]\n",
      " [  0   0   8   1   0   0   0   0]\n",
      " [  0   0  41   1   0   0   0   0]\n",
      " [  0   0 107   0   0   1   0   0]\n",
      " [  0   0 137   1   0   0   0   0]\n",
      " [  0   0  95   0   0   0   0   0]\n",
      " [  0   0  30   1   0   0   0   0]\n",
      " [  0   0   5   0   0   0   0   0]]\n"
     ]
    }
   ],
   "source": [
    "# Testing data\n",
    "print(\"ON TESTING DATA:\")\n",
    "accuracy, confusion_m = evaluateClassificationModel(nn, x_test, y_test)"
   ]
  },
  {
   "cell_type": "code",
   "execution_count": 48,
   "metadata": {},
   "outputs": [],
   "source": [
    "# Hidden layers: 20, 10, and 5 worked well"
   ]
  },
  {
   "cell_type": "code",
   "execution_count": null,
   "metadata": {},
   "outputs": [],
   "source": []
  }
 ],
 "metadata": {
  "anaconda-cloud": {},
  "kernelspec": {
   "display_name": "Python 3",
   "language": "python",
   "name": "python3"
  },
  "language_info": {
   "codemirror_mode": {
    "name": "ipython",
    "version": 3
   },
   "file_extension": ".py",
   "mimetype": "text/x-python",
   "name": "python",
   "nbconvert_exporter": "python",
   "pygments_lexer": "ipython3",
   "version": "3.7.4"
  }
 },
 "nbformat": 4,
 "nbformat_minor": 1
}
